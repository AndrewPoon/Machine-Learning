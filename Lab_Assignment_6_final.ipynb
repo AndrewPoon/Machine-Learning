{
 "cells": [
  {
   "cell_type": "code",
   "execution_count": 4,
   "metadata": {
    "id": "xsHn-vLS8wbn"
   },
   "outputs": [],
   "source": [
    "# You can import *ANYTHING* you want here.\n",
    "import numpy as np\n",
    "import matplotlib.pyplot as plt\n",
    "import matplotlib as mpl\n",
    "from sklearn.tree import DecisionTreeClassifier\n",
    "from sklearn.ensemble import BaggingClassifier, RandomForestClassifier\n",
    "from sklearn.metrics import accuracy_score\n",
    "import pandas as pd\n",
    "from tqdm import tqdm # this is just a tool to show a progress bar as your simulations are running"
   ]
  },
  {
   "cell_type": "markdown",
   "metadata": {
    "id": "ApvmWLsU8wbp"
   },
   "source": [
    "# Lab_Assignment 06: Trees and Random Forests\n",
    "\n",
    "Simulation is an incredibly useful tool in data science.  We can use simulation to evaluate how algorithms perform against ground truth, and how algorithms compare to one another.\n",
    "\n",
    "In this assignment, you will be implementing and extending the nested spheres simulation study found in *Elements of Statistical Learning* page 339. https://web.stanford.edu/~hastie/ElemStatLearn/\n",
    "\n",
    "# Nested Spheres\n",
    "\n",
    "Consider a dataset which contains 10 features $X_1 \\,, X_2 \\,, \\cdots \\,, X_{10}$.  The features are standard independent Gaussian random variables.  That is to say\n",
    "\n",
    "$$ X_j \\sim \\operatorname{Normal}(0,1) \\quad \\forall j = 1 \\dots 10$$\n",
    "\n",
    "We are going to use these features to study a classification problem.  You will have to create the target variable, $Y$ by computing the following rule:\n",
    "\n",
    "$$ Y = \\begin{cases}  1 \\quad \\mbox{ if } \\sum_{j=1}^{10} X^2_j>9.34 \\\\ 0 \\quad  \\mbox{else} \\end{cases}$$\n",
    "\n",
    "# The Simulation Study\n",
    "\n",
    "Follow these steps to complete the assignment. "
   ]
  },
  {
   "cell_type": "markdown",
   "metadata": {
    "id": "Ym70pVL28wbs"
   },
   "source": [
    "### Part 1 ( X / 25 pts )\n",
    "Write a function, `generate_data`, that takes a dataset size N and creates a dataset according to the rule above, returning the feature matrix `X` and the labels `y`."
   ]
  },
  {
   "cell_type": "code",
   "execution_count": 5,
   "metadata": {
    "id": "_Gbx5iUG8wbs"
   },
   "outputs": [
    {
     "name": "stdout",
     "output_type": "stream",
     "text": [
      "X:          X1        X2        X3        X4        X5        X6        X7  \\\n",
      "0  -1.284907  1.037772 -0.026214  0.174131 -0.946472 -0.050781  0.236211   \n",
      "1   1.334132  0.468017 -0.065795  0.547067 -0.455083  2.063389 -1.133502   \n",
      "2  -0.317335 -0.352119  1.499103 -0.870604  0.983542  0.816635  0.063539   \n",
      "3   0.770384 -1.045853  0.844915 -1.369019 -0.728035  0.179889  0.166825   \n",
      "4  -0.857049  0.126467 -1.138017 -0.926659 -0.139331 -0.370147  1.392108   \n",
      "5  -1.233272 -0.331270 -1.712716 -1.333673 -1.275876 -2.429419 -0.950825   \n",
      "6   0.806049  0.662343 -0.745117  0.506567  1.330682 -0.035114 -0.081878   \n",
      "7  -0.487486  0.125853  1.284496 -0.559506 -0.252875 -1.033536 -0.380469   \n",
      "8  -0.619386 -0.159283  1.486656  0.730279 -0.954688 -0.865532 -0.075638   \n",
      "9  -0.163201 -1.303435  0.688983  1.173443  1.511832  0.226036 -0.003164   \n",
      "10 -0.694557 -0.846683 -1.127517 -1.895212 -0.414639 -0.174030 -0.550217   \n",
      "11 -3.063980  0.188701 -0.570881  1.949558 -0.429378  0.034996 -1.116375   \n",
      "12 -0.011644  0.280278  1.085915  1.053991  0.618973  1.855520 -0.543652   \n",
      "13  1.867839  1.875645 -0.833650  2.067386 -1.812667 -1.704558  0.271777   \n",
      "14 -0.720627 -1.773767  0.601207 -0.087904  0.793660  0.090413 -0.590671   \n",
      "15 -0.134814  0.870828 -0.826783  1.571789  0.696140 -2.054553 -1.008664   \n",
      "16 -0.128431 -0.145472  1.117982  2.210316  0.321344 -0.770387 -1.022702   \n",
      "17 -1.816958  0.443970 -0.463953 -1.227658  0.033476  1.155019 -0.080887   \n",
      "18  0.370468  1.426905  0.817083 -2.219153 -0.413013  0.589859 -0.079665   \n",
      "19 -1.028767 -0.244229 -2.416550 -0.702784  1.131372 -1.677292  1.154486   \n",
      "20 -0.863624 -2.673350  1.141276  0.929135  1.501634 -0.422848 -0.031279   \n",
      "21  1.140698 -1.801140 -0.249396 -1.089121 -0.050302  0.617385  0.350039   \n",
      "22  0.666240 -1.523000 -0.508796  0.469850 -0.792016 -1.342297 -0.887530   \n",
      "23  2.836456 -1.264963 -0.173214  0.640594 -1.825395 -0.189845 -0.368106   \n",
      "24  0.715969 -0.548297  0.991189  0.627178 -1.822110 -1.554535 -0.499301   \n",
      "\n",
      "          X8        X9       X10  \n",
      "0   0.802427 -1.567358  0.998120  \n",
      "1   0.179885  0.281129  1.226128  \n",
      "2   2.621710  0.899036  0.229644  \n",
      "3  -1.191452  0.845979  0.226394  \n",
      "4  -0.478469  1.818015  0.334319  \n",
      "5  -1.174981  0.321438 -2.085050  \n",
      "6   1.032239  1.205584  1.204381  \n",
      "7  -0.522075  1.035830 -1.678142  \n",
      "8  -1.657028  0.825691  0.450425  \n",
      "9  -0.138615  0.641953  0.667215  \n",
      "10  1.311485 -0.613850 -2.397863  \n",
      "11 -0.284195  0.526605 -0.601459  \n",
      "12  0.007095 -0.816505  0.659859  \n",
      "13 -0.733447  0.023398  0.086576  \n",
      "14  0.200688 -0.769000  0.087345  \n",
      "15  0.727641 -0.340744  0.471336  \n",
      "16  0.235674  0.182275 -0.459624  \n",
      "17 -1.113255  1.482728 -1.011975  \n",
      "18 -1.019376  0.952771 -0.880580  \n",
      "19  1.658492  1.212255  0.755282  \n",
      "20 -0.869589  1.952965 -3.091335  \n",
      "21 -0.116988  0.096405  0.311570  \n",
      "22  0.655696 -1.428998  0.245927  \n",
      "23  0.436860  0.407579  1.959942  \n",
      "24 -0.248944 -0.942899  0.465029  \n",
      "Y:0     0\n",
      "1     1\n",
      "2     1\n",
      "3     0\n",
      "4     0\n",
      "5     1\n",
      "6     0\n",
      "7     0\n",
      "8     0\n",
      "9     0\n",
      "10    1\n",
      "11    1\n",
      "12    0\n",
      "13    1\n",
      "14    0\n",
      "15    1\n",
      "16    0\n",
      "17    1\n",
      "18    1\n",
      "19    1\n",
      "20    1\n",
      "21    0\n",
      "22    0\n",
      "23    1\n",
      "24    1\n",
      "Name: y, dtype: int32\n"
     ]
    }
   ],
   "source": [
    "def generate_data(N):\n",
    "    # Create feature matrix X and labels y\n",
    "    X={f'X{x+1}':list(np.random.normal(size=N))for x in range(10)}\n",
    "    X=pd.DataFrame(data=X)\n",
    "    rows=X.iterrows()\n",
    "    y=[]\n",
    "    for row in rows:\n",
    "      y.append(1 if sum([i**2 for i in row[1].values])>9.34 else 0)\n",
    "    X['y']=np.array(y).reshape(1,-1).T\n",
    "    return X.drop(['y'],axis=1),X.y\n",
    "\n",
    "sample_data=generate_data(25)\n",
    "print(f'X:{sample_data[0]}')\n",
    "print(f'Y:{sample_data[1]}')"
   ]
  },
  {
   "cell_type": "markdown",
   "metadata": {
    "id": "6tSr3RUK8wbt"
   },
   "source": [
    "## Part 2 ( X / 25 pts )\n",
    "\n",
    "Write a function `run_simulation` that accepts two numbers, Ntrain and Ntest. It should generate a training set and testing set using your `generate_data` function and then train **four classifiers**. The first should be a bagged decision tree, the second should be a random forest with `max_features=1`, the third should be a random forest with `max_features=3`, and the fourth can be anything you like, for example a random forest with more features. Use 500 trees in your random forests and the bagged classifier. The function should return the accuracy for each of these models estimated using the training set you generated."
   ]
  },
  {
   "cell_type": "code",
   "execution_count": 7,
   "metadata": {
    "colab": {
     "base_uri": "https://localhost:8080/"
    },
    "id": "2N80uz5g8wbt",
    "outputId": "340283a6-e22b-482b-c886-3b7c258f5ea0"
   },
   "outputs": [
    {
     "name": "stdout",
     "output_type": "stream",
     "text": [
      "(0.675, 0.675, 0.675, 0.675)\n"
     ]
    }
   ],
   "source": [
    "def run_simulation(Ntrain,Ntest):\n",
    "    # Code to generate data and run one simulation\n",
    "    X_train,y_train=generate_data(Ntrain)\n",
    "    X_test,y_test=generate_data(Ntest)\n",
    "\n",
    "    bag=BaggingClassifier(DecisionTreeClassifier(),n_estimators=500)\n",
    "    bag.fit(X_train,y_train)\n",
    "    bag_accuracy=accuracy_score(y_test,bag.predict(X_test))\n",
    "\n",
    "    rf_mf1=RandomForestClassifier(max_features=1,n_estimators=500)\n",
    "    rf_mf1.fit(X_train,y_train)\n",
    "    rf_mf1_accuracy=accuracy_score(y_test,rf_mf1.predict(X_test))\n",
    "\n",
    "    rf_mf3=RandomForestClassifier(max_features=3,n_estimators=500)\n",
    "    rf_mf3.fit(X_train,y_train)\n",
    "    rf_mf3_accuracy=accuracy_score(y_test,rf_mf3.predict(X_test))\n",
    "\n",
    "    rf_mf5=RandomForestClassifier(max_features=5,n_estimators=500)\n",
    "    rf_mf5.fit(X_train,y_train)\n",
    "    rf_mf5_accuracy=accuracy_score(y_test,rf_mf5.predict(X_test))\n",
    "    \n",
    "    return bag_accuracy, rf_mf1_accuracy, rf_mf3_accuracy, rf_mf5_accuracy\n",
    "\n",
    "print(f'{run_simulation(100, 40)}')"
   ]
  },
  {
   "cell_type": "markdown",
   "metadata": {
    "id": "p52eOsII8wbu"
   },
   "source": [
    "## Part 3 ( X / 25 pts )\n",
    "\n",
    "Run 50 simulations using a training set of size 1000 and a test set of size 5000 and record all the results in four vectors, one for each type of model. *You should probably debug your code using smaller training and test set sized first because these will take a while. The full simulation takes about 10 minutes on an old 2.8GHz core i5 laptop.*"
   ]
  },
  {
   "cell_type": "code",
   "execution_count": null,
   "metadata": {
    "colab": {
     "base_uri": "https://localhost:8080/"
    },
    "id": "1iGsqCm_8wbu",
    "outputId": "4c963ce3-9a35-44c5-b425-8cf87b607c84"
   },
   "outputs": [
    {
     "name": "stderr",
     "output_type": "stream",
     "text": [
      " 96%|██████████████████████████████████████████████████████████████████████████████▋   | 48/50 [07:19<00:19,  9.51s/it]"
     ]
    }
   ],
   "source": [
    "#Setup code to record results here:\n",
    "bag_res,rf_mf1_res,rf_mf3_res,rf_mf5_res=[],[],[],[]\n",
    "\n",
    "Nsim=50\n",
    "#Loop to run simulations:\n",
    "for sim in tqdm(range(Nsim)):\n",
    "    # Run simulations, collect data\n",
    "    b,r1,r3,r5=run_simulation(1000,5000)\n",
    "    bag_res.append(b)\n",
    "    rf_mf1_res.append(r1)\n",
    "    rf_mf3_res.append(r3)\n",
    "    rf_mf5_res.append(r5)\n"
   ]
  },
  {
   "cell_type": "markdown",
   "metadata": {
    "id": "3gGkqwrC8wbv"
   },
   "source": [
    "## Part 4 (X / 25 pts) \n",
    "Plot the error rates for each model using a boxplot for each one. The four models should be across the x-axis, and the y-axis should be accuracy."
   ]
  },
  {
   "cell_type": "code",
   "execution_count": 14,
   "metadata": {
    "colab": {
     "base_uri": "https://localhost:8080/",
     "height": 313
    },
    "id": "QokViDpf8wbw",
    "outputId": "0dc53350-9674-4f6f-a5f1-de8462bf1456"
   },
   "outputs": [
    {
     "data": {
      "text/plain": [
       "Text(0.5, 0, 'classifer')"
      ]
     },
     "execution_count": 14,
     "metadata": {},
     "output_type": "execute_result"
    },
    {
     "data": {
      "image/png": "[encoded data removed]",
      "text/plain": [
       "<Figure size 432x288 with 1 Axes>"
      ]
     },
     "metadata": {
      "needs_background": "light"
     },
     "output_type": "display_data"
    }
   ],
   "source": [
    "#Plot the error rates as a box plot by model to complete the assignment.\n",
    "df=pd.DataFrame({'bag':bag_res,'rf_mf1':rf_mf1_res,'rf_mf3':rf_mf3_res,'rf_mf5':rf_mf5_res})\n",
    "df.boxplot()\n",
    "plt.title('Box plot')\n",
    "plt.ylabel('Error')\n",
    "plt.xlabel('classifer')"
   ]
  }
 ],
 "metadata": {
  "colab": {
   "provenance": []
  },
  "kernelspec": {
   "display_name": "Python 3 (ipykernel)",
   "language": "python",
   "name": "python3"
  },
  "language_info": {
   "codemirror_mode": {
    "name": "ipython",
    "version": 3
   },
   "file_extension": ".py",
   "mimetype": "text/x-python",
   "name": "python",
   "nbconvert_exporter": "python",
   "pygments_lexer": "ipython3",
   "version": "3.9.12"
  }
 },
 "nbformat": 4,
 "nbformat_minor": 1
}
