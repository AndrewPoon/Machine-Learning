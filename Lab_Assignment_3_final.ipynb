{
  "cells": [
    {
      "cell_type": "markdown",
      "metadata": {
        "id": "0BAQ880zT9QM"
      },
      "source": [
        "# Lab Assignment 3: Classification with Logistic Regression\n",
        "\n",
        "# Total: /100\n",
        "\n",
        "## Instructions\n",
        "\n",
        "* Complete the Lab assignment\n",
        "\n",
        "* Once the notebook is complete, restart your kernel and rerun your cells\n",
        "\n",
        "* Submit this notebook to owl by the deadline\n",
        "\n",
        "* You may use any python library functions you wish to complete the Lab assignment.\n",
        "\n",
        "## The Dataset\n",
        "\n",
        "The dataset contains transactions made by credit cards in September 2013 by European cardholders. \n",
        "This dataset presents transactions that occurred in two days, where we have 492 frauds out of 284,807 transactions. The dataset is highly unbalanced, the positive class (frauds) account for 0.172% of all transactions.\n",
        "\n",
        "It contains only numerical input variables which are the result of a PCA transformation. Unfortunately, due to confidentiality issues, we cannot provide the original features and more background information about the data. Features V1, V2, … V28 are the principal components obtained with PCA, the only features which have not been transformed with PCA are 'Time' and 'Amount'. \\[You will learn about PCA in a later Lesson.\\] Feature 'Time' contains the seconds elapsed between each transaction and the first transaction in the dataset. The feature 'Amount' is the transaction Amount. Feature 'Class' is the response variable and it takes value 1 in case of fraud and 0 otherwise.\n",
        "\n",
        "You can read more about the data and the variables [here](https://www.kaggle.com/mlg-ulb/creditcardfraud)."
      ]
    },
    {
      "cell_type": "code",
      "execution_count": 1,
      "metadata": {
        "id": "YyOUucfhT9Qm"
      },
      "outputs": [],
      "source": [
        "# You may need these\n",
        "import pandas as pd\n",
        "import seaborn as sns\n",
        "import numpy as np\n",
        "from sklearn.model_selection import train_test_split\n",
        "from sklearn.linear_model import LogisticRegression\n",
        "from sklearn.metrics import confusion_matrix, roc_curve, precision_recall_curve, auc\n",
        "\n",
        "\n",
        "import matplotlib.pyplot as plt\n",
        "%matplotlib inline"
      ]
    },
    {
      "cell_type": "markdown",
      "metadata": {
        "id": "sM5Fbl__T9Qn"
      },
      "source": [
        "## Question 1: /5 pts\n",
        "\n",
        "**Read** in the `creditcard.csv` dataset and **display** the first 5 rows.\n"
      ]
    },
    {
      "cell_type": "code",
      "execution_count": 2,
      "metadata": {
        "colab": {
          "base_uri": "https://localhost:8080/",
          "height": 300
        },
        "id": "ANYDc8j8T9Qo",
        "outputId": "189a0ed5-1a34-446c-9eeb-efc7d9a2a3fd"
      },
      "outputs": [
        {
          "output_type": "execute_result",
          "data": {
            "text/plain": [
              "   Time        V1        V2        V3        V4        V5        V6        V7  \\\n",
              "0   0.0 -1.359807 -0.072781  2.536347  1.378155 -0.338321  0.462388  0.239599   \n",
              "1   0.0  1.191857  0.266151  0.166480  0.448154  0.060018 -0.082361 -0.078803   \n",
              "2   1.0 -1.358354 -1.340163  1.773209  0.379780 -0.503198  1.800499  0.791461   \n",
              "3   1.0 -0.966272 -0.185226  1.792993 -0.863291 -0.010309  1.247203  0.237609   \n",
              "4   2.0 -1.158233  0.877737  1.548718  0.403034 -0.407193  0.095921  0.592941   \n",
              "\n",
              "         V8        V9  ...       V21       V22       V23       V24       V25  \\\n",
              "0  0.098698  0.363787  ... -0.018307  0.277838 -0.110474  0.066928  0.128539   \n",
              "1  0.085102 -0.255425  ... -0.225775 -0.638672  0.101288 -0.339846  0.167170   \n",
              "2  0.247676 -1.514654  ...  0.247998  0.771679  0.909412 -0.689281 -0.327642   \n",
              "3  0.377436 -1.387024  ... -0.108300  0.005274 -0.190321 -1.175575  0.647376   \n",
              "4 -0.270533  0.817739  ... -0.009431  0.798278 -0.137458  0.141267 -0.206010   \n",
              "\n",
              "        V26       V27       V28  Amount  Class  \n",
              "0 -0.189115  0.133558 -0.021053  149.62      0  \n",
              "1  0.125895 -0.008983  0.014724    2.69      0  \n",
              "2 -0.139097 -0.055353 -0.059752  378.66      0  \n",
              "3 -0.221929  0.062723  0.061458  123.50      0  \n",
              "4  0.502292  0.219422  0.215153   69.99      0  \n",
              "\n",
              "[5 rows x 31 columns]"
            ],
            "text/html": [
              "\n",
              "  <div id=\"df-77b9bc2d-2ec1-4af2-8243-5545cb6686fd\">\n",
              "    <div class=\"colab-df-container\">\n",
              "      <div>\n",
              "<style scoped>\n",
              "    .dataframe tbody tr th:only-of-type {\n",
              "        vertical-align: middle;\n",
              "    }\n",
              "\n",
              "    .dataframe tbody tr th {\n",
              "        vertical-align: top;\n",
              "    }\n",
              "\n",
              "    .dataframe thead th {\n",
              "        text-align: right;\n",
              "    }\n",
              "</style>\n",
              "<table border=\"1\" class=\"dataframe\">\n",
              "  <thead>\n",
              "    <tr style=\"text-align: right;\">\n",
              "      <th></th>\n",
              "      <th>Time</th>\n",
              "      <th>V1</th>\n",
              "      <th>V2</th>\n",
              "      <th>V3</th>\n",
              "      <th>V4</th>\n",
              "      <th>V5</th>\n",
              "      <th>V6</th>\n",
              "      <th>V7</th>\n",
              "      <th>V8</th>\n",
              "      <th>V9</th>\n",
              "      <th>...</th>\n",
              "      <th>V21</th>\n",
              "      <th>V22</th>\n",
              "      <th>V23</th>\n",
              "      <th>V24</th>\n",
              "      <th>V25</th>\n",
              "      <th>V26</th>\n",
              "      <th>V27</th>\n",
              "      <th>V28</th>\n",
              "      <th>Amount</th>\n",
              "      <th>Class</th>\n",
              "    </tr>\n",
              "  </thead>\n",
              "  <tbody>\n",
              "    <tr>\n",
              "      <th>0</th>\n",
              "      <td>0.0</td>\n",
              "      <td>-1.359807</td>\n",
              "      <td>-0.072781</td>\n",
              "      <td>2.536347</td>\n",
              "      <td>1.378155</td>\n",
              "      <td>-0.338321</td>\n",
              "      <td>0.462388</td>\n",
              "      <td>0.239599</td>\n",
              "      <td>0.098698</td>\n",
              "      <td>0.363787</td>\n",
              "      <td>...</td>\n",
              "      <td>-0.018307</td>\n",
              "      <td>0.277838</td>\n",
              "      <td>-0.110474</td>\n",
              "      <td>0.066928</td>\n",
              "      <td>0.128539</td>\n",
              "      <td>-0.189115</td>\n",
              "      <td>0.133558</td>\n",
              "      <td>-0.021053</td>\n",
              "      <td>149.62</td>\n",
              "      <td>0</td>\n",
              "    </tr>\n",
              "    <tr>\n",
              "      <th>1</th>\n",
              "      <td>0.0</td>\n",
              "      <td>1.191857</td>\n",
              "      <td>0.266151</td>\n",
              "      <td>0.166480</td>\n",
              "      <td>0.448154</td>\n",
              "      <td>0.060018</td>\n",
              "      <td>-0.082361</td>\n",
              "      <td>-0.078803</td>\n",
              "      <td>0.085102</td>\n",
              "      <td>-0.255425</td>\n",
              "      <td>...</td>\n",
              "      <td>-0.225775</td>\n",
              "      <td>-0.638672</td>\n",
              "      <td>0.101288</td>\n",
              "      <td>-0.339846</td>\n",
              "      <td>0.167170</td>\n",
              "      <td>0.125895</td>\n",
              "      <td>-0.008983</td>\n",
              "      <td>0.014724</td>\n",
              "      <td>2.69</td>\n",
              "      <td>0</td>\n",
              "    </tr>\n",
              "    <tr>\n",
              "      <th>2</th>\n",
              "      <td>1.0</td>\n",
              "      <td>-1.358354</td>\n",
              "      <td>-1.340163</td>\n",
              "      <td>1.773209</td>\n",
              "      <td>0.379780</td>\n",
              "      <td>-0.503198</td>\n",
              "      <td>1.800499</td>\n",
              "      <td>0.791461</td>\n",
              "      <td>0.247676</td>\n",
              "      <td>-1.514654</td>\n",
              "      <td>...</td>\n",
              "      <td>0.247998</td>\n",
              "      <td>0.771679</td>\n",
              "      <td>0.909412</td>\n",
              "      <td>-0.689281</td>\n",
              "      <td>-0.327642</td>\n",
              "      <td>-0.139097</td>\n",
              "      <td>-0.055353</td>\n",
              "      <td>-0.059752</td>\n",
              "      <td>378.66</td>\n",
              "      <td>0</td>\n",
              "    </tr>\n",
              "    <tr>\n",
              "      <th>3</th>\n",
              "      <td>1.0</td>\n",
              "      <td>-0.966272</td>\n",
              "      <td>-0.185226</td>\n",
              "      <td>1.792993</td>\n",
              "      <td>-0.863291</td>\n",
              "      <td>-0.010309</td>\n",
              "      <td>1.247203</td>\n",
              "      <td>0.237609</td>\n",
              "      <td>0.377436</td>\n",
              "      <td>-1.387024</td>\n",
              "      <td>...</td>\n",
              "      <td>-0.108300</td>\n",
              "      <td>0.005274</td>\n",
              "      <td>-0.190321</td>\n",
              "      <td>-1.175575</td>\n",
              "      <td>0.647376</td>\n",
              "      <td>-0.221929</td>\n",
              "      <td>0.062723</td>\n",
              "      <td>0.061458</td>\n",
              "      <td>123.50</td>\n",
              "      <td>0</td>\n",
              "    </tr>\n",
              "    <tr>\n",
              "      <th>4</th>\n",
              "      <td>2.0</td>\n",
              "      <td>-1.158233</td>\n",
              "      <td>0.877737</td>\n",
              "      <td>1.548718</td>\n",
              "      <td>0.403034</td>\n",
              "      <td>-0.407193</td>\n",
              "      <td>0.095921</td>\n",
              "      <td>0.592941</td>\n",
              "      <td>-0.270533</td>\n",
              "      <td>0.817739</td>\n",
              "      <td>...</td>\n",
              "      <td>-0.009431</td>\n",
              "      <td>0.798278</td>\n",
              "      <td>-0.137458</td>\n",
              "      <td>0.141267</td>\n",
              "      <td>-0.206010</td>\n",
              "      <td>0.502292</td>\n",
              "      <td>0.219422</td>\n",
              "      <td>0.215153</td>\n",
              "      <td>69.99</td>\n",
              "      <td>0</td>\n",
              "    </tr>\n",
              "  </tbody>\n",
              "</table>\n",
              "<p>5 rows × 31 columns</p>\n",
              "</div>\n",
              "      <button class=\"colab-df-convert\" onclick=\"convertToInteractive('df-77b9bc2d-2ec1-4af2-8243-5545cb6686fd')\"\n",
              "              title=\"Convert this dataframe to an interactive table.\"\n",
              "              style=\"display:none;\">\n",
              "        \n",
              "  <svg xmlns=\"http://www.w3.org/2000/svg\" height=\"24px\"viewBox=\"0 0 24 24\"\n",
              "       width=\"24px\">\n",
              "    <path d=\"M0 0h24v24H0V0z\" fill=\"none\"/>\n",
              "    <path d=\"M18.56 5.44l.94 2.06.94-2.06 2.06-.94-2.06-.94-.94-2.06-.94 2.06-2.06.94zm-11 1L8.5 8.5l.94-2.06 2.06-.94-2.06-.94L8.5 2.5l-.94 2.06-2.06.94zm10 10l.94 2.06.94-2.06 2.06-.94-2.06-.94-.94-2.06-.94 2.06-2.06.94z\"/><path d=\"M17.41 7.96l-1.37-1.37c-.4-.4-.92-.59-1.43-.59-.52 0-1.04.2-1.43.59L10.3 9.45l-7.72 7.72c-.78.78-.78 2.05 0 2.83L4 21.41c.39.39.9.59 1.41.59.51 0 1.02-.2 1.41-.59l7.78-7.78 2.81-2.81c.8-.78.8-2.07 0-2.86zM5.41 20L4 18.59l7.72-7.72 1.47 1.35L5.41 20z\"/>\n",
              "  </svg>\n",
              "      </button>\n",
              "      \n",
              "  <style>\n",
              "    .colab-df-container {\n",
              "      display:flex;\n",
              "      flex-wrap:wrap;\n",
              "      gap: 12px;\n",
              "    }\n",
              "\n",
              "    .colab-df-convert {\n",
              "      background-color: #E8F0FE;\n",
              "      border: none;\n",
              "      border-radius: 50%;\n",
              "      cursor: pointer;\n",
              "      display: none;\n",
              "      fill: #1967D2;\n",
              "      height: 32px;\n",
              "      padding: 0 0 0 0;\n",
              "      width: 32px;\n",
              "    }\n",
              "\n",
              "    .colab-df-convert:hover {\n",
              "      background-color: #E2EBFA;\n",
              "      box-shadow: 0px 1px 2px rgba(60, 64, 67, 0.3), 0px 1px 3px 1px rgba(60, 64, 67, 0.15);\n",
              "      fill: #174EA6;\n",
              "    }\n",
              "\n",
              "    [theme=dark] .colab-df-convert {\n",
              "      background-color: #3B4455;\n",
              "      fill: #D2E3FC;\n",
              "    }\n",
              "\n",
              "    [theme=dark] .colab-df-convert:hover {\n",
              "      background-color: #434B5C;\n",
              "      box-shadow: 0px 1px 3px 1px rgba(0, 0, 0, 0.15);\n",
              "      filter: drop-shadow(0px 1px 2px rgba(0, 0, 0, 0.3));\n",
              "      fill: #FFFFFF;\n",
              "    }\n",
              "  </style>\n",
              "\n",
              "      <script>\n",
              "        const buttonEl =\n",
              "          document.querySelector('#df-77b9bc2d-2ec1-4af2-8243-5545cb6686fd button.colab-df-convert');\n",
              "        buttonEl.style.display =\n",
              "          google.colab.kernel.accessAllowed ? 'block' : 'none';\n",
              "\n",
              "        async function convertToInteractive(key) {\n",
              "          const element = document.querySelector('#df-77b9bc2d-2ec1-4af2-8243-5545cb6686fd');\n",
              "          const dataTable =\n",
              "            await google.colab.kernel.invokeFunction('convertToInteractive',\n",
              "                                                     [key], {});\n",
              "          if (!dataTable) return;\n",
              "\n",
              "          const docLinkHtml = 'Like what you see? Visit the ' +\n",
              "            '<a target=\"_blank\" href=https://colab.research.google.com/notebooks/data_table.ipynb>data table notebook</a>'\n",
              "            + ' to learn more about interactive tables.';\n",
              "          element.innerHTML = '';\n",
              "          dataTable['output_type'] = 'display_data';\n",
              "          await google.colab.output.renderOutput(dataTable, element);\n",
              "          const docLink = document.createElement('div');\n",
              "          docLink.innerHTML = docLinkHtml;\n",
              "          element.appendChild(docLink);\n",
              "        }\n",
              "      </script>\n",
              "    </div>\n",
              "  </div>\n",
              "  "
            ]
          },
          "metadata": {},
          "execution_count": 2
        }
      ],
      "source": [
        "# Question 1 code here\n",
        "cc=pd.read_csv('creditcard.csv')\n",
        "cc.head()"
      ]
    },
    {
      "cell_type": "markdown",
      "metadata": {
        "id": "ovYDhuXmT9Qo"
      },
      "source": [
        "## Question 2: /5 pts\n",
        "\n",
        "Then **split the data** into train and test for the outcome/response and the predictor variables. Hold out 50% of observations as the test set.  Pass `random_state=0` to `train_test_split` to ensure you get the same train and tests sets as the solution."
      ]
    },
    {
      "cell_type": "code",
      "execution_count": 3,
      "metadata": {
        "id": "I5dDEEPcT9Qp"
      },
      "outputs": [],
      "source": [
        "# Question 2 code here.\n",
        "X=cc.drop('Class',axis='columns').values\n",
        "y=cc.Class.values\n",
        "\n",
        "Xtrain, Xtest, ytrain, ytest = train_test_split(X,y,test_size=0.5,random_state=0)\n"
      ]
    },
    {
      "cell_type": "markdown",
      "metadata": {
        "id": "0Z5zIWPLT9Qp"
      },
      "source": [
        "## Question 3: /5 pts \n",
        "\n",
        "Read the documentation for [sklearn's `LogisticRegression`](https://scikit-learn.org/stable/modules/generated/sklearn.linear_model.LogisticRegression.html).  In no more than 2 sentences per bullet point, answer the following in your own words:\n",
        "\n",
        "1. **Does `LogisticRegression` use a penalty by default?**  If yes, **what penalty?**\n",
        "\n",
        "  *YOUR ANSWER HERE*: Yes, The default penalty LogisitcRegression is l2.\n",
        "  \n",
        "    \n",
        "2. If we apply a penalty during learning, **what difference do you expect to see in the resulting coefficients**, relative to not applying a penalty during learning?\n",
        "\n",
        "  *YOUR ANSWER HERE:* The coefficients will not overfit the data as much since the point of the penalty is to reduce overfitting.\n",
        "    \n",
        "    \n",
        "3. If using the **default settings of `LogisticRegression` in `sklearn`, should you include a column of 1s in your feature/design matrix?** Briefly **explain why or why not.**\n",
        "\n",
        "  *YOUR ANSWER HERE:* No since the column of 1s are included within the matrix.\n",
        " "
      ]
    },
    {
      "cell_type": "markdown",
      "metadata": {
        "id": "M8JESolcT9Qp"
      },
      "source": [
        "## Question 4: /15 pts\n",
        "\n",
        "* **Create** a instance of sklearn's `LogisticRegression` object for unpenalized logistic regression. Note: If you get a warning about convergence of `coef_`, try increasing the `max_iter` parameter.  Use `max_iter=10000` which seems to supress the warning.\n",
        "\n",
        "\n",
        "* Using this object, **run a logisitic regression analysis of `Class` (y-variable) against `Amount` (x-variable) using your training data.** \n",
        "\n",
        "\n",
        "* Then **make a scatter-plot of `Amount` and `Outcome` on your test data** and add the class prediction (0 or 1, using `predict`) and the predicted probability of a positive outcome (using `predict_proba`). Note that `predict_proba` will return both p(Outcome=0) and p(Outcome=1)."
      ]
    },
    {
      "cell_type": "code",
      "execution_count": 4,
      "metadata": {
        "colab": {
          "base_uri": "https://localhost:8080/",
          "height": 312
        },
        "id": "BFpthCXZT9Qq",
        "outputId": "7d0e9e84-c9ad-4de1-9b8e-01233ee6c6d5"
      },
      "outputs": [
        {
          "output_type": "execute_result",
          "data": {
            "text/plain": [
              "<matplotlib.axes._subplots.AxesSubplot at 0x7f69cda89e90>"
            ]
          },
          "metadata": {},
          "execution_count": 4
        },
        {
          "output_type": "display_data",
          "data": {
            "text/plain": [
              "<Figure size 432x288 with 1 Axes>"
            ],
            "image/png": "[encoded data removed]"
          },
          "metadata": {
            "needs_background": "light"
          }
        }
      ],
      "source": [
        "# Question 4 code here\n",
        "CCLR=LogisticRegression(penalty='none',max_iter=10000)\n",
        "cclr=CCLR.fit([[v[-1]]for v in Xtrain],ytrain)\n",
        "\n",
        "amt=[[v[-1]] for v in Xtest]\n",
        "amtLin=np.reshape(np.linspace(0,max(amt),50),(-1,1))\n",
        "\n",
        "plt.scatter(amt,ytest)\n",
        "plt.xlabel('Amount')\n",
        "plt.ylabel('Fraud Classification')\n",
        "plt.title('Amount Logistic Regression')\n",
        "sns.lineplot(x=amtLin[:,0],y=cclr.predict(amtLin))\n",
        "sns.lineplot(x=amtLin[:,0],y=cclr.predict_proba(amtLin)[:,1])"
      ]
    },
    {
      "cell_type": "markdown",
      "source": [],
      "metadata": {
        "id": "iPIhlv3qhmuO"
      }
    },
    {
      "cell_type": "markdown",
      "metadata": {
        "id": "pF3RoIeXT9Qq"
      },
      "source": [
        "## Question 5: 15 pts\n",
        "\n",
        "* **Compute the label-based criteria** we discussed in the Lesson for your amount-only classifier **using the test data**. Use a threshold of 0.5. \n",
        "\n",
        "\n",
        "* **Answer the questions** in this text box below:\n",
        "\n",
        "    **1. How many of the test instances are labeled positive by your classifier?**\n",
        "\n",
        "    *YOUR ANSWER HERE:* Only 1 test instance are labeled positive.\n",
        "\n",
        "    **2. Choose one of the positively-labeled test instances, and explain why the classifier labeled    it positive.**\n",
        "\n",
        "    *YOUR ANSWER HERE:* The reason why that instance was labeled positive is due to the amount value for that instance being incrediblely large.\n",
        "\n",
        "    **3. Is this classifier useful for finding fraudulent transactions? Explain in one or two sentences.**\n",
        "\n",
        "    *YOUR ANSWER HERE:*No, since it detect no true positive and instead detected 244 false results.\n"
      ]
    },
    {
      "cell_type": "code",
      "execution_count": 5,
      "metadata": {
        "colab": {
          "base_uri": "https://localhost:8080/"
        },
        "id": "eWAhtTfWT9Qr",
        "outputId": "29f37150-d1d5-4c77-a58b-a93c267165b2"
      },
      "outputs": [
        {
          "output_type": "stream",
          "name": "stdout",
          "text": [
            "tp: 0 tn: 142160 fp: 1 fn: 243\n",
            "Accuracy: 0.998 Recall: 0.0 Precision: 0.0 Sensitivity: 0.0 Specificity: 1.0\n"
          ]
        }
      ],
      "source": [
        "# Calculate performance measures from scratch\n",
        "# TP: true postives \n",
        "# TN: true negatives \n",
        "# FP: False positives \n",
        "# FN: False negatives\n",
        "def compute_performance(yhat, y, classes):\n",
        "    # First, get tp, tn, fp, fn\n",
        "    tp = sum(np.logical_and(yhat == classes[1], y == classes[1]))\n",
        "    tn = sum(np.logical_and(yhat == classes[0], y == classes[0]))\n",
        "    fp = sum(np.logical_and(yhat == classes[1], y == classes[0]))\n",
        "    fn = sum(np.logical_and(yhat == classes[0], y == classes[1]))\n",
        "\n",
        "    print(f\"tp: {tp} tn: {tn} fp: {fp} fn: {fn}\")\n",
        "    \n",
        "    # Accuracy\n",
        "    acc = (tp + tn) / (tp + tn + fp + fn)\n",
        "    \n",
        "    # Precision\n",
        "    # \"Of the ones I labeled +, how many are actually +?\"\n",
        "    precision = tp / (tp + fp)\n",
        "    \n",
        "    # Recall\n",
        "    # \"Of all the + in the data, how many do I correctly label?\"\n",
        "    recall = tp / (tp + fn)    \n",
        "    \n",
        "    # Sensitivity\n",
        "    # \"Of all the + in the data, how many do I correctly label?\"\n",
        "    sensitivity = recall\n",
        "    \n",
        "    # Specificity\n",
        "    # \"Of all the - in the data, how many do I correctly label?\"\n",
        "    specificity = tn / (fp + tn)\n",
        "    \n",
        "    # Print results\n",
        "    \n",
        "    print(\"Accuracy:\",round(acc,3),\"Recall:\",round(recall,3),\"Precision:\",round(precision,3),\n",
        "          \"Sensitivity:\",round(sensitivity,3),\"Specificity:\",round(specificity,3))\n",
        "\n",
        "## Put code here to compute criteria:\n",
        "compute_performance(((cclr.predict(amt)>0.5).astype(int)),ytest,cclr.classes_)\n",
        "\n",
        "## Put code here to compute whatever else you might need to answer the question.\n",
        "\n"
      ]
    },
    {
      "cell_type": "markdown",
      "metadata": {
        "id": "5J_3xAKXT9Qr"
      },
      "source": [
        "## Question 6: /10 pts\n",
        "* Now **fit a logistic regression model to the training data** and include all the variables in the data frame in the cell below. You will want to make a new object like you did for the simpler model. \n",
        "\n",
        "\n",
        "* **Answer the following question?**\n",
        "   According to this more complex model, are larger or smaller Amounts more strongly associated with fraud, if all other variables are held equal?\n",
        "\n",
        "   *YOUR ANSWER HERE:* Smaller amounts are strongly associated with fraud.\n"
      ]
    },
    {
      "cell_type": "code",
      "execution_count": 6,
      "metadata": {
        "id": "6BFP66K8T9Qs",
        "colab": {
          "base_uri": "https://localhost:8080/"
        },
        "outputId": "7586443c-49e0-4caa-af48-782a62f065b5"
      },
      "outputs": [
        {
          "output_type": "execute_result",
          "data": {
            "text/plain": [
              "array([[-5.98250374e-05,  4.54054884e-01, -3.87623351e-01,\n",
              "        -1.17675570e+00,  1.19803390e-01, -2.01365942e-01,\n",
              "        -4.79245189e-02,  9.11985547e-01, -4.94356916e-01,\n",
              "        -5.94163280e-01, -4.95528895e-01, -6.30704845e-01,\n",
              "         1.03717945e-01, -4.79236476e-01, -8.04839032e-01,\n",
              "        -9.78809879e-01, -4.55495910e-01, -4.86843862e-01,\n",
              "         1.64033031e-01, -2.75136955e-02,  2.48220898e-01,\n",
              "         6.54323054e-01,  6.56687695e-01,  7.06184223e-02,\n",
              "        -5.74627300e-02, -8.49796582e-01,  1.93299637e-01,\n",
              "        -1.28604921e-01,  1.21862188e-01, -6.37616338e-03]])"
            ]
          },
          "metadata": {},
          "execution_count": 6
        }
      ],
      "source": [
        "# Code for Question 6\n",
        "LR=LogisticRegression(penalty='none', max_iter=10000)\n",
        "alllr=LR.fit(Xtrain,ytrain)\n",
        "alllr.coef_\n"
      ]
    },
    {
      "cell_type": "markdown",
      "metadata": {
        "id": "aubMFUmcT9Qs"
      },
      "source": [
        "## Question 7: /15 pts\n",
        "\n",
        "In the cell below:\n",
        "* Compute the label-based criteria we discussed in the Lesson for new classifier using the test data. (You don't have to copy the function down into this cell; just call it again here.) Use a threshold of 0.5. \n",
        "\n",
        "\n",
        "* Answer the questions in this text box below.\n",
        "\n",
        "  **1. How many of the test instances are labeled positive by your classifier?**\n",
        "\n",
        "   *YOUR ANSWER:*183\n",
        "\n",
        "  **2. Is this classifier **better or worse than the amount-only classifier** for finding fraudulent transactions? Explain in one or two sentences.*\n",
        "\n",
        "   *YOUR ANSWER:* The new classifier is a lot better at detecting fraud. The accuracy, recall, precision and sensitivity are significantly better than the one for amount.\n"
      ]
    },
    {
      "cell_type": "code",
      "execution_count": 7,
      "metadata": {
        "id": "KAiAqWWTT9Qs",
        "colab": {
          "base_uri": "https://localhost:8080/"
        },
        "outputId": "984923d5-a1a1-4bb4-8ef7-ec30b1bf06e2"
      },
      "outputs": [
        {
          "output_type": "stream",
          "name": "stdout",
          "text": [
            "tp: 154 tn: 142132 fp: 29 fn: 89\n",
            "Accuracy: 0.999 Recall: 0.634 Precision: 0.842 Sensitivity: 0.634 Specificity: 1.0\n"
          ]
        }
      ],
      "source": [
        "# Code for Question 7\n",
        "pred1c = alllr.predict(Xtest)\n",
        "compute_performance((pred1c>0.5).astype(int), ytest, alllr.classes_)\n"
      ]
    },
    {
      "cell_type": "markdown",
      "metadata": {
        "id": "raHcvFakT9Qs"
      },
      "source": [
        "# Question 8: /15 pts\n",
        "\n",
        "* Plot **ROC curves** for **both of your classifiers** using the cells below. \n",
        "\n",
        "\n",
        "* Then answer the following questions, computing whatever quantities you need to answer them.\n",
        "\n",
        "  **1. Which classifier** has a higher estimated probability of correctly distinguishing between a positive and a negative instance? **How do you know?**\n",
        "\n",
        "   *YOUR ANSWER:* The all classifiers will have higher probablity of a positive/negative instance since the ROC curve is above y=x meaning it is able to predict more accurately than random. Also the performance on precision for the all classifiers is a lot better than amount classifier.\n",
        "\n",
        " **2. How could you explain** a result where a logistic regression classifier produces an AUROC that is \"worse than random\", i.e. less than 0.5, even on its training set?\n",
        "\n",
        "   *YOUR ANSWER:* That's because the amount classifier is prediciting more false positives than true positives for the entire training sets.\n"
      ]
    },
    {
      "cell_type": "code",
      "execution_count": 8,
      "metadata": {
        "id": "GSnY8H8TT9Qt",
        "colab": {
          "base_uri": "https://localhost:8080/",
          "height": 312
        },
        "outputId": "f07cb1df-b739-4b8f-b586-2667fd4cc1f5"
      },
      "outputs": [
        {
          "output_type": "execute_result",
          "data": {
            "text/plain": [
              "Text(0.5, 1.0, 'Amount ROC Classifier')"
            ]
          },
          "metadata": {},
          "execution_count": 8
        },
        {
          "output_type": "display_data",
          "data": {
            "text/plain": [
              "<Figure size 432x288 with 1 Axes>"
            ],
            "image/png": "[encoded data removed]"
          },
          "metadata": {
            "needs_background": "light"
          }
        }
      ],
      "source": [
        "# ROC for Amount-only classifier\n",
        "amProba=cclr.predict_proba(amt)[:,1]\n",
        "fp_amount,tp_amount,_=roc_curve(ytest,amProba)\n",
        "ax=sns.lineplot(x=fp_amount,y=tp_amount)\n",
        "plt.xlabel('False Positive')\n",
        "plt.ylabel('True Positive')\n",
        "plt.title('Amount ROC Classifier')\n"
      ]
    },
    {
      "cell_type": "code",
      "execution_count": 9,
      "metadata": {
        "id": "ZkbRwpULT9Qt",
        "colab": {
          "base_uri": "https://localhost:8080/",
          "height": 312
        },
        "outputId": "624364ee-9cd2-4c61-b1a4-c8313f4fcbe1"
      },
      "outputs": [
        {
          "output_type": "execute_result",
          "data": {
            "text/plain": [
              "Text(0.5, 1.0, 'All ROC Classifier')"
            ]
          },
          "metadata": {},
          "execution_count": 9
        },
        {
          "output_type": "display_data",
          "data": {
            "text/plain": [
              "<Figure size 432x288 with 1 Axes>"
            ],
            "image/png": "[encoded data removed]"
          },
          "metadata": {
            "needs_background": "light"
          }
        }
      ],
      "source": [
        "# ROC for all-variable classifier\n",
        "allProba=alllr.predict_proba(Xtest)[:,1]\n",
        "fp_all,tp_all,_=roc_curve(ytest,allProba)\n",
        "ax=sns.lineplot(x=fp_all,y=tp_all)\n",
        "plt.xlabel('False Positive')\n",
        "plt.ylabel('True Positive')\n",
        "plt.title('All ROC Classifier')"
      ]
    },
    {
      "cell_type": "markdown",
      "metadata": {
        "id": "MeZSZncIT9Qt"
      },
      "source": [
        "# Question 9: /15 pts\n",
        "\n",
        "**1. Plot precision-recall curves for both of your classifiers** using the cell below. Be sure to **label your axes**.\n",
        "\n",
        "\n",
        "**2. Which classifier is preferable if we want to recover at least 60% of fraudulent transactions?**\n",
        "\n",
        "   *YOUR ANSWER:* The classifier that takes all of the covariates into account.\n"
      ]
    },
    {
      "cell_type": "code",
      "execution_count": 10,
      "metadata": {
        "id": "KG3wkN5NT9Qt",
        "colab": {
          "base_uri": "https://localhost:8080/",
          "height": 312
        },
        "outputId": "ddfb16cf-ef28-4ab6-c828-2ecfd804cf5d"
      },
      "outputs": [
        {
          "output_type": "execute_result",
          "data": {
            "text/plain": [
              "Text(0.5, 1.0, 'Precision Recall curve for amount')"
            ]
          },
          "metadata": {},
          "execution_count": 10
        },
        {
          "output_type": "display_data",
          "data": {
            "text/plain": [
              "<Figure size 432x288 with 1 Axes>"
            ],
            "image/png": "[encoded data removed]"
          },
          "metadata": {
            "needs_background": "light"
          }
        }
      ],
      "source": [
        "# PRC for Amount-only classifier\n",
        "pre, recall,_=precision_recall_curve(ytest,cclr.predict_proba(amt)[:,1])\n",
        "ax=sns.lineplot(x=recall,y=pre)\n",
        "plt.xlabel('Recall')\n",
        "plt.ylabel('Precision')\n",
        "plt.title('Precision Recall curve for amount')"
      ]
    },
    {
      "cell_type": "code",
      "execution_count": 11,
      "metadata": {
        "id": "yJMZtazQT9Qu",
        "colab": {
          "base_uri": "https://localhost:8080/",
          "height": 312
        },
        "outputId": "1053fb54-07f0-41a1-ecd5-030552e2d44a"
      },
      "outputs": [
        {
          "output_type": "execute_result",
          "data": {
            "text/plain": [
              "Text(0.5, 1.0, 'Precision Recall curve for all')"
            ]
          },
          "metadata": {},
          "execution_count": 11
        },
        {
          "output_type": "display_data",
          "data": {
            "text/plain": [
              "<Figure size 432x288 with 1 Axes>"
            ],
            "image/png": "[encoded data removed]"
          },
          "metadata": {
            "needs_background": "light"
          }
        }
      ],
      "source": [
        "# PRC for all-variable classifier\n",
        "pre, recall,_=precision_recall_curve(ytest,alllr.predict_proba(Xtest)[:,1])\n",
        "ax=sns.lineplot(x=recall,y=pre)\n",
        "plt.xlabel('Recall')\n",
        "plt.ylabel('Precision')\n",
        "plt.title('Precision Recall curve for all')"
      ]
    },
    {
      "cell_type": "code",
      "execution_count": null,
      "metadata": {
        "id": "OlzXk0l6T9Qu"
      },
      "outputs": [],
      "source": []
    }
  ],
  "metadata": {
    "kernelspec": {
      "display_name": "Python 3 (ipykernel)",
      "language": "python",
      "name": "python3"
    },
    "language_info": {
      "codemirror_mode": {
        "name": "ipython",
        "version": 3
      },
      "file_extension": ".py",
      "mimetype": "text/x-python",
      "name": "python",
      "nbconvert_exporter": "python",
      "pygments_lexer": "ipython3",
      "version": "3.9.7"
    },
    "colab": {
      "provenance": [],
      "collapsed_sections": []
    }
  },
  "nbformat": 4,
  "nbformat_minor": 0
}