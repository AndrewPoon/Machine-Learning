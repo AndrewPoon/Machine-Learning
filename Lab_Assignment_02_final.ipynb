{
  "cells": [
    {
      "cell_type": "markdown",
      "metadata": {
        "id": "rfuZPgApy0Cm"
      },
      "source": [
        "# Grade: /100 Mark(s)\n",
        "\n",
        "# Lab Assignment 02: Maximum Likelihood\n",
        "\n",
        "\n",
        "### Maximum Likelihood\n",
        "\n",
        "The poisson distribution https://en.wikipedia.org/wiki/Poisson_distribution is a discrete probability distribution often used to describe count-based data, like how many snowflakes fall in a day.\n",
        "\n",
        "If we have count data $y$ that are influenced by a covariate or feature $x$, we can use the maximum likelihood principle to develop a regression model relating $x$ to $y$.\n",
        "\n",
        "\n",
        "\n",
        "\n",
        "### Follow These Instructions\n",
        "\n",
        "Once you are finished, ensure to complete the following steps.\n",
        "\n",
        "1.  Restart your kernel by clicking 'Kernel' > 'Restart & Run All'.\n",
        "\n",
        "2.  Fix any errors which result from this.\n",
        "\n",
        "3.  Repeat steps 1. and 2. until your notebook runs without errors.\n",
        "\n",
        "4.  Submit your completed notebook to OWL by the deadline.\n"
      ]
    },
    {
      "cell_type": "code",
      "execution_count": null,
      "metadata": {
        "colab": {
          "base_uri": "https://localhost:8080/",
          "height": 74
        },
        "id": "33Dafzjry0Cw",
        "outputId": "e6b11773-70fd-4cd7-af82-5d7b0c2ef95c"
      },
      "outputs": [
        {
          "output_type": "display_data",
          "data": {
            "text/plain": [
              "<IPython.core.display.HTML object>"
            ],
            "text/html": [
              "\n",
              "     <input type=\"file\" id=\"files-20cc9f9f-cfbe-4ded-8086-2791507b636c\" name=\"files[]\" multiple disabled\n",
              "        style=\"border:none\" />\n",
              "     <output id=\"result-20cc9f9f-cfbe-4ded-8086-2791507b636c\">\n",
              "      Upload widget is only available when the cell has been executed in the\n",
              "      current browser session. Please rerun this cell to enable.\n",
              "      </output>\n",
              "      <script>// Copyright 2017 Google LLC\n",
              "//\n",
              "// Licensed under the Apache License, Version 2.0 (the \"License\");\n",
              "// you may not use this file except in compliance with the License.\n",
              "// You may obtain a copy of the License at\n",
              "//\n",
              "//      http://www.apache.org/licenses/LICENSE-2.0\n",
              "//\n",
              "// Unless required by applicable law or agreed to in writing, software\n",
              "// distributed under the License is distributed on an \"AS IS\" BASIS,\n",
              "// WITHOUT WARRANTIES OR CONDITIONS OF ANY KIND, either express or implied.\n",
              "// See the License for the specific language governing permissions and\n",
              "// limitations under the License.\n",
              "\n",
              "/**\n",
              " * @fileoverview Helpers for google.colab Python module.\n",
              " */\n",
              "(function(scope) {\n",
              "function span(text, styleAttributes = {}) {\n",
              "  const element = document.createElement('span');\n",
              "  element.textContent = text;\n",
              "  for (const key of Object.keys(styleAttributes)) {\n",
              "    element.style[key] = styleAttributes[key];\n",
              "  }\n",
              "  return element;\n",
              "}\n",
              "\n",
              "// Max number of bytes which will be uploaded at a time.\n",
              "const MAX_PAYLOAD_SIZE = 100 * 1024;\n",
              "\n",
              "function _uploadFiles(inputId, outputId) {\n",
              "  const steps = uploadFilesStep(inputId, outputId);\n",
              "  const outputElement = document.getElementById(outputId);\n",
              "  // Cache steps on the outputElement to make it available for the next call\n",
              "  // to uploadFilesContinue from Python.\n",
              "  outputElement.steps = steps;\n",
              "\n",
              "  return _uploadFilesContinue(outputId);\n",
              "}\n",
              "\n",
              "// This is roughly an async generator (not supported in the browser yet),\n",
              "// where there are multiple asynchronous steps and the Python side is going\n",
              "// to poll for completion of each step.\n",
              "// This uses a Promise to block the python side on completion of each step,\n",
              "// then passes the result of the previous step as the input to the next step.\n",
              "function _uploadFilesContinue(outputId) {\n",
              "  const outputElement = document.getElementById(outputId);\n",
              "  const steps = outputElement.steps;\n",
              "\n",
              "  const next = steps.next(outputElement.lastPromiseValue);\n",
              "  return Promise.resolve(next.value.promise).then((value) => {\n",
              "    // Cache the last promise value to make it available to the next\n",
              "    // step of the generator.\n",
              "    outputElement.lastPromiseValue = value;\n",
              "    return next.value.response;\n",
              "  });\n",
              "}\n",
              "\n",
              "/**\n",
              " * Generator function which is called between each async step of the upload\n",
              " * process.\n",
              " * @param {string} inputId Element ID of the input file picker element.\n",
              " * @param {string} outputId Element ID of the output display.\n",
              " * @return {!Iterable<!Object>} Iterable of next steps.\n",
              " */\n",
              "function* uploadFilesStep(inputId, outputId) {\n",
              "  const inputElement = document.getElementById(inputId);\n",
              "  inputElement.disabled = false;\n",
              "\n",
              "  const outputElement = document.getElementById(outputId);\n",
              "  outputElement.innerHTML = '';\n",
              "\n",
              "  const pickedPromise = new Promise((resolve) => {\n",
              "    inputElement.addEventListener('change', (e) => {\n",
              "      resolve(e.target.files);\n",
              "    });\n",
              "  });\n",
              "\n",
              "  const cancel = document.createElement('button');\n",
              "  inputElement.parentElement.appendChild(cancel);\n",
              "  cancel.textContent = 'Cancel upload';\n",
              "  const cancelPromise = new Promise((resolve) => {\n",
              "    cancel.onclick = () => {\n",
              "      resolve(null);\n",
              "    };\n",
              "  });\n",
              "\n",
              "  // Wait for the user to pick the files.\n",
              "  const files = yield {\n",
              "    promise: Promise.race([pickedPromise, cancelPromise]),\n",
              "    response: {\n",
              "      action: 'starting',\n",
              "    }\n",
              "  };\n",
              "\n",
              "  cancel.remove();\n",
              "\n",
              "  // Disable the input element since further picks are not allowed.\n",
              "  inputElement.disabled = true;\n",
              "\n",
              "  if (!files) {\n",
              "    return {\n",
              "      response: {\n",
              "        action: 'complete',\n",
              "      }\n",
              "    };\n",
              "  }\n",
              "\n",
              "  for (const file of files) {\n",
              "    const li = document.createElement('li');\n",
              "    li.append(span(file.name, {fontWeight: 'bold'}));\n",
              "    li.append(span(\n",
              "        `(${file.type || 'n/a'}) - ${file.size} bytes, ` +\n",
              "        `last modified: ${\n",
              "            file.lastModifiedDate ? file.lastModifiedDate.toLocaleDateString() :\n",
              "                                    'n/a'} - `));\n",
              "    const percent = span('0% done');\n",
              "    li.appendChild(percent);\n",
              "\n",
              "    outputElement.appendChild(li);\n",
              "\n",
              "    const fileDataPromise = new Promise((resolve) => {\n",
              "      const reader = new FileReader();\n",
              "      reader.onload = (e) => {\n",
              "        resolve(e.target.result);\n",
              "      };\n",
              "      reader.readAsArrayBuffer(file);\n",
              "    });\n",
              "    // Wait for the data to be ready.\n",
              "    let fileData = yield {\n",
              "      promise: fileDataPromise,\n",
              "      response: {\n",
              "        action: 'continue',\n",
              "      }\n",
              "    };\n",
              "\n",
              "    // Use a chunked sending to avoid message size limits. See b/62115660.\n",
              "    let position = 0;\n",
              "    do {\n",
              "      const length = Math.min(fileData.byteLength - position, MAX_PAYLOAD_SIZE);\n",
              "      const chunk = new Uint8Array(fileData, position, length);\n",
              "      position += length;\n",
              "\n",
              "      const base64 = btoa(String.fromCharCode.apply(null, chunk));\n",
              "      yield {\n",
              "        response: {\n",
              "          action: 'append',\n",
              "          file: file.name,\n",
              "          data: base64,\n",
              "        },\n",
              "      };\n",
              "\n",
              "      let percentDone = fileData.byteLength === 0 ?\n",
              "          100 :\n",
              "          Math.round((position / fileData.byteLength) * 100);\n",
              "      percent.textContent = `${percentDone}% done`;\n",
              "\n",
              "    } while (position < fileData.byteLength);\n",
              "  }\n",
              "\n",
              "  // All done.\n",
              "  yield {\n",
              "    response: {\n",
              "      action: 'complete',\n",
              "    }\n",
              "  };\n",
              "}\n",
              "\n",
              "scope.google = scope.google || {};\n",
              "scope.google.colab = scope.google.colab || {};\n",
              "scope.google.colab._files = {\n",
              "  _uploadFiles,\n",
              "  _uploadFilesContinue,\n",
              "};\n",
              "})(self);\n",
              "</script> "
            ]
          },
          "metadata": {}
        },
        {
          "output_type": "stream",
          "name": "stdout",
          "text": [
            "Saving poisson_regression_data.csv to poisson_regression_data.csv\n"
          ]
        }
      ],
      "source": [
        "#It's dangerous to go alone.  Take these!\n",
        "import numpy as np\n",
        "import matplotlib.pyplot as plt\n",
        "import pandas as pd\n",
        "import statsmodels.api as sm\n",
        "from statsmodels.tools import add_constant\n",
        "from scipy.optimize import minimize\n",
        "from scipy.special import gammaln\n",
        "from google.colab import files\n",
        "uploaded = files.upload()\n"
      ]
    },
    {
      "cell_type": "markdown",
      "metadata": {
        "id": "JUToV2a5y0Cy"
      },
      "source": [
        "### Question 1: /10 Mark(s)\n",
        "\n",
        "The negative log likelihood for a Poisson random variable is\n",
        "\n",
        "$$\\ell(\\lambda; \\mathbf{y}) = -\\sum_{i=1}^N\\Bigg( y_{i}\\cdot \\ln(\\lambda) - \\lambda - \\ln(y_i!) \\Bigg)$$\n",
        "\n",
        "Here, $\\mathbf{y}$ is a vector of counts and $\\lambda$ is a scalar value.\n",
        "\n",
        "Write a function called `poissonNegLogLikelihood` that takes a vector of counts $\\mathbf{y}$ and a parameter $\\lambda$ and returns the negative log likelihood.  The $\\sum_{i} \\ln(y_i!)$ does not affect the location of the maximum, and so you can omit the $ \\ln(y_i!)$ in your function.\n",
        "\n",
        "\n",
        "Test your function by calling it with `lam = 1.3` and `y=np.array([2,1,0,0])`.\n",
        "\n",
        "What happens when you call the function when `lam=np.array([1,0.5,1,3])` and  `y=np.array([2,1,0,0])`? \n",
        "\n",
        "Answer the following below in markdown: What happens when you set an element of lam to 0 or a negative number and why? \n"
      ]
    },
    {
      "cell_type": "code",
      "execution_count": null,
      "metadata": {
        "colab": {
          "base_uri": "https://localhost:8080/"
        },
        "id": "OOroJvnYy0Cz",
        "outputId": "f6eae879-2105-45fe-90bc-dfd9449c8df7"
      },
      "outputs": [
        {
          "output_type": "stream",
          "name": "stdout",
          "text": [
            "4.412907206597527\n",
            "6.193147180559945\n"
          ]
        }
      ],
      "source": [
        "def poissonNegLogLikelihood(lam,y):\n",
        "    \n",
        "    # Read up on the gamma function to make sure you get the likelihood right!\n",
        "    neg_log_lik = -np.sum(y*np.log(lam)-lam)\n",
        "    return neg_log_lik\n",
        "lam = 1.3\n",
        "y=np.array([2,1,0,0])\n",
        "print(poissonNegLogLikelihood(lam,y))\n",
        "lam=np.array([1,0.5,1,3])\n",
        "y=np.array([2,1,0,0])\n",
        "print(poissonNegLogLikelihood(lam,y))\n"
      ]
    },
    {
      "cell_type": "markdown",
      "metadata": {
        "id": "SDuv1d1xy0C0"
      },
      "source": [
        "Write your answer here:\n",
        "Setting an element of lam to 0 or less will result in the function returning NaN.\n",
        "\n",
        "The ln/log function is not defined at 0 or less since as the function apporaches 0, it apporaches infinity without reaching 0. As you defined an element of lam to 0 or less, numpy will return NaN since it is mathematically undefined. \n",
        "\n",
        "\n",
        "---"
      ]
    },
    {
      "cell_type": "markdown",
      "metadata": {
        "id": "zVy93nqNy0C1"
      },
      "source": [
        "### Question 2: /15 Mark(s)\n",
        "\n",
        "Write a function called `poissonRegressionNegLogLikelihood` that takes as arguments a vector $\\mathbf{y}$ of counts, a design matrix $\\mathbf{X}$ of features for each count, and a vector $\\mathbf{\\beta}$ of parameters. The function should return the negative log likelihood of this dataset, assuming that each element of  $\\mathbf{y}$ is independent and Poisson distributed with parameter $\\lambda = \\exp(\\mathbf{X}\\beta)$.\n",
        "\n",
        "Hint: You can use `poissonNegLogLikelihood` in this answer!\n",
        "Test your function by calling it with \n",
        "* `b=np.array([1,2])`\n",
        "* `X=np.array([[1,2,3],[2,3,1]]).T`\n",
        "* `y=np.array([0,2,10])`\n"
      ]
    },
    {
      "cell_type": "code",
      "execution_count": null,
      "metadata": {
        "colab": {
          "base_uri": "https://localhost:8080/"
        },
        "id": "GP2KaFr8y0C2",
        "outputId": "88d1c1b9-19c9-4bab-cdc1-6bf9535d0e53"
      },
      "outputs": [
        {
          "output_type": "execute_result",
          "data": {
            "text/plain": [
              "3211.7843052468816"
            ]
          },
          "metadata": {},
          "execution_count": 4
        }
      ],
      "source": [
        "def poissonRegressionNegLogLikelihood(b, X, y):\n",
        "    #Enter the expression for lambda as shown above!\n",
        "    lam = np.exp(X@b)\n",
        "    # Use poissonNegLogLikelihood to compute the likelihood\n",
        "    neg_log_lik = poissonNegLogLikelihood(lam,y)\n",
        "    return neg_log_lik\n",
        "\n",
        "b=np.array([1,2])\n",
        "X=np.array([[1,2,3],[2,3,1]]).T\n",
        "y=np.array([0,2,10])\n",
        "poissonRegressionNegLogLikelihood(b, X, y)"
      ]
    },
    {
      "cell_type": "markdown",
      "metadata": {
        "id": "rpnqeU20y0C3"
      },
      "source": [
        "### Question 3: /10 Mark(s)\n",
        "\n",
        "a) In `poissonRegressionNegLogLikelihood`, why did we apply the exponential function to $\\mathbf{X}\\beta$?  Hint: Can an exponential ever be negative?\n",
        "\n",
        "b) What might have happened had we just passed $\\lambda = \\mathbf{X}\\beta$?\n",
        "\n",
        "Answer parts a) and b) below in this cell.  Write no more than 2 sentences per answer! \n",
        "\n",
        "---\n",
        "a) The reason behind the exponential is because an exponential can never be negative. If the dot product of X and b is negative, then the negative log likelihood will return NaN since the function can't process 0 and negative number.\n",
        "\n",
        "b)If passing on the dot product of X and b, there is a chance of it being negative which means the function will not return the expected poisson regression negative log likelihood and instead just return NaN. "
      ]
    },
    {
      "cell_type": "markdown",
      "metadata": {
        "id": "QLf17z85y0C5"
      },
      "source": [
        "### Question 4: /5 Mark(s)\n",
        "\n",
        "Write a function called `modelPrediction` which accepts as its first argument a vector of coefficents $\\beta$ and a design matrix $\\mathbf{X}$.  The function should return predictions of the form $\\widehat{\\mathbf{y}} = \\exp(\\mathbf{X}\\beta)$. \n",
        "\n",
        "Hint: Numpy implements the exponential using `np.exp`.  \n",
        "\n",
        "Test your function by calling it with \n",
        "* `b=np.array([1,2])`\n",
        "* `X=np.array([[1,2,3],[2,3,1]]).T`"
      ]
    },
    {
      "cell_type": "code",
      "execution_count": null,
      "metadata": {
        "colab": {
          "base_uri": "https://localhost:8080/"
        },
        "id": "l8cdFSAey0C7",
        "outputId": "c422b3d6-a390-4b3c-e3b7-d615ece0f956"
      },
      "outputs": [
        {
          "output_type": "execute_result",
          "data": {
            "text/plain": [
              "array([ 148.4131591 , 2980.95798704,  148.4131591 ])"
            ]
          },
          "metadata": {},
          "execution_count": 5
        }
      ],
      "source": [
        "def modelPrediction(b,X):\n",
        "    yhat = np.exp(X@b)\n",
        "    return yhat\n",
        "b=np.array([1,2])\n",
        "X=np.array([[1,2,3],[2,3,1]]).T\n",
        "modelPrediction(b,X)"
      ]
    },
    {
      "cell_type": "markdown",
      "metadata": {
        "id": "p_WDRDPky0C8"
      },
      "source": [
        "### Question 5: /15 Mark(s)\n",
        "\n",
        "Write a function called `fitModel` which accepts as its first argument argument a design matrix $\\mathbf{X}$ and as its second argument a vector of outcomes counts $\\mathbf{y}$. The function should return the maximum likelihood estimates for the coefficients of a Poisson regression of $\\mathbf{y}$ onto $\\mathbf{X}$.\n",
        "\n",
        "Test your function by calling it with \n",
        "* `X=np.array([[1,2,3],[2,3,1]]).T`\n",
        "* `y=np.array([0,2,10])`\n",
        "\n",
        "What is your estimated b? "
      ]
    },
    {
      "cell_type": "code",
      "execution_count": null,
      "metadata": {
        "colab": {
          "base_uri": "https://localhost:8080/"
        },
        "id": "2k1ASyfXy0C9",
        "outputId": "fec45c65-284b-4be3-9235-6428dde4c714"
      },
      "outputs": [
        {
          "output_type": "stream",
          "name": "stdout",
          "text": [
            "Estimated betas: [ 0.94827558 -0.52953525]\n"
          ]
        }
      ],
      "source": [
        "def fitModel(X,y):\n",
        "\n",
        "    # Instantiate a guess for the betas, beta_start, so that the optimizer has somewhere to start\n",
        "    # Keep in mind what shape the beta_start should be. It shoud have the same number of elements as X as columns\n",
        "    beta_start = np.ones((X.shape[1],1))\n",
        "    # Minimize the appropriate likelihood function\n",
        "    mle = minimize(poissonRegressionNegLogLikelihood,beta_start,args=(X,y))\n",
        "    # Extract the maximum likelihood estimates from the optimizer.\n",
        "    betas = mle.x\n",
        "    return betas\n",
        "X=np.array([[1,2,3],[2,3,1]]).T\n",
        "y=np.array([0,2,10])\n",
        "\n",
        "print(f'Estimated betas: {fitModel(X,y)}')"
      ]
    },
    {
      "cell_type": "markdown",
      "metadata": {
        "id": "INKBl3zty0C9"
      },
      "source": [
        "### Question 6: /20 Mark(s)\n",
        "\n",
        "Load in the data from `poisson_regression_data.csv`. Plot a scatterplot of the data. Fit a poisson regression to this data using the functions you wrote above.  Plot the model predictions over $x \\in [-2,2]$ on the same graph as the scatterplot of the data.  "
      ]
    },
    {
      "cell_type": "code",
      "execution_count": null,
      "metadata": {
        "colab": {
          "base_uri": "https://localhost:8080/",
          "height": 499
        },
        "id": "PMCGUIU3y0C-",
        "outputId": "21f7fab7-010f-4dfd-ba00-24d1b672cb7d"
      },
      "outputs": [
        {
          "output_type": "execute_result",
          "data": {
            "text/plain": [
              "Text(0.5, 1.0, 'Poisson regression negative log likelihood predictions')"
            ]
          },
          "metadata": {},
          "execution_count": 7
        },
        {
          "output_type": "display_data",
          "data": {
            "text/plain": [
              "<Figure size 720x480 with 1 Axes>"
            ],
            "image/png": "[encoded data removed]"
          },
          "metadata": {
            "needs_background": "light"
          }
        }
      ],
      "source": [
        "# Loading in the data.  \n",
        "df = pd.read_csv('poisson_regression_data.csv')\n",
        "\n",
        "fig, ax = plt.subplots(dpi = 120)\n",
        "\n",
        "# Scatter the data. \n",
        "df[['x','y']].plot(x='x',y='y',kind='scatter',ax=ax)\n",
        "# Fit the model.  You can use your functions.  \n",
        "x = df.x.values \n",
        "X = np.c_[np.ones(x.size),x]\n",
        "y= df.y.values\n",
        "\n",
        "# Find the maximum likelihood estimates for the coefficients for this data\n",
        "betas = fitModel(X,y)\n",
        "\n",
        "# Make predictions on new data\n",
        "newx = np.linspace(-2,2,1001)\n",
        "newX = np.c_[np.ones(newx.size),newx]\n",
        "\n",
        "\n",
        "# Make predictions on the new data\n",
        "y_predicted=modelPrediction(betas,newX)\n",
        "\n",
        "#Finally, plot the predictions on the same axis and color the predictions red\n",
        "ax.plot(newx,y_predicted,color='red')\n",
        "plt.title(\"Poisson regression negative log likelihood predictions\")\n",
        "\n"
      ]
    },
    {
      "cell_type": "markdown",
      "metadata": {
        "id": "wnpT46Ury0C-"
      },
      "source": [
        "### Question 7:  /20 Mark(s)\n",
        "\n",
        "Now apply linear regression (ordinary least squares) to the data, obtain parameter estimates and plot the predictions over the same range.  Feel free to use `statsmodels` to fit the linear regression."
      ]
    },
    {
      "cell_type": "code",
      "execution_count": null,
      "metadata": {
        "colab": {
          "base_uri": "https://localhost:8080/",
          "height": 474
        },
        "id": "sjDbQZK1y0C-",
        "outputId": "a47d7b9b-44e5-4ee8-9687-8f18c0372515"
      },
      "outputs": [
        {
          "output_type": "execute_result",
          "data": {
            "text/plain": [
              "<matplotlib.axes._subplots.AxesSubplot at 0x7f9f26a24310>"
            ]
          },
          "metadata": {},
          "execution_count": 8
        },
        {
          "output_type": "display_data",
          "data": {
            "text/plain": [
              "<Figure size 720x480 with 1 Axes>"
            ],
            "image/png": "[encoded data removed]"
          },
          "metadata": {
            "needs_background": "light"
          }
        }
      ],
      "source": [
        "\n",
        "# Read in the data\n",
        "df = pd.read_csv('poisson_regression_data.csv')\n",
        "# Instantiate the model\n",
        "x = df.x.values \n",
        "X = np.c_[np.ones(x.size),x]\n",
        "y = df.y.values\n",
        "\n",
        "# Fit the model.  Remember, in statsmodels this happens in a different step!\n",
        "# You can use either the formula or the functionl API here \n",
        "ols_fit=sm.OLS(X,y).fit()\n",
        "ols_params=ols_fit.params[0]\n",
        "\n",
        "\n",
        "# Plot a scatter plot of the data and your model's predictions\n",
        "fig, ax = plt.subplots(dpi = 120)\n",
        "ax.plot(newx, newx*ols_params[1] + ols_params[0], 'g', label=\"OLS\")\n",
        "df[['x', 'y']].plot(x=\"x\", y=\"y\", kind=\"scatter\",  ax = ax)\n",
        "\n"
      ]
    },
    {
      "cell_type": "markdown",
      "metadata": {
        "id": "utr8C6xdy0C_"
      },
      "source": [
        "### Question 8: /5 Mark(s)\n",
        "\n",
        "a) Do you see any major problems with the predictions from linear regression? Keep in mind that this model is intended to model counts of things. Provide your answer below in markdown in fewer than 5 sentences.\n",
        "\n",
        "---\n",
        "\n",
        "a) The biggest problem with the OLS linear regression model is that it is minimizing the cost near the largest concentration of data points(or covariates). The OLS failed to account for some of observation on the top right of the plot whereas the maximum likelihood model (MLM) used with poisson regression accounted for those oberservations. The MLM model weigh observations based on conditional likelihood instead of overall likelihood which fits this data much more closely.\n",
        "\n"
      ]
    },
    {
      "cell_type": "markdown",
      "metadata": {
        "id": "boq7WpQuy0C_"
      },
      "source": [
        "### Follow These Instructions\n",
        "\n",
        "Once you are finished, ensure to complete the following steps.\n",
        "\n",
        "1.  Restart your kernel by clicking 'Kernel' > 'Restart & Run All'.\n",
        "\n",
        "2.  Fix any errors which result from this.\n",
        "\n",
        "3.  Repeat steps 1. and 2. until your notebook runs without errors.\n",
        "\n",
        "4.  Submit your completed notebook to OWL by the deadline."
      ]
    }
  ],
  "metadata": {
    "kernelspec": {
      "display_name": "Python 3 (ipykernel)",
      "language": "python",
      "name": "python3"
    },
    "language_info": {
      "codemirror_mode": {
        "name": "ipython",
        "version": 3
      },
      "file_extension": ".py",
      "mimetype": "text/x-python",
      "name": "python",
      "nbconvert_exporter": "python",
      "pygments_lexer": "ipython3",
      "version": "3.9.7"
    },
    "colab": {
      "provenance": [],
      "collapsed_sections": []
    }
  },
  "nbformat": 4,
  "nbformat_minor": 0
}