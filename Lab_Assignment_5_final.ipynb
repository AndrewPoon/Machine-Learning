{
  "cells": [
    {
      "cell_type": "markdown",
      "metadata": {
        "id": "3NuZVww8WW-u"
      },
      "source": [
        "# Grade: /100 pts\n",
        "\n",
        "# Lab Assignment 05: Model Assesment and Selection \n",
        "\n",
        "### You're a Data Scientist!\n",
        "You are working as a Junior Data Scientist for a professional football (er, Soccer) club.  The owner of the team is very interested in seeing how the use of data can help improve the team's peformance, and perhaps win them a championship!\n",
        "\n",
        "The draft is coming up soon (thats when you get to pick new players for your team), and the owner has asked you to create a model to help score potential draftees.  The model should look at attributes about the player and predict what their \"rating\" will be once they start playing professionally.\n",
        "\n",
        "The football club's data team has provided you with data for 17,993 footballers from the league.  Your job: work with the Senior Data Scientist to build a model or models, perform model selection, and make predictions on players you have not yet seen.\n",
        "\n",
        "### The Dataset\n",
        "\n",
        "The data is stored in a csv file called `footballer_data.csv`.  The data contain 52 columns, including some information about the player, their skills, and their overall measure as an effective footballer.\n",
        "\n",
        "Most features relate to the player's abilities in football related skills, such as passing, shooting, dribbling, etc.  Some features are rated on a 1-5 scale (5 being the best), others are rated on 0-100 (100 being the best), and others still are categorical (e.g. work rate is coded as low, medium, or high).\n",
        "\n",
        "The target variable (or $y$ variable, if you will) is `overall`.  This is an overall measure of the footballer's skill and is rated from 0 to 100.  The most amazingly skilled footballer would be rated 100, where as I would struggle to score more than a 20. The model(s) you build should use the other features to predict `overall`.\n",
        "\n",
        "\n",
        "### Follow These Steps before submitting\n",
        "Once you are finished, ensure to complete the following steps.\n",
        "\n",
        "1.  Restart your kernel by clicking 'Kernel' > 'Restart & Run All'.\n",
        "\n",
        "2.  Fix any errors which result from this.\n",
        "\n",
        "3.  Repeat steps 1. and 2. until your notebook runs without errors.\n",
        "\n",
        "4.  Submit your completed notebook to OWL by the deadline.\n",
        "\n",
        "\n",
        "### Preliminaries\n",
        "---"
      ]
    },
    {
      "cell_type": "code",
      "execution_count": 1,
      "metadata": {
        "id": "4DWUScr1WW-w"
      },
      "outputs": [],
      "source": [
        "import pandas as pd\n",
        "import numpy as np\n",
        "import matplotlib.pyplot as plt\n",
        "import seaborn as sns\n",
        "from sklearn.model_selection import train_test_split, cross_val_score\n",
        "from sklearn.linear_model import LinearRegression\n",
        "from sklearn.pipeline import Pipeline\n",
        "from sklearn.preprocessing import StandardScaler, PolynomialFeatures\n",
        "from sklearn.metrics import make_scorer\n",
        "from sklearn.base import BaseEstimator, TransformerMixin\n",
        "\n",
        "pd.set_option('display.max_columns', 500)\n",
        "\n",
        "%matplotlib inline"
      ]
    },
    {
      "cell_type": "markdown",
      "metadata": {
        "id": "vjpqMbrmWW-x"
      },
      "source": [
        "### Question 1: /10pts\n",
        "\n",
        "Read in the data and take a look at the dataframe.  There should be 52 columns. The outcome of interest is called `overall` which gives an overall measure of player performance. Not all of the other columns are particularly useful for modelling though (for instance, `ID` is just a unique identifier for the player.  This is essentially an arbitrary number and has no bearing on the player's rating).\n",
        "\n",
        "The Senior Data Scientist thinks the following columns should be removed:\n",
        "\n",
        "* ID\n",
        "* club\n",
        "* club_logo\n",
        "* birth_date\n",
        "* flag\n",
        "* nationality\n",
        "* photo\n",
        "* potential\n",
        "\n",
        "The Senior Data Scientist would also like the following columns converted into dummy variables:\n",
        "\n",
        "* work_rate_att\n",
        "* work_rate_def\n",
        "* preferred_foot\n",
        "\n",
        "Clean the data according to the Senior Data Scientist's instructions."
      ]
    },
    {
      "cell_type": "code",
      "execution_count": 2,
      "metadata": {
        "colab": {
          "base_uri": "https://localhost:8080/",
          "height": 270
        },
        "id": "cBmu8KI4WW-y",
        "outputId": "675bbd68-ec83-4eb3-c9d4-71f8bd8c1206"
      },
      "outputs": [
        {
          "output_type": "execute_result",
          "data": {
            "text/plain": [
              "   age  height_cm  weight_kg  pac  sho  pas  dri  def  phy  \\\n",
              "0   32      185.0       80.0   90   93   82   90   33   80   \n",
              "1   30      170.0       72.0   89   90   86   96   26   61   \n",
              "2   25      175.0       68.0   92   84   79   95   30   60   \n",
              "3   30      182.0       86.0   82   90   79   87   42   81   \n",
              "4   31      193.0       92.0   91   90   95   89   60   91   \n",
              "\n",
              "   international_reputation  skill_moves  weak_foot  crossing  finishing  \\\n",
              "0                         5            5          4        85         94   \n",
              "1                         5            4          4        77         95   \n",
              "2                         5            5          5        75         89   \n",
              "3                         5            4          4        77         94   \n",
              "4                         5            1          4        15         13   \n",
              "\n",
              "   heading_accuracy  short_passing  volleys  dribbling  curve  \\\n",
              "0                88             83       88         91     81   \n",
              "1                71             88       85         97     89   \n",
              "2                62             81       83         96     81   \n",
              "3                77             83       88         86     86   \n",
              "4                25             55       11         30     14   \n",
              "\n",
              "   free_kick_accuracy  long_passing  ball_control  acceleration  sprint_speed  \\\n",
              "0                  76            77            93            89          91.0   \n",
              "1                  90            87            95            92          87.0   \n",
              "2                  84            75            95            94          90.0   \n",
              "3                  84            64            91            88          77.0   \n",
              "4                  11            59            48            58          61.0   \n",
              "\n",
              "   agility  reactions  balance  shot_power  jumping  stamina  strength  \\\n",
              "0     89.0       96.0     63.0        94.0     95.0     92.0      80.0   \n",
              "1     90.0       95.0     95.0        85.0     68.0     73.0      59.0   \n",
              "2     96.0       88.0     82.0        80.0     61.0     78.0      53.0   \n",
              "3     86.0       93.0     60.0        87.0     69.0     89.0      80.0   \n",
              "4     52.0       85.0     35.0        25.0     78.0     44.0      83.0   \n",
              "\n",
              "   long_shots  aggression  interceptions  positioning  vision  penalties  \\\n",
              "0        92.0        63.0           29.0         95.0    85.0       85.0   \n",
              "1        88.0        48.0           22.0         93.0    90.0       78.0   \n",
              "2        77.0        56.0           36.0         90.0    80.0       81.0   \n",
              "3        86.0        78.0           41.0         92.0    84.0       85.0   \n",
              "4        16.0        29.0           30.0         12.0    70.0       47.0   \n",
              "\n",
              "   composure  marking  standing_tackle  work_rate_att_High  work_rate_att_Low  \\\n",
              "0       95.0     22.0             31.0                   1                  0   \n",
              "1       96.0     13.0             28.0                   0                  0   \n",
              "2       92.0     21.0             24.0                   1                  0   \n",
              "3       83.0     30.0             45.0                   1                  0   \n",
              "4       70.0     10.0             10.0                   0                  0   \n",
              "\n",
              "   work_rate_att_Medium  work_rate_def_High  work_rate_def_Low  \\\n",
              "0                     0                   0                  1   \n",
              "1                     1                   0                  0   \n",
              "2                     0                   0                  0   \n",
              "3                     0                   0                  0   \n",
              "4                     1                   0                  0   \n",
              "\n",
              "   work_rate_def_Medium  preferred_foot_Left  preferred_foot_Right  \n",
              "0                     0                    0                     1  \n",
              "1                     1                    1                     0  \n",
              "2                     1                    0                     1  \n",
              "3                     1                    0                     1  \n",
              "4                     1                    0                     1  "
            ],
            "text/html": [
              "\n",
              "  <div id=\"df-ffb22fbc-27a3-44a5-b3ed-a0af057538d6\">\n",
              "    <div class=\"colab-df-container\">\n",
              "      <div>\n",
              "<style scoped>\n",
              "    .dataframe tbody tr th:only-of-type {\n",
              "        vertical-align: middle;\n",
              "    }\n",
              "\n",
              "    .dataframe tbody tr th {\n",
              "        vertical-align: top;\n",
              "    }\n",
              "\n",
              "    .dataframe thead th {\n",
              "        text-align: right;\n",
              "    }\n",
              "</style>\n",
              "<table border=\"1\" class=\"dataframe\">\n",
              "  <thead>\n",
              "    <tr style=\"text-align: right;\">\n",
              "      <th></th>\n",
              "      <th>age</th>\n",
              "      <th>height_cm</th>\n",
              "      <th>weight_kg</th>\n",
              "      <th>pac</th>\n",
              "      <th>sho</th>\n",
              "      <th>pas</th>\n",
              "      <th>dri</th>\n",
              "      <th>def</th>\n",
              "      <th>phy</th>\n",
              "      <th>international_reputation</th>\n",
              "      <th>skill_moves</th>\n",
              "      <th>weak_foot</th>\n",
              "      <th>crossing</th>\n",
              "      <th>finishing</th>\n",
              "      <th>heading_accuracy</th>\n",
              "      <th>short_passing</th>\n",
              "      <th>volleys</th>\n",
              "      <th>dribbling</th>\n",
              "      <th>curve</th>\n",
              "      <th>free_kick_accuracy</th>\n",
              "      <th>long_passing</th>\n",
              "      <th>ball_control</th>\n",
              "      <th>acceleration</th>\n",
              "      <th>sprint_speed</th>\n",
              "      <th>agility</th>\n",
              "      <th>reactions</th>\n",
              "      <th>balance</th>\n",
              "      <th>shot_power</th>\n",
              "      <th>jumping</th>\n",
              "      <th>stamina</th>\n",
              "      <th>strength</th>\n",
              "      <th>long_shots</th>\n",
              "      <th>aggression</th>\n",
              "      <th>interceptions</th>\n",
              "      <th>positioning</th>\n",
              "      <th>vision</th>\n",
              "      <th>penalties</th>\n",
              "      <th>composure</th>\n",
              "      <th>marking</th>\n",
              "      <th>standing_tackle</th>\n",
              "      <th>work_rate_att_High</th>\n",
              "      <th>work_rate_att_Low</th>\n",
              "      <th>work_rate_att_Medium</th>\n",
              "      <th>work_rate_def_High</th>\n",
              "      <th>work_rate_def_Low</th>\n",
              "      <th>work_rate_def_Medium</th>\n",
              "      <th>preferred_foot_Left</th>\n",
              "      <th>preferred_foot_Right</th>\n",
              "    </tr>\n",
              "  </thead>\n",
              "  <tbody>\n",
              "    <tr>\n",
              "      <th>0</th>\n",
              "      <td>32</td>\n",
              "      <td>185.0</td>\n",
              "      <td>80.0</td>\n",
              "      <td>90</td>\n",
              "      <td>93</td>\n",
              "      <td>82</td>\n",
              "      <td>90</td>\n",
              "      <td>33</td>\n",
              "      <td>80</td>\n",
              "      <td>5</td>\n",
              "      <td>5</td>\n",
              "      <td>4</td>\n",
              "      <td>85</td>\n",
              "      <td>94</td>\n",
              "      <td>88</td>\n",
              "      <td>83</td>\n",
              "      <td>88</td>\n",
              "      <td>91</td>\n",
              "      <td>81</td>\n",
              "      <td>76</td>\n",
              "      <td>77</td>\n",
              "      <td>93</td>\n",
              "      <td>89</td>\n",
              "      <td>91.0</td>\n",
              "      <td>89.0</td>\n",
              "      <td>96.0</td>\n",
              "      <td>63.0</td>\n",
              "      <td>94.0</td>\n",
              "      <td>95.0</td>\n",
              "      <td>92.0</td>\n",
              "      <td>80.0</td>\n",
              "      <td>92.0</td>\n",
              "      <td>63.0</td>\n",
              "      <td>29.0</td>\n",
              "      <td>95.0</td>\n",
              "      <td>85.0</td>\n",
              "      <td>85.0</td>\n",
              "      <td>95.0</td>\n",
              "      <td>22.0</td>\n",
              "      <td>31.0</td>\n",
              "      <td>1</td>\n",
              "      <td>0</td>\n",
              "      <td>0</td>\n",
              "      <td>0</td>\n",
              "      <td>1</td>\n",
              "      <td>0</td>\n",
              "      <td>0</td>\n",
              "      <td>1</td>\n",
              "    </tr>\n",
              "    <tr>\n",
              "      <th>1</th>\n",
              "      <td>30</td>\n",
              "      <td>170.0</td>\n",
              "      <td>72.0</td>\n",
              "      <td>89</td>\n",
              "      <td>90</td>\n",
              "      <td>86</td>\n",
              "      <td>96</td>\n",
              "      <td>26</td>\n",
              "      <td>61</td>\n",
              "      <td>5</td>\n",
              "      <td>4</td>\n",
              "      <td>4</td>\n",
              "      <td>77</td>\n",
              "      <td>95</td>\n",
              "      <td>71</td>\n",
              "      <td>88</td>\n",
              "      <td>85</td>\n",
              "      <td>97</td>\n",
              "      <td>89</td>\n",
              "      <td>90</td>\n",
              "      <td>87</td>\n",
              "      <td>95</td>\n",
              "      <td>92</td>\n",
              "      <td>87.0</td>\n",
              "      <td>90.0</td>\n",
              "      <td>95.0</td>\n",
              "      <td>95.0</td>\n",
              "      <td>85.0</td>\n",
              "      <td>68.0</td>\n",
              "      <td>73.0</td>\n",
              "      <td>59.0</td>\n",
              "      <td>88.0</td>\n",
              "      <td>48.0</td>\n",
              "      <td>22.0</td>\n",
              "      <td>93.0</td>\n",
              "      <td>90.0</td>\n",
              "      <td>78.0</td>\n",
              "      <td>96.0</td>\n",
              "      <td>13.0</td>\n",
              "      <td>28.0</td>\n",
              "      <td>0</td>\n",
              "      <td>0</td>\n",
              "      <td>1</td>\n",
              "      <td>0</td>\n",
              "      <td>0</td>\n",
              "      <td>1</td>\n",
              "      <td>1</td>\n",
              "      <td>0</td>\n",
              "    </tr>\n",
              "    <tr>\n",
              "      <th>2</th>\n",
              "      <td>25</td>\n",
              "      <td>175.0</td>\n",
              "      <td>68.0</td>\n",
              "      <td>92</td>\n",
              "      <td>84</td>\n",
              "      <td>79</td>\n",
              "      <td>95</td>\n",
              "      <td>30</td>\n",
              "      <td>60</td>\n",
              "      <td>5</td>\n",
              "      <td>5</td>\n",
              "      <td>5</td>\n",
              "      <td>75</td>\n",
              "      <td>89</td>\n",
              "      <td>62</td>\n",
              "      <td>81</td>\n",
              "      <td>83</td>\n",
              "      <td>96</td>\n",
              "      <td>81</td>\n",
              "      <td>84</td>\n",
              "      <td>75</td>\n",
              "      <td>95</td>\n",
              "      <td>94</td>\n",
              "      <td>90.0</td>\n",
              "      <td>96.0</td>\n",
              "      <td>88.0</td>\n",
              "      <td>82.0</td>\n",
              "      <td>80.0</td>\n",
              "      <td>61.0</td>\n",
              "      <td>78.0</td>\n",
              "      <td>53.0</td>\n",
              "      <td>77.0</td>\n",
              "      <td>56.0</td>\n",
              "      <td>36.0</td>\n",
              "      <td>90.0</td>\n",
              "      <td>80.0</td>\n",
              "      <td>81.0</td>\n",
              "      <td>92.0</td>\n",
              "      <td>21.0</td>\n",
              "      <td>24.0</td>\n",
              "      <td>1</td>\n",
              "      <td>0</td>\n",
              "      <td>0</td>\n",
              "      <td>0</td>\n",
              "      <td>0</td>\n",
              "      <td>1</td>\n",
              "      <td>0</td>\n",
              "      <td>1</td>\n",
              "    </tr>\n",
              "    <tr>\n",
              "      <th>3</th>\n",
              "      <td>30</td>\n",
              "      <td>182.0</td>\n",
              "      <td>86.0</td>\n",
              "      <td>82</td>\n",
              "      <td>90</td>\n",
              "      <td>79</td>\n",
              "      <td>87</td>\n",
              "      <td>42</td>\n",
              "      <td>81</td>\n",
              "      <td>5</td>\n",
              "      <td>4</td>\n",
              "      <td>4</td>\n",
              "      <td>77</td>\n",
              "      <td>94</td>\n",
              "      <td>77</td>\n",
              "      <td>83</td>\n",
              "      <td>88</td>\n",
              "      <td>86</td>\n",
              "      <td>86</td>\n",
              "      <td>84</td>\n",
              "      <td>64</td>\n",
              "      <td>91</td>\n",
              "      <td>88</td>\n",
              "      <td>77.0</td>\n",
              "      <td>86.0</td>\n",
              "      <td>93.0</td>\n",
              "      <td>60.0</td>\n",
              "      <td>87.0</td>\n",
              "      <td>69.0</td>\n",
              "      <td>89.0</td>\n",
              "      <td>80.0</td>\n",
              "      <td>86.0</td>\n",
              "      <td>78.0</td>\n",
              "      <td>41.0</td>\n",
              "      <td>92.0</td>\n",
              "      <td>84.0</td>\n",
              "      <td>85.0</td>\n",
              "      <td>83.0</td>\n",
              "      <td>30.0</td>\n",
              "      <td>45.0</td>\n",
              "      <td>1</td>\n",
              "      <td>0</td>\n",
              "      <td>0</td>\n",
              "      <td>0</td>\n",
              "      <td>0</td>\n",
              "      <td>1</td>\n",
              "      <td>0</td>\n",
              "      <td>1</td>\n",
              "    </tr>\n",
              "    <tr>\n",
              "      <th>4</th>\n",
              "      <td>31</td>\n",
              "      <td>193.0</td>\n",
              "      <td>92.0</td>\n",
              "      <td>91</td>\n",
              "      <td>90</td>\n",
              "      <td>95</td>\n",
              "      <td>89</td>\n",
              "      <td>60</td>\n",
              "      <td>91</td>\n",
              "      <td>5</td>\n",
              "      <td>1</td>\n",
              "      <td>4</td>\n",
              "      <td>15</td>\n",
              "      <td>13</td>\n",
              "      <td>25</td>\n",
              "      <td>55</td>\n",
              "      <td>11</td>\n",
              "      <td>30</td>\n",
              "      <td>14</td>\n",
              "      <td>11</td>\n",
              "      <td>59</td>\n",
              "      <td>48</td>\n",
              "      <td>58</td>\n",
              "      <td>61.0</td>\n",
              "      <td>52.0</td>\n",
              "      <td>85.0</td>\n",
              "      <td>35.0</td>\n",
              "      <td>25.0</td>\n",
              "      <td>78.0</td>\n",
              "      <td>44.0</td>\n",
              "      <td>83.0</td>\n",
              "      <td>16.0</td>\n",
              "      <td>29.0</td>\n",
              "      <td>30.0</td>\n",
              "      <td>12.0</td>\n",
              "      <td>70.0</td>\n",
              "      <td>47.0</td>\n",
              "      <td>70.0</td>\n",
              "      <td>10.0</td>\n",
              "      <td>10.0</td>\n",
              "      <td>0</td>\n",
              "      <td>0</td>\n",
              "      <td>1</td>\n",
              "      <td>0</td>\n",
              "      <td>0</td>\n",
              "      <td>1</td>\n",
              "      <td>0</td>\n",
              "      <td>1</td>\n",
              "    </tr>\n",
              "  </tbody>\n",
              "</table>\n",
              "</div>\n",
              "      <button class=\"colab-df-convert\" onclick=\"convertToInteractive('df-ffb22fbc-27a3-44a5-b3ed-a0af057538d6')\"\n",
              "              title=\"Convert this dataframe to an interactive table.\"\n",
              "              style=\"display:none;\">\n",
              "        \n",
              "  <svg xmlns=\"http://www.w3.org/2000/svg\" height=\"24px\"viewBox=\"0 0 24 24\"\n",
              "       width=\"24px\">\n",
              "    <path d=\"M0 0h24v24H0V0z\" fill=\"none\"/>\n",
              "    <path d=\"M18.56 5.44l.94 2.06.94-2.06 2.06-.94-2.06-.94-.94-2.06-.94 2.06-2.06.94zm-11 1L8.5 8.5l.94-2.06 2.06-.94-2.06-.94L8.5 2.5l-.94 2.06-2.06.94zm10 10l.94 2.06.94-2.06 2.06-.94-2.06-.94-.94-2.06-.94 2.06-2.06.94z\"/><path d=\"M17.41 7.96l-1.37-1.37c-.4-.4-.92-.59-1.43-.59-.52 0-1.04.2-1.43.59L10.3 9.45l-7.72 7.72c-.78.78-.78 2.05 0 2.83L4 21.41c.39.39.9.59 1.41.59.51 0 1.02-.2 1.41-.59l7.78-7.78 2.81-2.81c.8-.78.8-2.07 0-2.86zM5.41 20L4 18.59l7.72-7.72 1.47 1.35L5.41 20z\"/>\n",
              "  </svg>\n",
              "      </button>\n",
              "      \n",
              "  <style>\n",
              "    .colab-df-container {\n",
              "      display:flex;\n",
              "      flex-wrap:wrap;\n",
              "      gap: 12px;\n",
              "    }\n",
              "\n",
              "    .colab-df-convert {\n",
              "      background-color: #E8F0FE;\n",
              "      border: none;\n",
              "      border-radius: 50%;\n",
              "      cursor: pointer;\n",
              "      display: none;\n",
              "      fill: #1967D2;\n",
              "      height: 32px;\n",
              "      padding: 0 0 0 0;\n",
              "      width: 32px;\n",
              "    }\n",
              "\n",
              "    .colab-df-convert:hover {\n",
              "      background-color: #E2EBFA;\n",
              "      box-shadow: 0px 1px 2px rgba(60, 64, 67, 0.3), 0px 1px 3px 1px rgba(60, 64, 67, 0.15);\n",
              "      fill: #174EA6;\n",
              "    }\n",
              "\n",
              "    [theme=dark] .colab-df-convert {\n",
              "      background-color: #3B4455;\n",
              "      fill: #D2E3FC;\n",
              "    }\n",
              "\n",
              "    [theme=dark] .colab-df-convert:hover {\n",
              "      background-color: #434B5C;\n",
              "      box-shadow: 0px 1px 3px 1px rgba(0, 0, 0, 0.15);\n",
              "      filter: drop-shadow(0px 1px 2px rgba(0, 0, 0, 0.3));\n",
              "      fill: #FFFFFF;\n",
              "    }\n",
              "  </style>\n",
              "\n",
              "      <script>\n",
              "        const buttonEl =\n",
              "          document.querySelector('#df-ffb22fbc-27a3-44a5-b3ed-a0af057538d6 button.colab-df-convert');\n",
              "        buttonEl.style.display =\n",
              "          google.colab.kernel.accessAllowed ? 'block' : 'none';\n",
              "\n",
              "        async function convertToInteractive(key) {\n",
              "          const element = document.querySelector('#df-ffb22fbc-27a3-44a5-b3ed-a0af057538d6');\n",
              "          const dataTable =\n",
              "            await google.colab.kernel.invokeFunction('convertToInteractive',\n",
              "                                                     [key], {});\n",
              "          if (!dataTable) return;\n",
              "\n",
              "          const docLinkHtml = 'Like what you see? Visit the ' +\n",
              "            '<a target=\"_blank\" href=https://colab.research.google.com/notebooks/data_table.ipynb>data table notebook</a>'\n",
              "            + ' to learn more about interactive tables.';\n",
              "          element.innerHTML = '';\n",
              "          dataTable['output_type'] = 'display_data';\n",
              "          await google.colab.output.renderOutput(dataTable, element);\n",
              "          const docLink = document.createElement('div');\n",
              "          docLink.innerHTML = docLinkHtml;\n",
              "          element.appendChild(docLink);\n",
              "        }\n",
              "      </script>\n",
              "    </div>\n",
              "  </div>\n",
              "  "
            ]
          },
          "metadata": {},
          "execution_count": 2
        }
      ],
      "source": [
        "df=pd.read_csv('footballer_data.csv').dropna()\n",
        "data=df.drop(['ID','club','club_logo','birth_date','flag','nationality','photo','potential'],axis=1)\n",
        "data=pd.concat([data.drop(['work_rate_att','work_rate_def','preferred_foot'],axis=1),pd.get_dummies(data[['work_rate_att','work_rate_def','preferred_foot']])],axis=1)\n",
        "overall=data.overall\n",
        "data=data.drop(['overall'],axis=1)\n",
        "data.head()"
      ]
    },
    {
      "cell_type": "markdown",
      "metadata": {
        "id": "9aNFr0IIWW-y"
      },
      "source": [
        "### Question 2: /10 pts\n",
        "\n",
        "The data should all be numerical now. To evalute different models, define a function that returns the mean absolute error. Before we begin modelling, it is important to obtain a baseline for the accuracy of our predictive models. Compute the absolute errors resulting if we use the median of the `overall` variable to make predictions. This will serve as our baseline performance. Plot the distribution of the errors and print their mean and standard deviation."
      ]
    },
    {
      "cell_type": "code",
      "execution_count": 3,
      "metadata": {
        "colab": {
          "base_uri": "https://localhost:8080/",
          "height": 384
        },
        "id": "-XCFAG0fWW-z",
        "outputId": "3b3d2796-e8da-4bdd-bd7e-53f2f14979ca"
      },
      "outputs": [
        {
          "output_type": "stream",
          "name": "stdout",
          "text": [
            "Mean:3.4267638424941795,Standard DeviationL:2.9832963413208113\n"
          ]
        },
        {
          "output_type": "stream",
          "name": "stderr",
          "text": [
            "/usr/local/lib/python3.7/dist-packages/seaborn/distributions.py:2619: FutureWarning: `distplot` is a deprecated function and will be removed in a future version. Please adapt your code to use either `displot` (a figure-level function with similar flexibility) or `histplot` (an axes-level function for histograms).\n",
            "  warnings.warn(msg, FutureWarning)\n"
          ]
        },
        {
          "output_type": "execute_result",
          "data": {
            "text/plain": [
              "Text(0.5, 1.0, 'Distribution of errors')"
            ]
          },
          "metadata": {},
          "execution_count": 3
        },
        {
          "output_type": "display_data",
          "data": {
            "text/plain": [
              "<Figure size 432x288 with 1 Axes>"
            ],
            "image/png": "[encoded data removed]"
          },
          "metadata": {
            "needs_background": "light"
          }
        }
      ],
      "source": [
        "# Define mean absolute error function  \n",
        "def mae(y,pred_y):\n",
        "  return np.abs(y-pred_y).mean()\n",
        "# Get mean and std of test loss \n",
        "median = np.median(overall)\n",
        "mae_median=mae(overall,median)\n",
        "sigma=abs(median-overall).std()\n",
        "# Plot distribution  \n",
        "sns.distplot(abs(overall-median))\n",
        "print(f'Mean:{mae_median},Standard DeviationL:{sigma}')\n",
        "plt.title('Distribution of errors')\n",
        "\n"
      ]
    },
    {
      "cell_type": "markdown",
      "metadata": {
        "id": "n-FzJFs0WW-z"
      },
      "source": [
        "### Question 2: /15pts\n",
        "To prepare the data for modelling, the Senior Data Scientist recomends you use `sklearn.model_selection.train_test_split` to seperate the data into a training set and a test set.\n",
        "\n",
        "The Senior Data Scientist would like to estimate the performance of the final selected model to within +/- 0.25 units using mean absolute error as the loss function of choice.  \n",
        "\n",
        "Using the formula for the effective test size ($n$) to get the precision to specific precision ($d$) relative to the test loss standard deviation of $\\sigma_l$\n",
        "$$ n = \\left(\\frac{1.96 \\sigma_l}{d}\\right)^2$$,\n",
        "\n",
        "decide on an appropriate size for the test set, then use `train_test_split` to split the features and target variables into appropriate sets."
      ]
    },
    {
      "cell_type": "code",
      "execution_count": 4,
      "metadata": {
        "id": "6m51qWrQWW-z"
      },
      "outputs": [],
      "source": [
        "n=round((4*1.96*sigma)**2)\n",
        "X_train,X_test,y_train,y_test=train_test_split(data,overall,test_size=n,random_state=0)"
      ]
    },
    {
      "cell_type": "code",
      "source": [],
      "metadata": {
        "id": "onxAMoeKh_e-"
      },
      "execution_count": null,
      "outputs": []
    },
    {
      "cell_type": "markdown",
      "metadata": {
        "id": "wCuA7FZiWW-z"
      },
      "source": [
        "### Question 4: /5pts\n",
        "The Senior Data Scientist wants you to fit a linear regression to the data as a first model.  Use sklearn to build a model pipeline which fits a linear regression to the data. You can read up on sklearn pipelines [here](https://scikit-learn.org/stable/modules/generated/sklearn.pipeline.Pipeline.html). Note that the sklearn linear regression adds its own intercept so you don't need to create a column of 1s."
      ]
    },
    {
      "cell_type": "code",
      "execution_count": 5,
      "metadata": {
        "id": "WF2s4TFLWW-z"
      },
      "outputs": [],
      "source": [
        "pipeline = Pipeline([('linear_regression', LinearRegression())])\n",
        "model=pipeline.fit(X_train,y_train)"
      ]
    },
    {
      "cell_type": "markdown",
      "metadata": {
        "id": "BzCK9zqKWW-0"
      },
      "source": [
        "### Question 5: /15pts\n",
        "\n",
        "The senior data scientist wants a report of this model's cross validation score.  Use 5 fold cross validation to estimate the out of sample performance for this model, using your mean absolute error function from question 2.  "
      ]
    },
    {
      "cell_type": "code",
      "execution_count": 6,
      "metadata": {
        "id": "jkG8xufhWW-0",
        "colab": {
          "base_uri": "https://localhost:8080/"
        },
        "outputId": "361b5c68-28d3-47d3-cf49-7c8cb324adda"
      },
      "outputs": [
        {
          "output_type": "stream",
          "name": "stdout",
          "text": [
            "mae cvscores:1.6032009657120294\n"
          ]
        }
      ],
      "source": [
        "scorer=make_scorer(mae)\n",
        "cvscore=cross_val_score(estimator=model,X=X_train,y=y_train,cv=5,scoring=scorer)\n",
        "print(f'mae cvscores:{cvscore.mean()}')\n"
      ]
    },
    {
      "cell_type": "markdown",
      "metadata": {
        "id": "DQ62W_m6WW-0"
      },
      "source": [
        "### Question 6: /15pts\n",
        "\n",
        "That's impressive!  Your model seems to be very accurate, but now the Senior Data Scientist wants to try and make it more accurate.  Scouts have shared with the Senior Data Scientist that players hit their prime in their late 20s, and as they age they become worse overall.\n",
        "\n",
        "The Senior Data Scientist wants to add a quadratic term for age to the model.  Repeat the steps above (creating a pipeline, validating the model, etc) for a model which includes a quadratic term for age. As in the Lab, include the addition of the quadratic term for Age as a Transform into the pipeline. "
      ]
    },
    {
      "cell_type": "code",
      "execution_count": 7,
      "metadata": {
        "id": "arm3OLGjWW-0",
        "colab": {
          "base_uri": "https://localhost:8080/"
        },
        "outputId": "e8c76499-3a8a-4e08-9e99-2506235aa018"
      },
      "outputs": [
        {
          "output_type": "stream",
          "name": "stdout",
          "text": [
            "mae cvscores:1.598604901278145\n"
          ]
        }
      ],
      "source": [
        "poly= PolynomialFeatures(2)\n",
        "age_quadradic=poly.fit_transform(X_train.age.values.reshape(-1,1))[:,2]\n",
        "age_quadradic_X_train=X_train.copy()\n",
        "age_quadradic_X_train['age age']=age_quadradic\n",
        "\n",
        "model=pipeline.fit(age_quadradic_X_train,y_train)\n",
        "cvscore=cross_val_score(estimator=model,X=age_quadradic_X_train,y=y_train,scoring=scorer)\n",
        "print(f'mae cvscores:{cvscore.mean()}')"
      ]
    },
    {
      "cell_type": "markdown",
      "metadata": {
        "id": "q7TidUVrWW-1"
      },
      "source": [
        "### Question 7: /10 pts\n",
        "\n",
        "\n",
        "The Senior Data Scientist isn't too happy that the quadratic term has not improved the fit of the model much and now wants to include quadratic and interaction term for every feature (That's a total of 1080 features!!!!)\n",
        "\n",
        "Add sklearn's `PolynomialFeatures` to your pipeline.  Report the cross validation score."
      ]
    },
    {
      "cell_type": "code",
      "execution_count": 8,
      "metadata": {
        "id": "rKsfFFXrWW-1",
        "colab": {
          "base_uri": "https://localhost:8080/"
        },
        "outputId": "c26a146c-0c71-4d9b-82bd-2184d190e56c"
      },
      "outputs": [
        {
          "output_type": "stream",
          "name": "stdout",
          "text": [
            "0.8262900155900649\n"
          ]
        }
      ],
      "source": [
        "pipeline3=Pipeline([\n",
        "('poly',PolynomialFeatures(2, include_bias=False)),\n",
        "('linear_regression',LinearRegression())\n",
        "])\n",
        "cv_scores = cross_val_score(estimator = pipeline3, X=X_train, y=y_train,cv=5, scoring=scorer)\n",
        "print(cv_scores.mean())"
      ]
    },
    {
      "cell_type": "markdown",
      "metadata": {
        "id": "2EyCVA2dWW-1"
      },
      "source": [
        "### Question 8: /10pts\n",
        "\n",
        "The Senior Data Scientist is really happy with the results of adding every interaction into the model and wants to explore third order interactions (that is adding cubic terms to the model).\n",
        "\n",
        "This is not a good idea!  Talk them down from the ledge.  Write them an email in the cell below explaining what could happen if you add too may interactions.\n",
        "\n",
        "---"
      ]
    },
    {
      "cell_type": "markdown",
      "metadata": {
        "id": "pggpDZOOWW-2"
      },
      "source": [
        "Hey Boss,\n",
        "\n",
        "I hope your week has been going well because I am definitely not having a great time at the moment.\n",
        "\n",
        "Please don't make us to implement the third order interactions for the model since it will add over 48,000 features to the model which would take a tremendous amonut of computational power in order to develop the model. The bias-variaence tradeoff is not worth it for a higher order prediction since the higher the degree, the less bias and higher than variance the model has. When we test the higher degree model, it will havea large errors due to overfitting and it causes the model to produce too much varience when applied to live data.\n",
        "\n",
        "If you don't want to see our staff situation ended up like Twitter, please don't mplement the third order interactions.\n",
        "\n",
        "Sincerly,\n",
        "\n",
        "Junior Data Scientist\n",
        "\n"
      ]
    },
    {
      "cell_type": "markdown",
      "metadata": {
        "id": "e3hbZ9HNWW-2"
      },
      "source": [
        "### Question 9:  /10pts\n",
        "\n",
        "You've successfully talked the Senior Data Scientist out of adding cubic terms to the model. Good job!\n",
        "\n",
        "Based on the cross validation scores, which model would you choose? \n",
        "\n",
        "Ans: The third pipeline model.\n",
        "\n",
        "Train you model on all the training data. \n",
        "Estimate the performance of your chosen model on the test data you held out, and do the following:\n",
        "\n",
        "- Compute a point estimate for the generalization error.\n",
        "- Compute a confidence interval for the generalization error.  \n",
        "- Plot the distribution of the absolute errors.\n",
        "\n",
        "Is the test error close to the cross validation error of the model you chose? Why do you think this is the case?\n",
        "\n",
        "Ans: Yes. the third model provide a good balance between bias and varience. The test error is low and the model is not overfitted.\n"
      ]
    },
    {
      "cell_type": "code",
      "execution_count": 9,
      "metadata": {
        "id": "_A2QEV5AWW-2",
        "colab": {
          "base_uri": "https://localhost:8080/",
          "height": 384
        },
        "outputId": "0d404b49-ab43-4066-bedc-05434e80fafe"
      },
      "outputs": [
        {
          "output_type": "stream",
          "name": "stdout",
          "text": [
            "conf_int:[0.76314333 0.87584896], Gen Error: 0.8194961455622582\n"
          ]
        },
        {
          "output_type": "stream",
          "name": "stderr",
          "text": [
            "/usr/local/lib/python3.7/dist-packages/seaborn/distributions.py:2619: FutureWarning: `distplot` is a deprecated function and will be removed in a future version. Please adapt your code to use either `displot` (a figure-level function with similar flexibility) or `histplot` (an axes-level function for histograms).\n",
            "  warnings.warn(msg, FutureWarning)\n"
          ]
        },
        {
          "output_type": "execute_result",
          "data": {
            "text/plain": [
              "Text(0.5, 1.0, 'Absolute error distribution')"
            ]
          },
          "metadata": {},
          "execution_count": 9
        },
        {
          "output_type": "display_data",
          "data": {
            "text/plain": [
              "<Figure size 432x288 with 1 Axes>"
            ],
            "image/png": "[encoded data removed]"
          },
          "metadata": {
            "needs_background": "light"
          }
        }
      ],
      "source": [
        "model = pipeline3.fit(X_train, y_train)\n",
        "\n",
        "pred_y = model.predict(X_test)\n",
        "\n",
        "res = abs(pred_y - y_test)\n",
        "mae_final = res.mean()\n",
        "mae_std = np.std((res))\n",
        "conf_int = mae_final + (1.96*mae_std/(len(pred_y))**0.5)*np.array([-1,1])\n",
        "print(f\"conf_int:{conf_int}, Gen Error: {mae_final}\")\n",
        "sns.distplot(res)\n",
        "plt.title(\"Absolute error distribution\")"
      ]
    },
    {
      "cell_type": "markdown",
      "metadata": {
        "id": "Sg2hv4zwWW-2"
      },
      "source": [
        "### Follow These Steps before submitting\n",
        "Once you are finished, ensure to complete the following steps.\n",
        "\n",
        "1.  Restart your kernel by clicking 'Kernel' > 'Restart & Run All'.\n",
        "\n",
        "2.  Fix any errors which result from this.\n",
        "\n",
        "3.  Repeat steps 1. and 2. until your notebook runs without errors.\n",
        "\n",
        "4.  Submit your completed notebook to OWL by the deadline."
      ]
    }
  ],
  "metadata": {
    "kernelspec": {
      "display_name": "Python 3 (ipykernel)",
      "language": "python",
      "name": "python3"
    },
    "language_info": {
      "codemirror_mode": {
        "name": "ipython",
        "version": 3
      },
      "file_extension": ".py",
      "mimetype": "text/x-python",
      "name": "python",
      "nbconvert_exporter": "python",
      "pygments_lexer": "ipython3",
      "version": "3.9.7"
    },
    "colab": {
      "provenance": []
    }
  },
  "nbformat": 4,
  "nbformat_minor": 0
}