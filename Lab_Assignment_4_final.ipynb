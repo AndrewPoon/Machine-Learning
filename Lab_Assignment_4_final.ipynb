{
  "cells": [
    {
      "cell_type": "markdown",
      "metadata": {
        "id": "nSaJMd06ZY62"
      },
      "source": [
        "# Grade: /100 pts\n",
        "\n",
        "# Lab Assignment 04: Regularization"
      ]
    },
    {
      "cell_type": "code",
      "execution_count": 12,
      "metadata": {
        "id": "7iz2pNCEZY66"
      },
      "outputs": [],
      "source": [
        "import pandas as pd\n",
        "import numpy as np\n",
        "import matplotlib.pyplot as plt\n",
        "import seaborn as sns\n",
        "import sklearn as sk\n",
        "from sklearn.model_selection import train_test_split, cross_val_score, GridSearchCV\n",
        "from sklearn.linear_model import Ridge\n",
        "from sklearn.pipeline import Pipeline\n",
        "from sklearn.preprocessing import StandardScaler, PolynomialFeatures\n",
        "from sklearn.metrics import mean_squared_error\n",
        "\n",
        "pd.set_option('display.max_columns', 500)\n",
        "\n",
        "%matplotlib inline"
      ]
    },
    {
      "cell_type": "markdown",
      "metadata": {
        "id": "wcMnVzKuZY69"
      },
      "source": [
        "### Question1: Preprocessing (5pt)\n",
        "**Make sure to only use the imports included in the first cell. Any additional imports used will result in 0.** <br>\n",
        "Tasks:\n",
        "* Load the data present in 'footballer_small.csv' using the pandas library and store the loaded data in a dataframe\n",
        "* Drop the variables: 'ID','club','club_logo','flag', 'nationality','photo','potential', 'birth_date'\n",
        "* Dummy code the variables: work_rate_att, work_rate_def, preferred_foot. **Because we are running a regularized model, we do not want to drop the first column**\n",
        "* Get a test data set of size 500 - to make results comparable to solutions, set random_state = 0 <br>"
      ]
    },
    {
      "cell_type": "code",
      "execution_count": 13,
      "metadata": {
        "colab": {
          "base_uri": "https://localhost:8080/",
          "height": 270
        },
        "id": "Yz-IvinxZY6_",
        "outputId": "18b67b96-870f-4701-b4e6-139fbc829e38"
      },
      "outputs": [
        {
          "output_type": "execute_result",
          "data": {
            "text/plain": [
              "   age  height_cm  weight_kg  overall  pac  sho  pas  dri  def  phy  \\\n",
              "0   29      186.0       82.0       68   70   50   56   61   66   74   \n",
              "1   21      194.0       87.0       59   61   57   53   61   45   54   \n",
              "2   23      175.0       72.0       65   85   28   55   62   60   68   \n",
              "3   26      185.0       80.0       73   76   54   67   73   69   78   \n",
              "4   19      182.0       76.0       48   47   46   51   50   39   47   \n",
              "\n",
              "   international_reputation  skill_moves  weak_foot  crossing  finishing  \\\n",
              "0                         1            2          3        58         44   \n",
              "1                         1            1          2        15         19   \n",
              "2                         1            2          2        60         22   \n",
              "3                         1            2          3        76         41   \n",
              "4                         1            1          2        14         11   \n",
              "\n",
              "   heading_accuracy  short_passing  volleys  dribbling  curve  \\\n",
              "0                65             59       49         56     48   \n",
              "1                15             25       13         16     16   \n",
              "2                54             58       24         59     30   \n",
              "3                60             64       52         75     59   \n",
              "4                13             26       12         14     11   \n",
              "\n",
              "   free_kick_accuracy  long_passing  ball_control  acceleration  sprint_speed  \\\n",
              "0                  42            58            68            64            74   \n",
              "1                  15            19            18            48            42   \n",
              "2                  35            57            62            88            83   \n",
              "3                  40            73            73            73            78   \n",
              "4                  11            22            15            37            41   \n",
              "\n",
              "   agility  reactions  balance  shot_power  jumping  stamina  strength  \\\n",
              "0       66         62       59          59       80       73        76   \n",
              "1       40         57       33          20       44       39        56   \n",
              "2       70         53       75          43       73       79        65   \n",
              "3       67         68       63          65       70       87        79   \n",
              "4       33         45       43          18       56       28        49   \n",
              "\n",
              "   long_shots  aggression  interceptions  positioning  vision  penalties  \\\n",
              "0          51          70             64           43      52         69   \n",
              "1          14          25             23           12      26         22   \n",
              "2          24          58             52           48      55         31   \n",
              "3          74          67             75           68      68         38   \n",
              "4          12          18             12           12      25         16   \n",
              "\n",
              "   composure  marking  standing_tackle  work_rate_att_High  work_rate_att_Low  \\\n",
              "0         65       63               70                   0                  0   \n",
              "1         22       15               16                   0                  0   \n",
              "2         34       60               67                   0                  0   \n",
              "3         66       66               69                   0                  0   \n",
              "4         38       12               12                   0                  0   \n",
              "\n",
              "   work_rate_att_Medium  work_rate_def_High  work_rate_def_Low  \\\n",
              "0                     1                   0                  0   \n",
              "1                     1                   0                  0   \n",
              "2                     1                   1                  0   \n",
              "3                     1                   0                  0   \n",
              "4                     1                   0                  0   \n",
              "\n",
              "   work_rate_def_Medium  preferred_foot_Left  preferred_foot_Right  \n",
              "0                     1                    0                     1  \n",
              "1                     1                    0                     1  \n",
              "2                     0                    0                     1  \n",
              "3                     1                    0                     1  \n",
              "4                     1                    0                     1  "
            ],
            "text/html": [
              "\n",
              "  <div id=\"df-fa7d1bd8-72b5-4ade-9298-5fa40bfbcc5a\">\n",
              "    <div class=\"colab-df-container\">\n",
              "      <div>\n",
              "<style scoped>\n",
              "    .dataframe tbody tr th:only-of-type {\n",
              "        vertical-align: middle;\n",
              "    }\n",
              "\n",
              "    .dataframe tbody tr th {\n",
              "        vertical-align: top;\n",
              "    }\n",
              "\n",
              "    .dataframe thead th {\n",
              "        text-align: right;\n",
              "    }\n",
              "</style>\n",
              "<table border=\"1\" class=\"dataframe\">\n",
              "  <thead>\n",
              "    <tr style=\"text-align: right;\">\n",
              "      <th></th>\n",
              "      <th>age</th>\n",
              "      <th>height_cm</th>\n",
              "      <th>weight_kg</th>\n",
              "      <th>overall</th>\n",
              "      <th>pac</th>\n",
              "      <th>sho</th>\n",
              "      <th>pas</th>\n",
              "      <th>dri</th>\n",
              "      <th>def</th>\n",
              "      <th>phy</th>\n",
              "      <th>international_reputation</th>\n",
              "      <th>skill_moves</th>\n",
              "      <th>weak_foot</th>\n",
              "      <th>crossing</th>\n",
              "      <th>finishing</th>\n",
              "      <th>heading_accuracy</th>\n",
              "      <th>short_passing</th>\n",
              "      <th>volleys</th>\n",
              "      <th>dribbling</th>\n",
              "      <th>curve</th>\n",
              "      <th>free_kick_accuracy</th>\n",
              "      <th>long_passing</th>\n",
              "      <th>ball_control</th>\n",
              "      <th>acceleration</th>\n",
              "      <th>sprint_speed</th>\n",
              "      <th>agility</th>\n",
              "      <th>reactions</th>\n",
              "      <th>balance</th>\n",
              "      <th>shot_power</th>\n",
              "      <th>jumping</th>\n",
              "      <th>stamina</th>\n",
              "      <th>strength</th>\n",
              "      <th>long_shots</th>\n",
              "      <th>aggression</th>\n",
              "      <th>interceptions</th>\n",
              "      <th>positioning</th>\n",
              "      <th>vision</th>\n",
              "      <th>penalties</th>\n",
              "      <th>composure</th>\n",
              "      <th>marking</th>\n",
              "      <th>standing_tackle</th>\n",
              "      <th>work_rate_att_High</th>\n",
              "      <th>work_rate_att_Low</th>\n",
              "      <th>work_rate_att_Medium</th>\n",
              "      <th>work_rate_def_High</th>\n",
              "      <th>work_rate_def_Low</th>\n",
              "      <th>work_rate_def_Medium</th>\n",
              "      <th>preferred_foot_Left</th>\n",
              "      <th>preferred_foot_Right</th>\n",
              "    </tr>\n",
              "  </thead>\n",
              "  <tbody>\n",
              "    <tr>\n",
              "      <th>0</th>\n",
              "      <td>29</td>\n",
              "      <td>186.0</td>\n",
              "      <td>82.0</td>\n",
              "      <td>68</td>\n",
              "      <td>70</td>\n",
              "      <td>50</td>\n",
              "      <td>56</td>\n",
              "      <td>61</td>\n",
              "      <td>66</td>\n",
              "      <td>74</td>\n",
              "      <td>1</td>\n",
              "      <td>2</td>\n",
              "      <td>3</td>\n",
              "      <td>58</td>\n",
              "      <td>44</td>\n",
              "      <td>65</td>\n",
              "      <td>59</td>\n",
              "      <td>49</td>\n",
              "      <td>56</td>\n",
              "      <td>48</td>\n",
              "      <td>42</td>\n",
              "      <td>58</td>\n",
              "      <td>68</td>\n",
              "      <td>64</td>\n",
              "      <td>74</td>\n",
              "      <td>66</td>\n",
              "      <td>62</td>\n",
              "      <td>59</td>\n",
              "      <td>59</td>\n",
              "      <td>80</td>\n",
              "      <td>73</td>\n",
              "      <td>76</td>\n",
              "      <td>51</td>\n",
              "      <td>70</td>\n",
              "      <td>64</td>\n",
              "      <td>43</td>\n",
              "      <td>52</td>\n",
              "      <td>69</td>\n",
              "      <td>65</td>\n",
              "      <td>63</td>\n",
              "      <td>70</td>\n",
              "      <td>0</td>\n",
              "      <td>0</td>\n",
              "      <td>1</td>\n",
              "      <td>0</td>\n",
              "      <td>0</td>\n",
              "      <td>1</td>\n",
              "      <td>0</td>\n",
              "      <td>1</td>\n",
              "    </tr>\n",
              "    <tr>\n",
              "      <th>1</th>\n",
              "      <td>21</td>\n",
              "      <td>194.0</td>\n",
              "      <td>87.0</td>\n",
              "      <td>59</td>\n",
              "      <td>61</td>\n",
              "      <td>57</td>\n",
              "      <td>53</td>\n",
              "      <td>61</td>\n",
              "      <td>45</td>\n",
              "      <td>54</td>\n",
              "      <td>1</td>\n",
              "      <td>1</td>\n",
              "      <td>2</td>\n",
              "      <td>15</td>\n",
              "      <td>19</td>\n",
              "      <td>15</td>\n",
              "      <td>25</td>\n",
              "      <td>13</td>\n",
              "      <td>16</td>\n",
              "      <td>16</td>\n",
              "      <td>15</td>\n",
              "      <td>19</td>\n",
              "      <td>18</td>\n",
              "      <td>48</td>\n",
              "      <td>42</td>\n",
              "      <td>40</td>\n",
              "      <td>57</td>\n",
              "      <td>33</td>\n",
              "      <td>20</td>\n",
              "      <td>44</td>\n",
              "      <td>39</td>\n",
              "      <td>56</td>\n",
              "      <td>14</td>\n",
              "      <td>25</td>\n",
              "      <td>23</td>\n",
              "      <td>12</td>\n",
              "      <td>26</td>\n",
              "      <td>22</td>\n",
              "      <td>22</td>\n",
              "      <td>15</td>\n",
              "      <td>16</td>\n",
              "      <td>0</td>\n",
              "      <td>0</td>\n",
              "      <td>1</td>\n",
              "      <td>0</td>\n",
              "      <td>0</td>\n",
              "      <td>1</td>\n",
              "      <td>0</td>\n",
              "      <td>1</td>\n",
              "    </tr>\n",
              "    <tr>\n",
              "      <th>2</th>\n",
              "      <td>23</td>\n",
              "      <td>175.0</td>\n",
              "      <td>72.0</td>\n",
              "      <td>65</td>\n",
              "      <td>85</td>\n",
              "      <td>28</td>\n",
              "      <td>55</td>\n",
              "      <td>62</td>\n",
              "      <td>60</td>\n",
              "      <td>68</td>\n",
              "      <td>1</td>\n",
              "      <td>2</td>\n",
              "      <td>2</td>\n",
              "      <td>60</td>\n",
              "      <td>22</td>\n",
              "      <td>54</td>\n",
              "      <td>58</td>\n",
              "      <td>24</td>\n",
              "      <td>59</td>\n",
              "      <td>30</td>\n",
              "      <td>35</td>\n",
              "      <td>57</td>\n",
              "      <td>62</td>\n",
              "      <td>88</td>\n",
              "      <td>83</td>\n",
              "      <td>70</td>\n",
              "      <td>53</td>\n",
              "      <td>75</td>\n",
              "      <td>43</td>\n",
              "      <td>73</td>\n",
              "      <td>79</td>\n",
              "      <td>65</td>\n",
              "      <td>24</td>\n",
              "      <td>58</td>\n",
              "      <td>52</td>\n",
              "      <td>48</td>\n",
              "      <td>55</td>\n",
              "      <td>31</td>\n",
              "      <td>34</td>\n",
              "      <td>60</td>\n",
              "      <td>67</td>\n",
              "      <td>0</td>\n",
              "      <td>0</td>\n",
              "      <td>1</td>\n",
              "      <td>1</td>\n",
              "      <td>0</td>\n",
              "      <td>0</td>\n",
              "      <td>0</td>\n",
              "      <td>1</td>\n",
              "    </tr>\n",
              "    <tr>\n",
              "      <th>3</th>\n",
              "      <td>26</td>\n",
              "      <td>185.0</td>\n",
              "      <td>80.0</td>\n",
              "      <td>73</td>\n",
              "      <td>76</td>\n",
              "      <td>54</td>\n",
              "      <td>67</td>\n",
              "      <td>73</td>\n",
              "      <td>69</td>\n",
              "      <td>78</td>\n",
              "      <td>1</td>\n",
              "      <td>2</td>\n",
              "      <td>3</td>\n",
              "      <td>76</td>\n",
              "      <td>41</td>\n",
              "      <td>60</td>\n",
              "      <td>64</td>\n",
              "      <td>52</td>\n",
              "      <td>75</td>\n",
              "      <td>59</td>\n",
              "      <td>40</td>\n",
              "      <td>73</td>\n",
              "      <td>73</td>\n",
              "      <td>73</td>\n",
              "      <td>78</td>\n",
              "      <td>67</td>\n",
              "      <td>68</td>\n",
              "      <td>63</td>\n",
              "      <td>65</td>\n",
              "      <td>70</td>\n",
              "      <td>87</td>\n",
              "      <td>79</td>\n",
              "      <td>74</td>\n",
              "      <td>67</td>\n",
              "      <td>75</td>\n",
              "      <td>68</td>\n",
              "      <td>68</td>\n",
              "      <td>38</td>\n",
              "      <td>66</td>\n",
              "      <td>66</td>\n",
              "      <td>69</td>\n",
              "      <td>0</td>\n",
              "      <td>0</td>\n",
              "      <td>1</td>\n",
              "      <td>0</td>\n",
              "      <td>0</td>\n",
              "      <td>1</td>\n",
              "      <td>0</td>\n",
              "      <td>1</td>\n",
              "    </tr>\n",
              "    <tr>\n",
              "      <th>4</th>\n",
              "      <td>19</td>\n",
              "      <td>182.0</td>\n",
              "      <td>76.0</td>\n",
              "      <td>48</td>\n",
              "      <td>47</td>\n",
              "      <td>46</td>\n",
              "      <td>51</td>\n",
              "      <td>50</td>\n",
              "      <td>39</td>\n",
              "      <td>47</td>\n",
              "      <td>1</td>\n",
              "      <td>1</td>\n",
              "      <td>2</td>\n",
              "      <td>14</td>\n",
              "      <td>11</td>\n",
              "      <td>13</td>\n",
              "      <td>26</td>\n",
              "      <td>12</td>\n",
              "      <td>14</td>\n",
              "      <td>11</td>\n",
              "      <td>11</td>\n",
              "      <td>22</td>\n",
              "      <td>15</td>\n",
              "      <td>37</td>\n",
              "      <td>41</td>\n",
              "      <td>33</td>\n",
              "      <td>45</td>\n",
              "      <td>43</td>\n",
              "      <td>18</td>\n",
              "      <td>56</td>\n",
              "      <td>28</td>\n",
              "      <td>49</td>\n",
              "      <td>12</td>\n",
              "      <td>18</td>\n",
              "      <td>12</td>\n",
              "      <td>12</td>\n",
              "      <td>25</td>\n",
              "      <td>16</td>\n",
              "      <td>38</td>\n",
              "      <td>12</td>\n",
              "      <td>12</td>\n",
              "      <td>0</td>\n",
              "      <td>0</td>\n",
              "      <td>1</td>\n",
              "      <td>0</td>\n",
              "      <td>0</td>\n",
              "      <td>1</td>\n",
              "      <td>0</td>\n",
              "      <td>1</td>\n",
              "    </tr>\n",
              "  </tbody>\n",
              "</table>\n",
              "</div>\n",
              "      <button class=\"colab-df-convert\" onclick=\"convertToInteractive('df-fa7d1bd8-72b5-4ade-9298-5fa40bfbcc5a')\"\n",
              "              title=\"Convert this dataframe to an interactive table.\"\n",
              "              style=\"display:none;\">\n",
              "        \n",
              "  <svg xmlns=\"http://www.w3.org/2000/svg\" height=\"24px\"viewBox=\"0 0 24 24\"\n",
              "       width=\"24px\">\n",
              "    <path d=\"M0 0h24v24H0V0z\" fill=\"none\"/>\n",
              "    <path d=\"M18.56 5.44l.94 2.06.94-2.06 2.06-.94-2.06-.94-.94-2.06-.94 2.06-2.06.94zm-11 1L8.5 8.5l.94-2.06 2.06-.94-2.06-.94L8.5 2.5l-.94 2.06-2.06.94zm10 10l.94 2.06.94-2.06 2.06-.94-2.06-.94-.94-2.06-.94 2.06-2.06.94z\"/><path d=\"M17.41 7.96l-1.37-1.37c-.4-.4-.92-.59-1.43-.59-.52 0-1.04.2-1.43.59L10.3 9.45l-7.72 7.72c-.78.78-.78 2.05 0 2.83L4 21.41c.39.39.9.59 1.41.59.51 0 1.02-.2 1.41-.59l7.78-7.78 2.81-2.81c.8-.78.8-2.07 0-2.86zM5.41 20L4 18.59l7.72-7.72 1.47 1.35L5.41 20z\"/>\n",
              "  </svg>\n",
              "      </button>\n",
              "      \n",
              "  <style>\n",
              "    .colab-df-container {\n",
              "      display:flex;\n",
              "      flex-wrap:wrap;\n",
              "      gap: 12px;\n",
              "    }\n",
              "\n",
              "    .colab-df-convert {\n",
              "      background-color: #E8F0FE;\n",
              "      border: none;\n",
              "      border-radius: 50%;\n",
              "      cursor: pointer;\n",
              "      display: none;\n",
              "      fill: #1967D2;\n",
              "      height: 32px;\n",
              "      padding: 0 0 0 0;\n",
              "      width: 32px;\n",
              "    }\n",
              "\n",
              "    .colab-df-convert:hover {\n",
              "      background-color: #E2EBFA;\n",
              "      box-shadow: 0px 1px 2px rgba(60, 64, 67, 0.3), 0px 1px 3px 1px rgba(60, 64, 67, 0.15);\n",
              "      fill: #174EA6;\n",
              "    }\n",
              "\n",
              "    [theme=dark] .colab-df-convert {\n",
              "      background-color: #3B4455;\n",
              "      fill: #D2E3FC;\n",
              "    }\n",
              "\n",
              "    [theme=dark] .colab-df-convert:hover {\n",
              "      background-color: #434B5C;\n",
              "      box-shadow: 0px 1px 3px 1px rgba(0, 0, 0, 0.15);\n",
              "      filter: drop-shadow(0px 1px 2px rgba(0, 0, 0, 0.3));\n",
              "      fill: #FFFFFF;\n",
              "    }\n",
              "  </style>\n",
              "\n",
              "      <script>\n",
              "        const buttonEl =\n",
              "          document.querySelector('#df-fa7d1bd8-72b5-4ade-9298-5fa40bfbcc5a button.colab-df-convert');\n",
              "        buttonEl.style.display =\n",
              "          google.colab.kernel.accessAllowed ? 'block' : 'none';\n",
              "\n",
              "        async function convertToInteractive(key) {\n",
              "          const element = document.querySelector('#df-fa7d1bd8-72b5-4ade-9298-5fa40bfbcc5a');\n",
              "          const dataTable =\n",
              "            await google.colab.kernel.invokeFunction('convertToInteractive',\n",
              "                                                     [key], {});\n",
              "          if (!dataTable) return;\n",
              "\n",
              "          const docLinkHtml = 'Like what you see? Visit the ' +\n",
              "            '<a target=\"_blank\" href=https://colab.research.google.com/notebooks/data_table.ipynb>data table notebook</a>'\n",
              "            + ' to learn more about interactive tables.';\n",
              "          element.innerHTML = '';\n",
              "          dataTable['output_type'] = 'display_data';\n",
              "          await google.colab.output.renderOutput(dataTable, element);\n",
              "          const docLink = document.createElement('div');\n",
              "          docLink.innerHTML = docLinkHtml;\n",
              "          element.appendChild(docLink);\n",
              "        }\n",
              "      </script>\n",
              "    </div>\n",
              "  </div>\n",
              "  "
            ]
          },
          "metadata": {},
          "execution_count": 13
        }
      ],
      "source": [
        "df=pd.read_csv('footballer_small.csv')\n",
        "df=df.drop(['ID','club','club_logo','flag', 'nationality','photo','potential', 'birth_date'],axis=1)\n",
        "df=pd.concat([df.drop(['work_rate_att','work_rate_def','preferred_foot'], axis=1),\n",
        "              pd.get_dummies(df[['work_rate_att','work_rate_def','preferred_foot']])],axis=1)\n",
        "y=df.overall\n",
        "x=df.drop(['overall'],axis=1)\n",
        "X_train,X_test,y_train,y_test=train_test_split(x,y,test_size=500,random_state=0)\n",
        "\n",
        "df.head()\n"
      ]
    },
    {
      "cell_type": "markdown",
      "metadata": {
        "id": "tYWv3ymtZY6_"
      },
      "source": [
        "## Question 2: Building the pipeline that preprocesses the data (10pts)\n",
        "In order to properly build the regression model, the features need to be standardized so that no feature can dominate others in determining the prediction values due to differences in feature scales. \n",
        "\n",
        "**1.** Build the pipeline that **preprocesses** the feature columns of the training data and **create** a linear regression model. \n",
        "\n",
        "**2.** Plot the data **before** and **after** the standardization for the stamina feature. <br>\n",
        "\n",
        "*NOTE: In this question, there is no need to overwrite the training set's values. Create a new variable to include the standardized data. The original training data is needed for future exercises.*\n",
        "\n",
        "**3.** **Question**: Make observations about the plots.  \n",
        "\n",
        "Answers: The plot are visually identical  but the values for the standardized values of stamina have a mean of zero and lower standard deviation than the original data. They also have differnt densities due to modified scale."
      ]
    },
    {
      "cell_type": "code",
      "execution_count": 14,
      "metadata": {
        "colab": {
          "base_uri": "https://localhost:8080/",
          "height": 620
        },
        "id": "BoFGyzPgZY7A",
        "outputId": "2978ce81-765d-400c-a303-25c86f5a01b9"
      },
      "outputs": [
        {
          "output_type": "stream",
          "name": "stderr",
          "text": [
            "/usr/local/lib/python3.7/dist-packages/seaborn/distributions.py:2619: FutureWarning: `distplot` is a deprecated function and will be removed in a future version. Please adapt your code to use either `displot` (a figure-level function with similar flexibility) or `histplot` (an axes-level function for histograms).\n",
            "  warnings.warn(msg, FutureWarning)\n",
            "/usr/local/lib/python3.7/dist-packages/seaborn/distributions.py:2619: FutureWarning: `distplot` is a deprecated function and will be removed in a future version. Please adapt your code to use either `displot` (a figure-level function with similar flexibility) or `histplot` (an axes-level function for histograms).\n",
            "  warnings.warn(msg, FutureWarning)\n"
          ]
        },
        {
          "output_type": "execute_result",
          "data": {
            "text/plain": [
              "Text(0.5, 1.0, 'Unscaled stamina density')"
            ]
          },
          "metadata": {},
          "execution_count": 14
        },
        {
          "output_type": "display_data",
          "data": {
            "text/plain": [
              "<Figure size 1080x576 with 2 Axes>"
            ],
            "image/png": "[encoded data removed]"
          },
          "metadata": {
            "needs_background": "light"
          }
        }
      ],
      "source": [
        "stamina_train= X_train.stamina\n",
        "\n",
        "pipeline=Pipeline([\n",
        "    ('scaler',StandardScaler()),\n",
        "    ('linear_regression',sk.linear_model.LinearRegression())\n",
        "])\n",
        "\n",
        "scaled_stamina=pipeline.named_steps['scaler'].fit_transform(X_train)[:,29]\n",
        "\n",
        "fig,ax=plt.subplots(ncols=2)\n",
        "fig.set_figheight(8)\n",
        "fig.set_figwidth(15)\n",
        "\n",
        "unscaled=sns.distplot(stamina_train,ax=ax[0])\n",
        "scaled=sns.distplot(scaled_stamina, ax=ax[1])\n",
        "plt.xlabel('stamina')\n",
        "plt.title('Scaled stamina density')\n",
        "unscaled.set_title('Unscaled stamina density')"
      ]
    },
    {
      "cell_type": "markdown",
      "metadata": {
        "id": "qWclKqKoZY7A"
      },
      "source": [
        "## Question 3: Creating a Complex feature model using 2-nd Polynomial features (10pts)\n",
        "In this task, the training data consists of the quadratic terms and 2-way interactions of all features except one of standing_tackle, composure, and marking variable. <br> \n",
        "\n",
        "**1.** Create <b> four </b> different training sets:\n",
        "* The first training set includes the quadratic terms and 2-way interactions of all the features. \n",
        "* The second/third/fourth training sets include all the features, their quadratic terms, and their 2-way interactions except the standing_tackle/composure/marking features. <br>\n",
        "\n",
        "***Hint:*** *For the 2nd/3rd and 4th training sets, create the training sets without the aforementioned features and then apply polynomial expansion to the resultant sets.* \n",
        "\n",
        "**2.** **Questions:**\n",
        "* How many **linear terms** are in each of the new feature set?\n",
        "\n",
        "Answer: The number of linear term is 48 for the first feature and 47 for the others\n",
        "* How many **squared terms** are in each of the new feature set? \n",
        "\n",
        "Answer: The number of squared terms is 49x48/2=1152 for the first feature set and 48x47/2=1128 for the others\n",
        "\n",
        "\n",
        "* How many **interaction terms** are in each of the new feature set? Give an **example of one of the interaction terms**. \n",
        "\n",
        "Answer: The number of interaction terms is 1152-48=1104 for the first feature set and 1128-47=1081 for the others. This is because the match."
      ]
    },
    {
      "cell_type": "code",
      "execution_count": 15,
      "metadata": {
        "id": "jJIwrBNEZY7C"
      },
      "outputs": [],
      "source": [
        "poly_features=PolynomialFeatures(degree=2)\n",
        "\n",
        "all_feature_fit=poly_features.fit_transform(X_train)\n",
        "\n",
        "training_no_standing= poly_features.fit_transform(X_train.drop(['standing_tackle'],axis=1))\n",
        "\n",
        "training_no_composure=poly_features.fit_transform(X_train.drop(['composure'],axis=1))\n",
        "\n",
        "training_no_marking=poly_features.fit_transform(X_train.drop(['marking'],axis=1))"
      ]
    },
    {
      "cell_type": "markdown",
      "metadata": {
        "id": "3U6sujR4ZY7C"
      },
      "source": [
        "## Question 4: Evaluating the backward feature search (15 pts)\n",
        "In this question, you have to **use the pipeline created in question 2 and apply it to each of the training sets created in question 3**. Use 10-fold cross validation to report the validation error** on the training set using mean squared error as the metric. <br>\n",
        "\n",
        "Show all the steps of the process and compare and analyze the results using the validation error reported. "
      ]
    },
    {
      "cell_type": "code",
      "execution_count": 16,
      "metadata": {
        "colab": {
          "base_uri": "https://localhost:8080/"
        },
        "id": "92CkxbLYZY7D",
        "outputId": "b5ad8511-515a-42bb-8f34-a0f7899076cc"
      },
      "outputs": [
        {
          "output_type": "stream",
          "name": "stdout",
          "text": [
            "CV Loss for set 1: 2.9748959084761144\n",
            "CV Loss for set 2: 2.753807085542691\n",
            "CV Loss for set 3: 2.8059211437781832\n",
            "CV Loss for set 4: 2.696759880987279\n"
          ]
        }
      ],
      "source": [
        "#Function for scoring\n",
        "def mse(y,y_pred):\n",
        "  return np.mean((y-y_pred)**2)\n",
        "# Make it usable\n",
        "scorer=sk.metrics.make_scorer(mse)\n",
        "\n",
        "# Apply the pipeline and get the cross_val_score \n",
        "def cv_standard(X,pipeline=pipeline):\n",
        "  return cross_val_score(estimator=pipeline,X=X,y=y_train,cv=10,scoring=scorer)\n",
        "\n",
        "train1_cv=cv_standard(all_feature_fit)\n",
        "train2_cv=cv_standard(training_no_standing)\n",
        "train3_cv=cv_standard(training_no_composure)\n",
        "train4_cv=cv_standard(training_no_marking)\n",
        "\n",
        "print(f\"CV Loss for set 1: {train1_cv.mean()}\")\n",
        "print(f\"CV Loss for set 2: {train2_cv.mean()}\")\n",
        "print(f\"CV Loss for set 3: {train3_cv.mean()}\")\n",
        "print(f\"CV Loss for set 4: {train4_cv.mean()}\")"
      ]
    },
    {
      "cell_type": "markdown",
      "metadata": {
        "id": "AVctV_zBZY7D"
      },
      "source": [
        "## Question 5: Applying Ridge Regression (10 pts)\n",
        "\n",
        "**1.** Build a pipeline that performs **scaling** and **fits the ridge regression** on the data that includes the polynomial expansion of all the features. The penalization parameter is set to 0.5. \n",
        "\n",
        "**2.** Use the pipeline to report the validation error using mean square error metric. Use 10-fold cross validation. "
      ]
    },
    {
      "cell_type": "code",
      "execution_count": 17,
      "metadata": {
        "colab": {
          "base_uri": "https://localhost:8080/"
        },
        "id": "O84m_JGYZY7E",
        "outputId": "51119ab0-e16f-4def-d5b9-f2044289b04f"
      },
      "outputs": [
        {
          "output_type": "stream",
          "name": "stdout",
          "text": [
            "CV Loss for set 1: 1.7146770020409245\n"
          ]
        }
      ],
      "source": [
        "rr_pipeline= Pipeline([\n",
        "    ('scaler',StandardScaler()),\n",
        "    ('ridge_regression',Ridge(alpha=0.5,fit_intercept=True))\n",
        "])\n",
        "rr_scores=cv_standard(all_feature_fit,rr_pipeline)\n",
        "\n",
        "print(f\"CV Loss for set 1: {rr_scores.mean()}\")\n"
      ]
    },
    {
      "cell_type": "markdown",
      "metadata": {
        "id": "4AQbvLY2ZY7F"
      },
      "source": [
        "## Question 6: Tune the Ridge coefficient for the 2nd-order model   (15pt)\n",
        "**1.** Now use 10-fold CV on the training set to determine a good setting for the regularization coefficient. Perform the search going from $\\lambda = \\exp(-8), \\cdots, \\exp(6)$ in 15 evenly spaced increments on the log scale. Plot the mean squared error as a function of $\\log(\\lambda)$. \n",
        "\n",
        "\n",
        "**2.** **Questions:**\n",
        "* What is the best regularization parameter (actual not approximate)? \n",
        "\n",
        "Answer: The best regularization parameter can be found from the best_params_ attribute of GidSearchCV(). In this case it will give us ridge_regression_alpha.\n",
        "\n",
        "* Why does the error increase as $\\lambda \\rightarrow 0?$  Why does the error increase when $\\lambda \\rightarrow \\infty$?  Answer in terms of the bias variance trade off.\n",
        "\n",
        "Answer: Varience increase as $\\lambda \\rightarrow\\ 0$ and bias increases as $\\lambda \\rightarrow \\infty$\n"
      ]
    },
    {
      "cell_type": "code",
      "execution_count": 18,
      "metadata": {
        "colab": {
          "base_uri": "https://localhost:8080/",
          "height": 316
        },
        "id": "lPYFOJLuZY7F",
        "outputId": "d0a4caca-2d1e-49cc-ce11-668d53d143ae"
      },
      "outputs": [
        {
          "output_type": "stream",
          "name": "stdout",
          "text": [
            "best param: {'ridge_regression__alpha': 7.38905609893065}\n"
          ]
        },
        {
          "output_type": "display_data",
          "data": {
            "text/plain": [
              "<Figure size 432x288 with 1 Axes>"
            ],
            "image/png": "[encoded data removed]"
          },
          "metadata": {
            "needs_background": "light"
          }
        }
      ],
      "source": [
        "search_space_base=np.linspace(-8,6,15)\n",
        "search_space=np.exp(search_space_base)\n",
        "params= {'ridge_regression__alpha':search_space}\n",
        "\n",
        "gscv=GridSearchCV(rr_pipeline,param_grid=params,scoring=\"neg_mean_squared_error\", refit=True, cv=10)\n",
        "gscv.fit(poly_features.fit_transform(X_train),y_train)\n",
        "\n",
        "plt.scatter(search_space_base, -pd.DataFrame(gscv.cv_results_).mean_test_score)\n",
        "plt.title('MSE vs $\\lambda$')\n",
        "plt.ylabel('MSE')\n",
        "plt.xlabel('log($\\lambda$)')\n",
        "print(f\"best param: {gscv.best_params_}\")"
      ]
    },
    {
      "cell_type": "markdown",
      "metadata": {
        "id": "D6sPF_-TZY7G"
      },
      "source": [
        "### Question 7: Test error  (10pt)\n",
        "Now test how the ridge model, fitted to the whole training set, performs on the test data set. \n",
        "\n",
        "\n",
        "Report the following:\n",
        "\n",
        "* The mean squared error on the test data - along with the 95% confidence interval, determined with the central limit theorem. \n",
        "* The proportion of the variance explained by your model - along wth a 95% confidence interval."
      ]
    },
    {
      "cell_type": "code",
      "execution_count": 19,
      "metadata": {
        "colab": {
          "base_uri": "https://localhost:8080/"
        },
        "id": "QUTBJ_rEZY7G",
        "outputId": "ca0f89ab-ae40-4ec3-d1b9-eeb9313a8dc8"
      },
      "outputs": [
        {
          "output_type": "stream",
          "name": "stdout",
          "text": [
            "MSE:1.7057441746268562\n",
            "1.3818374623997545 to 2.029650886853958\n",
            "Proportion variance predicted: 0.9669042125842215\n",
            "95% CI: [0.9606195962567133, 0.9731888289117296]\n"
          ]
        }
      ],
      "source": [
        "X_test_expand=poly_features.fit_transform(X_test)\n",
        "pred_Y=gscv.predict(X_test_expand)\n",
        "\n",
        "squared_error=(y_test-pred_Y)**2\n",
        "mse_test=squared_error.mean()\n",
        "\n",
        "print(f'MSE:{mse_test}')\n",
        "confidence_interval_mid=1.96*np.std(squared_error)/(len(pred_Y)**0.5)\n",
        "confi=[mse_test-confidence_interval_mid,mse_test+confidence_interval_mid]\n",
        "print(f'{mse_test-confidence_interval_mid} to {mse_test+confidence_interval_mid}')\n",
        "\n",
        "mean_def=(y_test-y_test.mean())**2\n",
        "print('Proportion variance predicted:', 1-mse_test/mean_def.mean())\n",
        "print('95% CI:', [1-confi[1]/mean_def.mean(),1-confi[0]/mean_def.mean()])\n"
      ]
    },
    {
      "cell_type": "markdown",
      "metadata": {
        "id": "kbD-3dToZY7H"
      },
      "source": [
        "## Question 8: Analyzing Ridge Coefficients (15 pts)\n",
        "In this question:\n",
        "\n",
        "**1.** you are first required to extract all the coefficients of the standing tackle, composure and marking features from the best model of question 7. \n",
        "\n",
        "**2.** After that, calculate the mean of the coefficients of the aforementioned features and analyze the results. \n",
        "\n",
        "**3.** **Question:** Based on these observations, draw conclusions about the results in question 4. "
      ]
    },
    {
      "cell_type": "code",
      "execution_count": 20,
      "metadata": {
        "colab": {
          "base_uri": "https://localhost:8080/"
        },
        "id": "9MIKduTLZY7H",
        "outputId": "b3e35065-d168-4204-83b2-192a983b2dbf"
      },
      "outputs": [
        {
          "output_type": "stream",
          "name": "stdout",
          "text": [
            "standing_tackle:0.02368703210559125\n",
            "composure:0.01796384017182657\n",
            "marking:0.01433684651806298\n"
          ]
        },
        {
          "output_type": "stream",
          "name": "stderr",
          "text": [
            "/usr/local/lib/python3.7/dist-packages/sklearn/utils/deprecation.py:87: FutureWarning: Function get_feature_names is deprecated; get_feature_names is deprecated in 1.0 and will be removed in 1.2. Please use get_feature_names_out instead.\n",
            "  warnings.warn(msg, category=FutureWarning)\n"
          ]
        }
      ],
      "source": [
        "second_order_names=poly_features.get_feature_names(X_train.columns)\n",
        "second_order_coefs=np.array(gscv.best_estimator_.named_steps['ridge_regression'].coef_)\n",
        "\n",
        "def coef_grab(term):\n",
        "  return [second_order_coefs[i] for i in range (len(second_order_names)) if term in second_order_names[i]]\n",
        "\n",
        "dcoefs={'standing_tackle':coef_grab('standing_tackle'),\n",
        "        'composure':coef_grab('composure'),\n",
        "        'marking':coef_grab('marking')}\n",
        "for k in dcoefs:\n",
        "  print(f'{k}:{np.mean(dcoefs[k])}')"
      ]
    },
    {
      "cell_type": "markdown",
      "metadata": {
        "id": "xNgyADBDZY7I"
      },
      "source": [
        "## Question 9: Lasso Regression (10pts)\n",
        "Let us assume that you are building a linear regression model using only three features \"standing tackle\", \"marking\", and \"composure\" to predict a player's overall rating. \n",
        "\n",
        "**Question:** Based on the results of question 8, what do you think will be the features' coefficients while applying the lasso regression optimization? Answer in no more than 5 sentences. \n",
        "\n",
        "Answer: The coefficents related to standing_tackle will be the largest and also it will be a larger proportionally then Ridge regression. The marking coefficents will be the smallest and smaller compared to ridge regression. Lasso regression can shrink some features to zero depending on their coefficents so the order of shrinking will be Marking first, then composure and then leaving standing_tackle to be only coefficent.\n"
      ]
    },
    {
      "cell_type": "code",
      "execution_count": 11,
      "metadata": {
        "colab": {
          "base_uri": "https://localhost:8080/",
          "height": 130
        },
        "id": "z7x3HvsrZY7I",
        "outputId": "16e0fa34-0cdf-48ae-c070-1a0fbbc43a3b"
      },
      "outputs": [
        {
          "output_type": "error",
          "ename": "SyntaxError",
          "evalue": "ignored",
          "traceback": [
            "\u001b[0;36m  File \u001b[0;32m\"<ipython-input-11-37e3ca3eeb48>\"\u001b[0;36m, line \u001b[0;32m1\u001b[0m\n\u001b[0;31m    Answer:\u001b[0m\n\u001b[0m           ^\u001b[0m\n\u001b[0;31mSyntaxError\u001b[0m\u001b[0;31m:\u001b[0m invalid syntax\n"
          ]
        }
      ],
      "source": []
    },
    {
      "cell_type": "markdown",
      "metadata": {
        "id": "3InjH44MZY7J"
      },
      "source": [
        "## Note: \n",
        "After completing all the tasks and before submitting: \n",
        "* Restart you kernel by clicking 'Restart & Run all'\n",
        "* Fix any errors resulting from the first step.\n",
        "* Repeat the first two steps until no errors are encountered. "
      ]
    }
  ],
  "metadata": {
    "kernelspec": {
      "display_name": "Python 3 (ipykernel)",
      "language": "python",
      "name": "python3"
    },
    "language_info": {
      "codemirror_mode": {
        "name": "ipython",
        "version": 3
      },
      "file_extension": ".py",
      "mimetype": "text/x-python",
      "name": "python",
      "nbconvert_exporter": "python",
      "pygments_lexer": "ipython3",
      "version": "3.9.7"
    },
    "colab": {
      "provenance": [],
      "collapsed_sections": []
    }
  },
  "nbformat": 4,
  "nbformat_minor": 0
}