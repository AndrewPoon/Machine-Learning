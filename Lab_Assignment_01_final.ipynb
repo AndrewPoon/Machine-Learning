{
  "cells": [
    {
      "cell_type": "markdown",
      "metadata": {
        "id": "XT39kdek3kWC"
      },
      "source": [
        "# Grade: /100 points\n",
        "\n",
        "# Lab Assignment 01: Supervised learning, Linear models, and Loss functions\n",
        "\n",
        "In this Lab assignment, you're going to write your own methods to fit a linear model using either an OLS or LAD cost function.  \n",
        "\n",
        "## Data set \n",
        "\n",
        "For this assignment, we will examine some data representing possums in Australia and New Guinea. The data frame contains 46 observations on the following 6 variables:\n",
        "\n",
        "* sex: Sex, either m (male) or f (female).\n",
        "* age: Age in years.\n",
        "* headL: Head length, in mm.\n",
        "* skullW: Skull width, in mm.\n",
        "* totalL: Total length, in cm.\n",
        "* tailL: Tail length, in cm.\n",
        "\n",
        "## Follow These Steps before submitting\n",
        "Once you are finished, ensure to complete the following steps.\n",
        "\n",
        "1.  Restart your kernel by clicking 'Kernel' > 'Restart & Run All'.\n",
        "\n",
        "2.  Fix any errors which result from this.\n",
        "\n",
        "3.  Repeat steps 1. and 2. until your notebook runs without errors.\n",
        "\n",
        "4.  Submit your completed notebook to OWL by the deadline.\n",
        "\n",
        "\n",
        "## Preliminaries"
      ]
    },
    {
      "cell_type": "code",
      "execution_count": null,
      "metadata": {
        "id": "sai3dBcX3kWT",
        "colab": {
          "base_uri": "https://localhost:8080/",
          "height": 74
        },
        "outputId": "128a49cb-78ce-4267-d0cc-a8f80c9d0ee4"
      },
      "outputs": [
        {
          "output_type": "display_data",
          "data": {
            "text/plain": [
              "<IPython.core.display.HTML object>"
            ],
            "text/html": [
              "\n",
              "     <input type=\"file\" id=\"files-e0dab2d1-1711-4090-aaec-c65e2293963a\" name=\"files[]\" multiple disabled\n",
              "        style=\"border:none\" />\n",
              "     <output id=\"result-e0dab2d1-1711-4090-aaec-c65e2293963a\">\n",
              "      Upload widget is only available when the cell has been executed in the\n",
              "      current browser session. Please rerun this cell to enable.\n",
              "      </output>\n",
              "      <script>// Copyright 2017 Google LLC\n",
              "//\n",
              "// Licensed under the Apache License, Version 2.0 (the \"License\");\n",
              "// you may not use this file except in compliance with the License.\n",
              "// You may obtain a copy of the License at\n",
              "//\n",
              "//      http://www.apache.org/licenses/LICENSE-2.0\n",
              "//\n",
              "// Unless required by applicable law or agreed to in writing, software\n",
              "// distributed under the License is distributed on an \"AS IS\" BASIS,\n",
              "// WITHOUT WARRANTIES OR CONDITIONS OF ANY KIND, either express or implied.\n",
              "// See the License for the specific language governing permissions and\n",
              "// limitations under the License.\n",
              "\n",
              "/**\n",
              " * @fileoverview Helpers for google.colab Python module.\n",
              " */\n",
              "(function(scope) {\n",
              "function span(text, styleAttributes = {}) {\n",
              "  const element = document.createElement('span');\n",
              "  element.textContent = text;\n",
              "  for (const key of Object.keys(styleAttributes)) {\n",
              "    element.style[key] = styleAttributes[key];\n",
              "  }\n",
              "  return element;\n",
              "}\n",
              "\n",
              "// Max number of bytes which will be uploaded at a time.\n",
              "const MAX_PAYLOAD_SIZE = 100 * 1024;\n",
              "\n",
              "function _uploadFiles(inputId, outputId) {\n",
              "  const steps = uploadFilesStep(inputId, outputId);\n",
              "  const outputElement = document.getElementById(outputId);\n",
              "  // Cache steps on the outputElement to make it available for the next call\n",
              "  // to uploadFilesContinue from Python.\n",
              "  outputElement.steps = steps;\n",
              "\n",
              "  return _uploadFilesContinue(outputId);\n",
              "}\n",
              "\n",
              "// This is roughly an async generator (not supported in the browser yet),\n",
              "// where there are multiple asynchronous steps and the Python side is going\n",
              "// to poll for completion of each step.\n",
              "// This uses a Promise to block the python side on completion of each step,\n",
              "// then passes the result of the previous step as the input to the next step.\n",
              "function _uploadFilesContinue(outputId) {\n",
              "  const outputElement = document.getElementById(outputId);\n",
              "  const steps = outputElement.steps;\n",
              "\n",
              "  const next = steps.next(outputElement.lastPromiseValue);\n",
              "  return Promise.resolve(next.value.promise).then((value) => {\n",
              "    // Cache the last promise value to make it available to the next\n",
              "    // step of the generator.\n",
              "    outputElement.lastPromiseValue = value;\n",
              "    return next.value.response;\n",
              "  });\n",
              "}\n",
              "\n",
              "/**\n",
              " * Generator function which is called between each async step of the upload\n",
              " * process.\n",
              " * @param {string} inputId Element ID of the input file picker element.\n",
              " * @param {string} outputId Element ID of the output display.\n",
              " * @return {!Iterable<!Object>} Iterable of next steps.\n",
              " */\n",
              "function* uploadFilesStep(inputId, outputId) {\n",
              "  const inputElement = document.getElementById(inputId);\n",
              "  inputElement.disabled = false;\n",
              "\n",
              "  const outputElement = document.getElementById(outputId);\n",
              "  outputElement.innerHTML = '';\n",
              "\n",
              "  const pickedPromise = new Promise((resolve) => {\n",
              "    inputElement.addEventListener('change', (e) => {\n",
              "      resolve(e.target.files);\n",
              "    });\n",
              "  });\n",
              "\n",
              "  const cancel = document.createElement('button');\n",
              "  inputElement.parentElement.appendChild(cancel);\n",
              "  cancel.textContent = 'Cancel upload';\n",
              "  const cancelPromise = new Promise((resolve) => {\n",
              "    cancel.onclick = () => {\n",
              "      resolve(null);\n",
              "    };\n",
              "  });\n",
              "\n",
              "  // Wait for the user to pick the files.\n",
              "  const files = yield {\n",
              "    promise: Promise.race([pickedPromise, cancelPromise]),\n",
              "    response: {\n",
              "      action: 'starting',\n",
              "    }\n",
              "  };\n",
              "\n",
              "  cancel.remove();\n",
              "\n",
              "  // Disable the input element since further picks are not allowed.\n",
              "  inputElement.disabled = true;\n",
              "\n",
              "  if (!files) {\n",
              "    return {\n",
              "      response: {\n",
              "        action: 'complete',\n",
              "      }\n",
              "    };\n",
              "  }\n",
              "\n",
              "  for (const file of files) {\n",
              "    const li = document.createElement('li');\n",
              "    li.append(span(file.name, {fontWeight: 'bold'}));\n",
              "    li.append(span(\n",
              "        `(${file.type || 'n/a'}) - ${file.size} bytes, ` +\n",
              "        `last modified: ${\n",
              "            file.lastModifiedDate ? file.lastModifiedDate.toLocaleDateString() :\n",
              "                                    'n/a'} - `));\n",
              "    const percent = span('0% done');\n",
              "    li.appendChild(percent);\n",
              "\n",
              "    outputElement.appendChild(li);\n",
              "\n",
              "    const fileDataPromise = new Promise((resolve) => {\n",
              "      const reader = new FileReader();\n",
              "      reader.onload = (e) => {\n",
              "        resolve(e.target.result);\n",
              "      };\n",
              "      reader.readAsArrayBuffer(file);\n",
              "    });\n",
              "    // Wait for the data to be ready.\n",
              "    let fileData = yield {\n",
              "      promise: fileDataPromise,\n",
              "      response: {\n",
              "        action: 'continue',\n",
              "      }\n",
              "    };\n",
              "\n",
              "    // Use a chunked sending to avoid message size limits. See b/62115660.\n",
              "    let position = 0;\n",
              "    do {\n",
              "      const length = Math.min(fileData.byteLength - position, MAX_PAYLOAD_SIZE);\n",
              "      const chunk = new Uint8Array(fileData, position, length);\n",
              "      position += length;\n",
              "\n",
              "      const base64 = btoa(String.fromCharCode.apply(null, chunk));\n",
              "      yield {\n",
              "        response: {\n",
              "          action: 'append',\n",
              "          file: file.name,\n",
              "          data: base64,\n",
              "        },\n",
              "      };\n",
              "\n",
              "      let percentDone = fileData.byteLength === 0 ?\n",
              "          100 :\n",
              "          Math.round((position / fileData.byteLength) * 100);\n",
              "      percent.textContent = `${percentDone}% done`;\n",
              "\n",
              "    } while (position < fileData.byteLength);\n",
              "  }\n",
              "\n",
              "  // All done.\n",
              "  yield {\n",
              "    response: {\n",
              "      action: 'complete',\n",
              "    }\n",
              "  };\n",
              "}\n",
              "\n",
              "scope.google = scope.google || {};\n",
              "scope.google.colab = scope.google.colab || {};\n",
              "scope.google.colab._files = {\n",
              "  _uploadFiles,\n",
              "  _uploadFilesContinue,\n",
              "};\n",
              "})(self);\n",
              "</script> "
            ]
          },
          "metadata": {}
        },
        {
          "output_type": "stream",
          "name": "stdout",
          "text": [
            "Saving possum.csv to possum.csv\n"
          ]
        }
      ],
      "source": [
        "# Import all the necessary packages: \n",
        "import matplotlib.pyplot as plt \n",
        "import numpy as np\n",
        "import pandas as pd\n",
        "import scipy.stats as ss \n",
        "import scipy.optimize as so\n",
        "import statsmodels.api as sm\n",
        "import statsmodels.formula.api as smf\n",
        "from google.colab import files\n",
        "uploaded = files.upload()\n",
        "%matplotlib inline"
      ]
    },
    {
      "cell_type": "markdown",
      "metadata": {
        "id": "Gdkr15ol3kWZ"
      },
      "source": [
        "\n",
        "## Part 1\n",
        "### Question 1.1:  /10 points\n",
        "\n",
        "\n",
        "Read in the `possum.csv` file as a `pandas.DataFrame`.  Investigate the relationship between the possum's age and it's tail length by plotting a scatter plot of the `age` and `tailL` columns. You might want to add an `alpha` in case some data are overlapping. "
      ]
    },
    {
      "cell_type": "code",
      "execution_count": 1,
      "metadata": {
        "colab": {
          "base_uri": "https://localhost:8080/",
          "height": 235
        },
        "id": "lqkWD1hd3kWc",
        "outputId": "db43cf75-9199-45c4-c370-e548d29ba64c"
      },
      "outputs": [
        {
          "output_type": "error",
          "ename": "NameError",
          "evalue": "ignored",
          "traceback": [
            "\u001b[0;31m---------------------------------------------------------------------------\u001b[0m",
            "\u001b[0;31mNameError\u001b[0m                                 Traceback (most recent call last)",
            "\u001b[0;32m<ipython-input-1-147e5e2756ae>\u001b[0m in \u001b[0;36m<module>\u001b[0;34m\u001b[0m\n\u001b[1;32m      1\u001b[0m \u001b[0;31m# Read in the data with pandas\u001b[0m\u001b[0;34m\u001b[0m\u001b[0;34m\u001b[0m\u001b[0;34m\u001b[0m\u001b[0m\n\u001b[0;32m----> 2\u001b[0;31m \u001b[0mpossum_data\u001b[0m \u001b[0;34m=\u001b[0m \u001b[0mpd\u001b[0m\u001b[0;34m.\u001b[0m\u001b[0mread_csv\u001b[0m\u001b[0;34m(\u001b[0m\u001b[0;34m'possum.csv'\u001b[0m\u001b[0;34m)\u001b[0m\u001b[0;34m\u001b[0m\u001b[0;34m\u001b[0m\u001b[0m\n\u001b[0m\u001b[1;32m      3\u001b[0m \u001b[0;31m#alphas=np.linspace(0.1,1,10)\u001b[0m\u001b[0;34m\u001b[0m\u001b[0;34m\u001b[0m\u001b[0;34m\u001b[0m\u001b[0m\n\u001b[1;32m      4\u001b[0m \u001b[0;31m# Make the scatter plot (don't forget the axis labels)\u001b[0m\u001b[0;34m\u001b[0m\u001b[0;34m\u001b[0m\u001b[0;34m\u001b[0m\u001b[0m\n\u001b[1;32m      5\u001b[0m \u001b[0mpossum_data\u001b[0m\u001b[0;34m.\u001b[0m\u001b[0mplot\u001b[0m\u001b[0;34m(\u001b[0m\u001b[0mx\u001b[0m\u001b[0;34m=\u001b[0m\u001b[0;34m'age'\u001b[0m\u001b[0;34m,\u001b[0m\u001b[0my\u001b[0m\u001b[0;34m=\u001b[0m\u001b[0;34m'tailL'\u001b[0m\u001b[0;34m,\u001b[0m \u001b[0mkind\u001b[0m\u001b[0;34m=\u001b[0m\u001b[0;34m'scatter'\u001b[0m\u001b[0;34m,\u001b[0m \u001b[0malpha\u001b[0m\u001b[0;34m=\u001b[0m\u001b[0;36m0.5\u001b[0m\u001b[0;34m)\u001b[0m\u001b[0;34m\u001b[0m\u001b[0;34m\u001b[0m\u001b[0m\n",
            "\u001b[0;31mNameError\u001b[0m: name 'pd' is not defined"
          ]
        }
      ],
      "source": [
        "# Read in the data with pandas\n",
        "possum_data = pd.read_csv('possum.csv')\n",
        "#alphas=np.linspace(0.1,1,10)\n",
        "# Make the scatter plot (don't forget the axis labels)\n",
        "possum_data.plot(x='age',y='tailL', kind='scatter', alpha=0.5)\n",
        "plt.title('Tail length vs. Age')\n",
        "plt.xlabel('$age$', fontsize=18)\n",
        "plt.ylabel('$tail Length$', fontsize=18)\n",
        "plt.show()"
      ]
    },
    {
      "cell_type": "markdown",
      "metadata": {
        "id": "rSiEZlhk3kWf"
      },
      "source": [
        "### Question 1.2: /5 point\n",
        "\n",
        "Recall that the linear model, we obtain predictions by computing \n",
        "\n",
        "$$ \\hat{\\mathbf{y}} = \\mathbf{X} \\beta $$\n",
        "\n",
        "Here, $\\mathbf{X}$ is a design matrix which includes a column of ones, $\\beta$ are coefficients, and $\\mathbf{y}$ are outcomes.  Write a function `linearModelPredict` to compute linear model predictions given data and a coefficient vector.  The function should take as it's arguments a 1d-array of coefficients `b` and the design matrix `X` as a 2d-array and return linear model predictions `yp`.\n",
        "\n",
        "Test the function by setting \n",
        "\n",
        "```\n",
        "X = np.array([[1,0],[1,-1],[1,2]])\n",
        "b = np.array([0.1,0.3])\n",
        "```\n",
        "and call you function with these values! \n",
        "\n",
        "Report $\\hat{\\mathbf{y}}$. \n",
        "What is the dimensionality of the numpy-array that you get back? \n",
        "\n",
        "Hint:  Read the documentation for `np.dot` or the `@` operator in `numpy`."
      ]
    },
    {
      "cell_type": "code",
      "execution_count": null,
      "metadata": {
        "id": "5bT3v7Vu3kWh",
        "colab": {
          "base_uri": "https://localhost:8080/"
        },
        "outputId": "3ae596dc-f03b-4ff2-d8c6-217dc023b905"
      },
      "outputs": [
        {
          "output_type": "stream",
          "name": "stdout",
          "text": [
            "One dimensional matrix for b: \n",
            "  [ 0.1 -0.2  0.7]\n",
            "Two dimensional matrix for b: \n",
            " [[ 0.1  0.3]\n",
            " [-0.1  0.2]\n",
            " [ 0.5  0.5]]\n"
          ]
        }
      ],
      "source": [
        "def linearModelPredict(b,X):\n",
        "    yp = np.dot(X,b)\n",
        "    return yp\n",
        "\n",
        "# Always important: Test the new function you have written! \n",
        "X = np.array([[1,0],[1,-1],[1,2]])\n",
        "b = np.array([0.1,0.3])\n",
        "print(\"One dimensional matrix for b: \\n \",linearModelPredict(b,X))\n",
        "# The dimesnionality of yp is 1 since b is a 1d-array\n",
        "# By the way: What happens when b is a 2d-array? \n",
        "# If b is a 2d-array, yp would be also be a 2d array\n",
        "X2= np.array([[1,0],[1,-1],[1,2]])\n",
        "b2 = np.array([[0.1,0.3],[0.2,0.1]])\n",
        "print(\"Two dimensional matrix for b: \\n\", linearModelPredict(b2,X2))"
      ]
    },
    {
      "cell_type": "markdown",
      "metadata": {
        "id": "asi_SMf23kWi"
      },
      "source": [
        "### Question 1.3: /15 points\n",
        "\n",
        "Write a function `linearModelLossRSS` which computes and returns the loss function for an OLS model parameterized by $\\beta$, as well as the gradient of the loss.  The function should take as its first argument a 1d-array `beta` of coefficients for the linear model, as its second argument the design matrix `X` as a 2d-array, and as its third argument a 1d-array `y` of observed outcomes.\n",
        "\n",
        "Test the function with the values \n",
        "\n",
        "```\n",
        "X = np.array([[1,0],[1,-1],[1,2]])\n",
        "b = np.array([0.1,0.3])\n",
        "y = np.array([0,0.4,2]) \n",
        "```\n",
        "\n",
        "Report RSS and gradient. \n",
        "Written answer: To minimize the cost do you need increase or decrease the value of the parameters? "
      ]
    },
    {
      "cell_type": "code",
      "execution_count": null,
      "metadata": {
        "id": "Z4ZGjtaQ3kWl",
        "colab": {
          "base_uri": "https://localhost:8080/"
        },
        "outputId": "12842e00-8d5a-4417-f02b-cdc7256125e7"
      },
      "outputs": [
        {
          "output_type": "stream",
          "name": "stdout",
          "text": [
            "RSS and Gradient\n",
            " (2.06, array([-3.6, -4. ]))\n"
          ]
        }
      ],
      "source": [
        "def linearModelLossRSS(beta,X,y):\n",
        "  #Get model prediction\n",
        "  predY=linearModelPredict(beta,X)\n",
        "  #Get vector of residuals\n",
        "  res=np.subtract(y,predY)\n",
        "  #Get residuals sum of square\n",
        "  rss=np.sum(res**2)\n",
        "  #Get the gradient\n",
        "  gradient=-2*(np.dot(res,X))\n",
        "  return (rss,gradient)\n",
        "  #return (rss,gradient)\n",
        "\n",
        "X = np.array([[1,0],[1,-1],[1,2]])\n",
        "b = np.array([0.1,0.3])\n",
        "y = np.array([0,0.4,2]) \n",
        "\n",
        "print(\"RSS and Gradient\\n\",linearModelLossRSS(b,X,y))"
      ]
    },
    {
      "cell_type": "markdown",
      "metadata": {
        "id": "pr6Jjj7a3kWm"
      },
      "source": [
        "Written answer: To minimize the cost, we need to decrease the value since the gradient came back as negative."
      ]
    },
    {
      "cell_type": "markdown",
      "metadata": {
        "id": "_UXE8hW03kWo"
      },
      "source": [
        "### Question 1.4:  /15 points. \n",
        "\n",
        "Now that you've implemented a loss function in question 3, it is now time to minimize it!\n",
        "\n",
        "Write a function `linearModelFit` to fit a linear model.  The function should take as its first argument the design matrix `X` as a 2d-array, as its second argument a 1d-array `y` of outcomes, and as its third argument a function  `lossfcn` which returns as a tuple the value of the loss, as well as the gradient of the loss. As a result, it should return the estimated betas and the R2. \n",
        "\n",
        "Test the function with the values: \n",
        "```\n",
        "X = np.array([[1,0],[1,-1],[1,2]])\n",
        "b = np.array([0.1,0.3])\n",
        "y = np.array([0,0.4,2]) \n",
        "```\n",
        "\n",
        "Report best parameters and the fitted R2. \n"
      ]
    },
    {
      "cell_type": "code",
      "execution_count": null,
      "metadata": {
        "id": "U0m-So0m3kWp",
        "colab": {
          "base_uri": "https://localhost:8080/"
        },
        "outputId": "4f5bcea5-f7e3-4edf-cadf-c6ac0e2e1b1b"
      },
      "outputs": [
        {
          "output_type": "stream",
          "name": "stdout",
          "text": [
            "Best parameter and the R2 value:\n",
            " (array([0.6, 0.6]), 0.75)\n"
          ]
        }
      ],
      "source": [
        "def linearModelFit(X,y,lossfcn=linearModelLossRSS):\n",
        "  rows,cols=X.shape\n",
        "  betas=np.zeros((cols,1))\n",
        "  RES=so.minimize(lossfcn,betas,args=(X,y),jac=True)\n",
        "  estimated_betas=RES.x\n",
        "  res=y-np.mean(y)\n",
        "  TSS=sum(res**2)\n",
        "  RSS,deriv=linearModelLossRSS(estimated_betas,X,y)\n",
        "  R2=1-RSS/TSS\n",
        "  return (estimated_betas,R2)\n",
        "\n",
        "\n",
        "X = np.array([[1,0],[1,-1],[1,2]])\n",
        "b = np.array([0.1,0.3])\n",
        "y = np.array([0,0.4,2]) \n",
        "\n",
        "print(\"Best parameter and the R2 value:\\n\",linearModelFit(X,y) )"
      ]
    },
    {
      "cell_type": "markdown",
      "metadata": {
        "id": "bxkj5nGb3kWq"
      },
      "source": [
        "### Question 1.5: /15 points\n",
        "\n",
        "Use the above functions to fit your model to the possum data. Then use your model and the fitted parameters to make predictions along a grid of equally spaced possum ages.  \n",
        "\n",
        "Plot the data and add a line for the predicted values. You can get these by generating a new X-matrix with equally space ages (using for example np.linspace). Also report the R2 value for the fit. \n",
        "\n"
      ]
    },
    {
      "cell_type": "code",
      "execution_count": null,
      "metadata": {
        "id": "JdHMDxT_3kWr",
        "colab": {
          "base_uri": "https://localhost:8080/",
          "height": 499
        },
        "outputId": "a7f29af3-e0f2-400f-b617-f7a2ef923d5f"
      },
      "outputs": [
        {
          "output_type": "stream",
          "name": "stdout",
          "text": [
            "R2: 0.2228658794760412\n"
          ]
        },
        {
          "output_type": "display_data",
          "data": {
            "text/plain": [
              "<Figure size 720x480 with 1 Axes>"
            ],
            "image/png": "[encoded data removed]"
          },
          "metadata": {
            "needs_background": "light"
          }
        }
      ],
      "source": [
        "# Make the design matrix using np.c_ \n",
        "# y = ...\n",
        "# X =  np.c_[...]\n",
        "fig, ax = plt.subplots(dpi = 120)\n",
        "y=possum_data.tailL.values\n",
        "age = possum_data.age.values\n",
        "N= age.size\n",
        "x=np.c_[np.ones(N),age]\n",
        "# Call you fitting function \n",
        "real_betas, real_R2= linearModelFit(x,y)\n",
        "# Create the scatter plot (see question 1.1)\n",
        "possum_data.plot.scatter(x='age',y='tailL',alpha=0.5,ax=ax)\n",
        "plt.title('Possum Tail length versus Age')\n",
        "\n",
        "# Create a new X matrix with equally space data \n",
        "age_grid=np.arange(age.min(),age.max())\n",
        "Xn=np.c_[np.ones(age_grid.size),age_grid]\n",
        "yn=Xn@real_betas\n",
        "# Add the line to the graph \n",
        "ax.plot(age_grid,yn,color='red')\n",
        "# Report R2 \n",
        "print(\"R2:\",real_R2)\n",
        "#real_betas"
      ]
    },
    {
      "cell_type": "markdown",
      "metadata": {
        "id": "8JUoNB7y3kWt"
      },
      "source": [
        "## Part 2: LAD Regression\n",
        "\n",
        "### Question 2.1:  /15 points\n",
        "\n",
        "In the previous section, we worked with the squared loss.  Now, we'll implement a linear model with least absolute deviation loss.\n",
        "\n",
        "Write a function `linearModelLossLAD` which computes the least absolute deviation loss function for a linear model  parameterized by $\\beta$, as well as the gradient of the loss.  The function should take as its first argument a 1d-array `beta` of coefficients for the linear model, as its second argument the design matrix `X` as a 2d-array, and as its third argument a 1d-array `y` of observed outcomes.\n",
        "\n",
        "Test the function with the values \n",
        "\n",
        "```\n",
        "X = np.array([[1,0],[1,-1],[1,2]])\n",
        "b = np.array([0.1,0.3])\n",
        "y = np.array([0,0.4,2]) \n",
        "```\n",
        "\n",
        "Report RSS and gradient. "
      ]
    },
    {
      "cell_type": "code",
      "execution_count": null,
      "metadata": {
        "id": "hOQ5Hqti3kWu",
        "colab": {
          "base_uri": "https://localhost:8080/"
        },
        "outputId": "a27d06a8-e389-457c-acc2-eedda1618570"
      },
      "outputs": [
        {
          "output_type": "stream",
          "name": "stdout",
          "text": [
            "RSS and Gradient:\n",
            " (2.0, array([-1., -1.]))\n"
          ]
        }
      ],
      "source": [
        "def linearModelLossLAD(b,X,y):\n",
        "    predY = linearModelPredict(b,X)\n",
        "    sres = np.sign(y-predY); \n",
        "    sum_abs_dev = sum(abs(y-predY))\n",
        "    grad =- (sres @ X)\n",
        "    return (sum_abs_dev,grad)\n",
        "\n",
        "X = np.array([[1,0],[1,-1],[1,2]])\n",
        "b = np.array([0.1,0.3])\n",
        "y = np.array([0,0.4,2])\n",
        "print(\"RSS and Gradient:\\n\",linearModelLossLAD(b,X,y))"
      ]
    },
    {
      "cell_type": "markdown",
      "metadata": {
        "id": "KVpN94p13kWu"
      },
      "source": [
        "### Question 2.2: /10 points\n",
        "\n",
        "\n",
        "Use the above functions to fit your LAD model. Use your model to make predictions along a grid of equally spaced possum ages.  Once fit, the code below will plot the fit.  The code will also print the R squared value on the plot.\n",
        "\n",
        "Written answer: What is the difference in the fit obtained with an L1 as compared to the L2 cost function? Which one has a higher R2 value? Why?  \n",
        "\n",
        "Note: If you recieve an error from the optimizer, it may be because the loss function for the LAD model is not differentiable at its minimum.  This will lead to some gradient based optimiers to fail to converge.  If this happens to you then pass `method=\"Powell\"` to `scipy.optimize.minimize`.\n",
        "\n"
      ]
    },
    {
      "cell_type": "code",
      "execution_count": null,
      "metadata": {
        "id": "oZTJtKzT3kWv",
        "colab": {
          "base_uri": "https://localhost:8080/",
          "height": 499
        },
        "outputId": "6382f408-f111-490e-d10d-f1532aa502b2"
      },
      "outputs": [
        {
          "output_type": "stream",
          "name": "stdout",
          "text": [
            "R2: 0.12923024435209518\n"
          ]
        },
        {
          "output_type": "display_data",
          "data": {
            "text/plain": [
              "<Figure size 720x480 with 1 Axes>"
            ],
            "image/png": "[encoded data removed]"
          },
          "metadata": {
            "needs_background": "light"
          }
        }
      ],
      "source": [
        "y = possum_data.tailL.values\n",
        "age = possum_data.age.values\n",
        "X = np.c_[np.ones(age.size), age]\n",
        "actual_betas, actual_R2 = linearModelFit(X,y, lossfcn = linearModelLossLAD)\n",
        "\n",
        "age_grid = np.arange(age.min(), age.max())\n",
        "Xn = np.c_[np.ones(age_grid.size), age_grid]\n",
        "yn = Xn@actual_betas\n",
        "\n",
        "fig, ax = plt.subplots(dpi = 120)\n",
        "plt.title('Possum Tail length versus Age')\n",
        "possum_data.plot.scatter(x = 'age', \n",
        "                         y = 'tailL', \n",
        "                         alpha = 0.5,\n",
        "                         ax = ax)\n",
        "\n",
        "ax.plot(age_grid, yn, color = 'red')\n",
        "#actual_betas\n",
        "print(\"R2:\",actual_R2)\n"
      ]
    },
    {
      "cell_type": "markdown",
      "source": [
        "Written Answer:\n",
        "The fit from LAD has a b0 of 34.5 and a b1 of 0.3333.\n",
        "\n",
        "The fit from OLS has a b0 of 33.35 and a b1 of 0.754.\n",
        "\n",
        "The R2 from OLS is 0.2228 and LAD is 0.1292 which makes OLS a better fit for the data since the R2 value is larger.\n",
        "\n",
        "The slope of the OLS fit is at least two times larger then LAD and \n",
        "this can be linked with the outlier within the possum_data\n",
        "since the L1 method are more robust to outliers\n"
      ],
      "metadata": {
        "id": "zm2-DTtkyfHK"
      }
    },
    {
      "cell_type": "markdown",
      "metadata": {
        "id": "THlrORQT3kWw"
      },
      "source": [
        "### Question 2.3: /15 points\n",
        "\n",
        "Fit both an OLS model and a LAD model with `statsmodels`.  In no more than two sentences, comment on the rsquared values from `statsmodels` and the rsquared values from your models. Are they similar?"
      ]
    },
    {
      "cell_type": "code",
      "execution_count": null,
      "metadata": {
        "id": "KXb-4H8v3kWx",
        "colab": {
          "base_uri": "https://localhost:8080/",
          "height": 499
        },
        "outputId": "29bd3fe2-ec2d-4cb3-bbeb-1da6d26e1477"
      },
      "outputs": [
        {
          "output_type": "execute_result",
          "data": {
            "text/plain": [
              "<matplotlib.legend.Legend at 0x7fa4d1e59a50>"
            ]
          },
          "metadata": {},
          "execution_count": 34
        },
        {
          "output_type": "display_data",
          "data": {
            "text/plain": [
              "<Figure size 720x480 with 1 Axes>"
            ],
            "image/png": "[encoded data removed]"
          },
          "metadata": {
            "needs_background": "light"
          }
        }
      ],
      "source": [
        "ols_fit = smf.ols('tailL~age', data = possum_data).fit()\n",
        "lad_fit = smf.quantreg('tailL~age', data = possum_data).fit(q = 0.5)\n",
        "lad_R2= float('0.'+lad_fit.summary().as_csv().split('Pseudo R-squared')[1].split('Model')[0].split('.')[1])\n",
        "fig, ax = plt.subplots(dpi = 120)\n",
        "possum_data.plot.scatter(x = 'age', y ='tailL', ax = ax)\n",
        "plt.title('Possum Tail length versus Age')\n",
        "\n",
        "age = np.linspace(0,9,100)\n",
        "y_ols = ols_fit.predict(exog = dict(age = age)).values\n",
        "y_lad = lad_fit.predict(exog = dict(age = age)).values\n",
        "\n",
        "ax.plot(age, y_ols, color = 'red', label = 'OLS')\n",
        "ax.plot(age, y_lad, color = 'blue', label = 'LAD')\n",
        "ax.text(1, 49, f\"OLS R²: {ols_fit.rsquared}\",fontsize=18, color=\"green\")\n",
        "ax.text(1, 45, f\"LAD R²: {lad_R2}\",fontsize=18, color=\"magenta\")\n",
        "ax.legend()\n"
      ]
    },
    {
      "cell_type": "markdown",
      "source": [
        "Written Answer: The OLS squared value is very similar to the one from Q1.5\n",
        "The LAD squared value is not close to Q2.3 but it isn't far off either"
      ],
      "metadata": {
        "id": "miHcg3X-1yrR"
      }
    }
  ],
  "metadata": {
    "kernelspec": {
      "display_name": "Python 3",
      "language": "python",
      "name": "python3"
    },
    "language_info": {
      "codemirror_mode": {
        "name": "ipython",
        "version": 3
      },
      "file_extension": ".py",
      "mimetype": "text/x-python",
      "name": "python",
      "nbconvert_exporter": "python",
      "pygments_lexer": "ipython3",
      "version": "3.7.4"
    },
    "colab": {
      "provenance": [],
      "collapsed_sections": []
    }
  },
  "nbformat": 4,
  "nbformat_minor": 0
}