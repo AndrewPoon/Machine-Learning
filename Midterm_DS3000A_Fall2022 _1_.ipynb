{
  "cells": [
    {
      "cell_type": "markdown",
      "id": "398d3b8a",
      "metadata": {
        "id": "398d3b8a"
      },
      "source": [
        "# Midterm - DS3000A\n",
        "\n",
        "## Student ID: XXXXXXXXX (XX / 100)\n",
        "\n",
        "## General comments\n",
        "\n",
        "This Midterm integrates knowledge and skills acquired in the first half of the semester, especially in the Assignments. \n",
        "You are allowed to use any document and source on your computer and look up documents on the internet. **You are NOT allowed to share documents, or communicate in any other way with people inside or outside the class during the midterm.** \n",
        "To finish the midterm in the alloted 2 hrs, you will have to work efficiently. **Read the entirety of each question carefully.** \n",
        "\n",
        "You need to submit the midterm by the due date (10:30 am) on OWL in the Assignment/Midterm section where you downloaded the data set and notebook. Late submission will be scored with 0 pts, unless you have received extra accommodation. \n",
        "To avoid technical difficulties, start your submission at latest five to ten minutes before the deadline. To be sure, you can also submit multiple version - only the latest version will be graded.  \n",
        "\n",
        "Some question demand a **written answer** - answer these in a full English sentence. \n",
        "\n",
        "For your Figures, ensure that all axes are labeled in an informative way. \n",
        "\n",
        "Ensure that your code runs correctly by choosing \"Kernel -> Restart and Run All\" before submitting. \n",
        "\n",
        "\n",
        "Good luck!"
      ]
    },
    {
      "cell_type": "markdown",
      "id": "af7f0019",
      "metadata": {
        "id": "af7f0019"
      },
      "source": [
        "## Preliminaries\n",
        "Sets up the environment by importing pandas, numpy, matplotlib, searborn, sklearn, scipy.\n",
        "No other packages are allowed in solving the modterm.   "
      ]
    },
    {
      "cell_type": "code",
      "execution_count": 1,
      "id": "56fd0c35",
      "metadata": {
        "id": "56fd0c35"
      },
      "outputs": [],
      "source": [
        "## Import libraries\n",
        "import matplotlib\n",
        "import matplotlib.pyplot as plt \n",
        "%matplotlib inline\n",
        "import pandas as pd \n",
        "import numpy as np\n",
        "import seaborn as sns\n",
        "import sklearn as sk \n",
        "import scipy \n",
        "\n",
        "# Get individual functions from \n",
        "from sklearn.model_selection import train_test_split, cross_val_score, GridSearchCV\n",
        "from sklearn.pipeline import Pipeline\n",
        "from sklearn.linear_model import LinearRegression, Ridge, Lasso, LogisticRegression, LogisticRegressionCV\n",
        "from sklearn.preprocessing import StandardScaler\n",
        "from sklearn.metrics import make_scorer, mean_absolute_error, r2_score, mean_squared_error\n",
        "from sklearn.metrics import confusion_matrix, roc_curve, precision_recall_curve, auc, plot_roc_curve\n",
        "from scipy.stats import norm"
      ]
    },
    {
      "cell_type": "markdown",
      "id": "587ab402",
      "metadata": {
        "id": "587ab402"
      },
      "source": [
        "## Dataset\n",
        "\n",
        "This dataset (\"ExamData\") is a subset of a dataset which contains years of daily observations of the weather at many geographical locations across a country.\n",
        "\n",
        "The main purpose of the dataset was to predict Raining on a day as a \"Yes\" or \"No\". \n",
        "When the rain was 1 mm or more the answer is \"Yes\", and \"No\" otherwise. \n",
        "The Observations were drawn from numerous weather stations. \n",
        "\n",
        "The sourse of observations and all definitions is http://www.bom.gov.au/climate/data.\n",
        "\n",
        "The variables are ientified as follows:\n",
        "\n",
        "1. Date - The date string of the recorded information (year-month-day) \n",
        "2. MinTemp - Minimum temperature in the 24 hours to 9am. Sometimes only known to the nearest whole degree (degrees Celsius).\n",
        "3. MaxTemp - Maximum temperature in the 24 hours to 9am. Sometimes only known to the nearest whole degree (degrees Celsius).\n",
        "4. Rainfall - Precipitation (rainfall) in the 24 hours to 9am. Sometimes only known to the nearest whole millimetre (millimetres).\n",
        "5. Evaporation - \"Class A\" pan evaporation in the 24 hours to 9am (milimeters).\n",
        "6. Sunshine - Bright sunshine in the 24 hours to midnight (hours).\n",
        "7. WindGustSpeed - Speed of strongest wind gust in the 24 hours to midnight (killometers per hour).\n",
        "8. WindDir - Direction of strongest wind gust in the 24 hours to midnight (4 compass points North, South, East, West).\n",
        "9. WindSpeed9am - Wind speed averaged over 10 minutes prior to 9 am (killometers per hour).\n",
        "10. WindSpeed3am - Wind speed averaged over 10 minutes prior to 3 pm (killometers per hour).\n",
        "11. Humidity - Relative humidity (percent).\n",
        "12. Pressure9am - Atmospheric pressure reduced to mean sea level at 9 am (hectopascals).\n",
        "13. Pressure3pm - Atmospheric pressure reduced to mean sea level at 3 pm (hectopascals).\n",
        "14. Cloud9am - Fraction of sky obscured by cloud at 9 am (eighths).\n",
        "15. Cloud3pm - Fraction of sky obscured by cloud at 3 pm (eighths).\n",
        "16. Temp9am - Temperature at 9 am (degrees Celsius).\n",
        "17. Temp3pm - Temperature at 3 pm (degrees Celsius).\n",
        "18. RainToday - Raining today (\"Yes\"/\"No\").\n",
        "19. RainTomorrow - Raining tomorrow (\"Yes\"/\"No\").\n",
        "\n",
        "With this information, answer the following questions using your knowledge from the course.\n"
      ]
    },
    {
      "cell_type": "markdown",
      "id": "976b6ba4",
      "metadata": {
        "id": "976b6ba4"
      },
      "source": [
        "## Question 1: Linear Regression - Predicting the amount of Rainfall (30 pts)\n",
        "\n",
        "### Q1.1: Data loading (X / 3 pts)\n",
        "\n",
        "Load the dataset and store it in a dataframe. Preview the data and the basic statistics for all variables. \n",
        "\n",
        "**Written answer:** How many cases are there? Are there any null values?"
      ]
    },
    {
      "cell_type": "code",
      "execution_count": 100,
      "id": "d1f3b96a",
      "metadata": {
        "id": "d1f3b96a",
        "outputId": "2d31a883-a15f-47e4-b154-9b1c7359442f",
        "colab": {
          "base_uri": "https://localhost:8080/"
        }
      },
      "outputs": [
        {
          "output_type": "execute_result",
          "data": {
            "text/plain": [
              "(          MinTemp     MaxTemp    Rainfall  Evaporation    Sunshine  \\\n",
              " count  907.000000  907.000000  907.000000   907.000000  907.000000   \n",
              " mean    13.414333   23.428335    4.402867     5.105072    7.054686   \n",
              " std      6.417740    7.261593   11.423447     3.410964    3.962936   \n",
              " min     -2.500000    7.200000    0.000000     0.000000    0.000000   \n",
              " 25%      8.600000   17.200000    0.000000     2.600000    3.800000   \n",
              " 50%     12.900000   23.500000    0.000000     4.400000    7.800000   \n",
              " 75%     18.500000   29.500000    4.200000     7.000000   10.300000   \n",
              " max     29.700000   42.900000  168.400000    22.800000   13.800000   \n",
              " \n",
              "        WindGustSpeed  WindSpeed9am  WindSpeed3pm    Humidity  Pressure9am  \\\n",
              " count     907.000000    907.000000    907.000000  907.000000   907.000000   \n",
              " mean       43.628445     17.275634     20.678060   53.879824  1016.186880   \n",
              " std        14.703012      8.924449      8.995093   21.092195     7.214124   \n",
              " min        15.000000      2.000000      2.000000    1.000000   988.300000   \n",
              " 25%        33.000000     11.000000     13.000000   39.000000  1011.300000   \n",
              " 50%        41.000000     17.000000     20.000000   55.000000  1016.100000   \n",
              " 75%        52.000000     22.000000     26.000000   68.000000  1021.250000   \n",
              " max       100.000000     59.000000     54.000000  100.000000  1038.800000   \n",
              " \n",
              "        Pressure3pm    Cloud9am    Cloud3pm     Temp9am     Temp3pm  \n",
              " count   907.000000  907.000000  907.000000  907.000000  907.000000  \n",
              " mean   1013.828115    4.558986    4.697905   17.774862   21.857552  \n",
              " std       7.111339    2.833417    2.662640    6.692285    7.187933  \n",
              " min     987.300000    0.000000    0.000000    3.200000    4.800000  \n",
              " 25%    1008.900000    2.000000    2.000000   12.100000   15.900000  \n",
              " 50%    1013.800000    6.000000    6.000000   17.100000   21.700000  \n",
              " 75%    1018.850000    7.000000    7.000000   23.200000   27.550000  \n",
              " max    1036.600000    8.000000    8.000000   39.000000   41.400000  ,\n",
              " (907, 19),\n",
              "            Date  MinTemp  MaxTemp  Rainfall  Evaporation  Sunshine  \\\n",
              " 0    2015-10-20     20.4     26.9       7.0          6.8       5.2   \n",
              " 1    2010-11-18     23.4     33.6      56.0          7.4       8.3   \n",
              " 2    2012-07-10      8.7     12.2       7.8          0.4       0.6   \n",
              " 3    2010-04-03     23.1     25.3      25.8          3.6       0.3   \n",
              " 4    2013-06-29     12.8     15.6      27.2          3.2       0.0   \n",
              " ..          ...      ...      ...       ...          ...       ...   \n",
              " 902  2014-12-03     26.5     33.3       0.4          7.6       8.4   \n",
              " 903  2010-10-19     14.0     18.7       5.0          6.4       0.8   \n",
              " 904  2016-03-02     13.3     31.4       0.0          8.4      11.9   \n",
              " 905  2010-05-17      3.3     17.8       0.0          1.2       9.8   \n",
              " 906  2010-05-05     14.4     24.3       6.4          1.0      10.3   \n",
              " \n",
              "      WindGustSpeed WindDir  WindSpeed9am  WindSpeed3pm  Humidity  Pressure9am  \\\n",
              " 0               50       S            17            20        81       1019.3   \n",
              " 1               56       S             7            22        55       1010.1   \n",
              " 2               24       E             7             9        91       1014.5   \n",
              " 3               41       S            15            22        92       1011.8   \n",
              " 4               31       E             9            24        80       1024.9   \n",
              " ..             ...     ...           ...           ...       ...          ...   \n",
              " 902             31       N            11            22        56       1010.2   \n",
              " 903             41       S            31            24        57       1025.5   \n",
              " 904             28       E             9            15        34       1019.3   \n",
              " 905             24       N            13             9        63       1020.8   \n",
              " 906             30       W             6            13        62       1015.1   \n",
              " \n",
              "      Pressure3pm  Cloud9am  Cloud3pm  Temp9am  Temp3pm RainToday RainTomorrow  \n",
              " 0         1016.3         7         7     23.4     23.5       Yes          Yes  \n",
              " 1         1006.4         7         7     30.0     32.8       Yes          Yes  \n",
              " 2         1009.2         8         7      9.8     11.6       Yes          Yes  \n",
              " 3         1009.4         7         8     24.3     23.9       Yes          Yes  \n",
              " 4         1022.9         8         8     14.2     13.9       Yes          Yes  \n",
              " ..           ...       ...       ...      ...      ...       ...          ...  \n",
              " 902       1006.3         7         7     29.1     31.9        No           No  \n",
              " 903       1026.4         7         7     14.7     16.3       Yes           No  \n",
              " 904       1015.7         1         0     22.4     30.8        No           No  \n",
              " 905       1018.4         1         2      9.8     17.1        No           No  \n",
              " 906       1011.6         1         1     20.3     23.7       Yes           No  \n",
              " \n",
              " [907 rows x 19 columns],\n",
              " (907, 19))"
            ]
          },
          "metadata": {},
          "execution_count": 100
        }
      ],
      "source": [
        "data=pd.read_csv('ExamData.csv')\n",
        "data.describe(), data.shape, data.dropna(axis=0), data.shape"
      ]
    },
    {
      "cell_type": "markdown",
      "id": "b763b73e",
      "metadata": {
        "id": "b763b73e"
      },
      "source": [
        "<b>*Written answer:*</b>: There are 907 cases and there are no null values"
      ]
    },
    {
      "cell_type": "markdown",
      "id": "3f5befcd",
      "metadata": {
        "id": "3f5befcd"
      },
      "source": [
        "### Q 1.2: Preprocessing - Data cleaning (X / 5 pts)\n",
        "* Drop the variables: 'RainToday','RainTomorrow'.\n",
        "\n",
        "* Use \"Date\" variable to find the numerical variable 'Month'. Therefore, you will have an additional column 'Month' (NOTE: use Pandas library to convert 'Date' into **datetime** format and extract 'Month' variable). Then dummmy code \"Month\" and drop the variable \"Date\". \n",
        "* Find the catecorical variables and Dummy code them (One Hot Encoding). **Because in this question we are using non-regularized models, drop the first column for each variable.**\n",
        "\n",
        "<b>Written answer</b>: How many new variables have you just created?  12 variables, 1 for each months"
      ]
    },
    {
      "cell_type": "code",
      "execution_count": 101,
      "id": "f37bd089",
      "metadata": {
        "colab": {
          "base_uri": "https://localhost:8080/"
        },
        "id": "f37bd089",
        "outputId": "f4eb78c9-8479-43e9-b608-bce8193b7bfa"
      },
      "outputs": [
        {
          "output_type": "execute_result",
          "data": {
            "text/plain": [
              "(          MinTemp     MaxTemp    Rainfall  Evaporation    Sunshine  \\\n",
              " count  907.000000  907.000000  907.000000   907.000000  907.000000   \n",
              " mean    13.414333   23.428335    4.402867     5.105072    7.054686   \n",
              " std      6.417740    7.261593   11.423447     3.410964    3.962936   \n",
              " min     -2.500000    7.200000    0.000000     0.000000    0.000000   \n",
              " 25%      8.600000   17.200000    0.000000     2.600000    3.800000   \n",
              " 50%     12.900000   23.500000    0.000000     4.400000    7.800000   \n",
              " 75%     18.500000   29.500000    4.200000     7.000000   10.300000   \n",
              " max     29.700000   42.900000  168.400000    22.800000   13.800000   \n",
              " \n",
              "        WindGustSpeed  WindSpeed9am  WindSpeed3pm    Humidity  Pressure9am  \\\n",
              " count     907.000000    907.000000    907.000000  907.000000   907.000000   \n",
              " mean       43.628445     17.275634     20.678060   53.879824  1016.186880   \n",
              " std        14.703012      8.924449      8.995093   21.092195     7.214124   \n",
              " min        15.000000      2.000000      2.000000    1.000000   988.300000   \n",
              " 25%        33.000000     11.000000     13.000000   39.000000  1011.300000   \n",
              " 50%        41.000000     17.000000     20.000000   55.000000  1016.100000   \n",
              " 75%        52.000000     22.000000     26.000000   68.000000  1021.250000   \n",
              " max       100.000000     59.000000     54.000000  100.000000  1038.800000   \n",
              " \n",
              "        ...     Month_3     Month_4     Month_5     Month_6     Month_7  \\\n",
              " count  ...  907.000000  907.000000  907.000000  907.000000  907.000000   \n",
              " mean   ...    0.089305    0.071665    0.082690    0.083793    0.098126   \n",
              " std    ...    0.285341    0.258074    0.275565    0.277230    0.297649   \n",
              " min    ...    0.000000    0.000000    0.000000    0.000000    0.000000   \n",
              " 25%    ...    0.000000    0.000000    0.000000    0.000000    0.000000   \n",
              " 50%    ...    0.000000    0.000000    0.000000    0.000000    0.000000   \n",
              " 75%    ...    0.000000    0.000000    0.000000    0.000000    0.000000   \n",
              " max    ...    1.000000    1.000000    1.000000    1.000000    1.000000   \n",
              " \n",
              "           Month_8     Month_9    Month_10    Month_11    Month_12  \n",
              " count  907.000000  907.000000  907.000000  907.000000  907.000000  \n",
              " mean     0.091510    0.097023    0.076075    0.085998    0.074972  \n",
              " std      0.288493    0.296153    0.265264    0.280515    0.263492  \n",
              " min      0.000000    0.000000    0.000000    0.000000    0.000000  \n",
              " 25%      0.000000    0.000000    0.000000    0.000000    0.000000  \n",
              " 50%      0.000000    0.000000    0.000000    0.000000    0.000000  \n",
              " 75%      0.000000    0.000000    0.000000    0.000000    0.000000  \n",
              " max      1.000000    1.000000    1.000000    1.000000    1.000000  \n",
              " \n",
              " [8 rows x 26 columns],\n",
              " (907, 28),\n",
              "           Date  MinTemp  MaxTemp  Rainfall  Evaporation  Sunshine  \\\n",
              " 0   2015-10-20     20.4     26.9       7.0          6.8       5.2   \n",
              " 1   2010-11-18     23.4     33.6      56.0          7.4       8.3   \n",
              " 2   2012-07-10      8.7     12.2       7.8          0.4       0.6   \n",
              " 3   2010-04-03     23.1     25.3      25.8          3.6       0.3   \n",
              " 4   2013-06-29     12.8     15.6      27.2          3.2       0.0   \n",
              " ..         ...      ...      ...       ...          ...       ...   \n",
              " 902 2014-12-03     26.5     33.3       0.4          7.6       8.4   \n",
              " 903 2010-10-19     14.0     18.7       5.0          6.4       0.8   \n",
              " 904 2016-03-02     13.3     31.4       0.0          8.4      11.9   \n",
              " 905 2010-05-17      3.3     17.8       0.0          1.2       9.8   \n",
              " 906 2010-05-05     14.4     24.3       6.4          1.0      10.3   \n",
              " \n",
              "      WindGustSpeed WindDir  WindSpeed9am  WindSpeed3pm  ...  Month_3  Month_4  \\\n",
              " 0               50       S            17            20  ...        0        0   \n",
              " 1               56       S             7            22  ...        0        0   \n",
              " 2               24       E             7             9  ...        0        0   \n",
              " 3               41       S            15            22  ...        0        1   \n",
              " 4               31       E             9            24  ...        0        0   \n",
              " ..             ...     ...           ...           ...  ...      ...      ...   \n",
              " 902             31       N            11            22  ...        0        0   \n",
              " 903             41       S            31            24  ...        0        0   \n",
              " 904             28       E             9            15  ...        1        0   \n",
              " 905             24       N            13             9  ...        0        0   \n",
              " 906             30       W             6            13  ...        0        0   \n",
              " \n",
              "      Month_5  Month_6  Month_7  Month_8  Month_9  Month_10  Month_11  Month_12  \n",
              " 0          0        0        0        0        0         1         0         0  \n",
              " 1          0        0        0        0        0         0         1         0  \n",
              " 2          0        0        1        0        0         0         0         0  \n",
              " 3          0        0        0        0        0         0         0         0  \n",
              " 4          0        1        0        0        0         0         0         0  \n",
              " ..       ...      ...      ...      ...      ...       ...       ...       ...  \n",
              " 902        0        0        0        0        0         0         0         1  \n",
              " 903        0        0        0        0        0         1         0         0  \n",
              " 904        0        0        0        0        0         0         0         0  \n",
              " 905        1        0        0        0        0         0         0         0  \n",
              " 906        1        0        0        0        0         0         0         0  \n",
              " \n",
              " [907 rows x 28 columns],\n",
              " (907, 28))"
            ]
          },
          "metadata": {},
          "execution_count": 101
        }
      ],
      "source": [
        "data=data.drop(['RainToday','RainTomorrow'],axis=1)\n",
        "data['Date'] = pd.to_datetime(data['Date'], format='%Y-%m-%d')\n",
        "#not sure how to extract the month from datatime as a string/number. I can only get it as a timestamp\n",
        "data['Month'] = pd.DatetimeIndex(data['Date']).month\n",
        "data.describe(), data.shape, data.dropna(axis=0), data.shape\n",
        "data.drop(['Date'],axis=1)\n",
        "data=pd.get_dummies(data,drop_first=True,columns=['Month'])\n",
        "data.describe(), data.shape, data.dropna(axis=0), data.shape\n"
      ]
    },
    {
      "cell_type": "markdown",
      "id": "ac0cfa29",
      "metadata": {
        "id": "ac0cfa29"
      },
      "source": [
        "<b>*Written answer:*</b>"
      ]
    },
    {
      "cell_type": "markdown",
      "id": "fe25e760",
      "metadata": {
        "id": "fe25e760"
      },
      "source": [
        "### Q 1.3: Visualization (X / 4 pts)\n",
        "\n",
        "Plot the joint distribution between the Rainfall and the MinTemp and show the marginal distributions of those two variables as well. [2 pts]<br/>\n",
        "\n",
        "<b>Written answer</b>: How would you characterize the distribution of `Rainfall`? Is there a relationship between those two variables? Describe their correlation? [2 pts]"
      ]
    },
    {
      "cell_type": "code",
      "execution_count": 96,
      "id": "6ff65b37",
      "metadata": {
        "colab": {
          "base_uri": "https://localhost:8080/",
          "height": 513
        },
        "id": "6ff65b37",
        "outputId": "5c779d44-4651-401e-e775-b135592b38ab"
      },
      "outputs": [
        {
          "output_type": "stream",
          "name": "stderr",
          "text": [
            "/usr/local/lib/python3.7/dist-packages/seaborn/_decorators.py:43: FutureWarning: Pass the following variables as keyword args: x, y. From version 0.12, the only valid positional argument will be `data`, and passing other arguments without an explicit keyword will result in an error or misinterpretation.\n",
            "  FutureWarning\n"
          ]
        },
        {
          "output_type": "execute_result",
          "data": {
            "text/plain": [
              "Text(0.5, 1.0, 'rainfall Vs minimum temperature')"
            ]
          },
          "metadata": {},
          "execution_count": 96
        },
        {
          "output_type": "display_data",
          "data": {
            "text/plain": [
              "<Figure size 432x432 with 3 Axes>"
            ],
            "image/png": "[encoded data removed]"
          },
          "metadata": {
            "needs_background": "light"
          }
        }
      ],
      "source": [
        "sns.jointplot(data.MinTemp,data.Rainfall)\n",
        "plt.title('rainfall Vs minimum temperature')"
      ]
    },
    {
      "cell_type": "markdown",
      "id": "e72da9d4",
      "metadata": {
        "id": "e72da9d4"
      },
      "source": [
        "<b>*Written answer:*</b>  There is a mild corrleation between rainfall and minimum temperture and there is a slight skew between temperature of 5-30."
      ]
    },
    {
      "cell_type": "markdown",
      "id": "cd464e98",
      "metadata": {
        "id": "cd464e98"
      },
      "source": [
        "### Q 1.4 Transformation (X / 4 pts)\n",
        "\n",
        "Logarithm transformation is one of the most commonly used mathematical transformations in feature engineering to approximate the distribution close to normal. Given the distribution of the Rainfall variable, use the logarithm of the Rainfall instead of the original variable as a new target variable and add to the dataset (name it ```LogRainfall```) where $LogRainfall = log(Rainfall + 1)$. (You add 1 because the data you apply log transform must have only positive values). \n",
        "\n",
        "Plot the joint distribution of the new variable ```LogRainfall``` and the MinTemp. <br> [2 pts]\n",
        "\n",
        "<b>Written answer</b>: Describe how their correlation is changed now. Was this transformation effective?Why? [2 pts]"
      ]
    },
    {
      "cell_type": "code",
      "execution_count": 86,
      "id": "d7cd8b45",
      "metadata": {
        "colab": {
          "base_uri": "https://localhost:8080/",
          "height": 513
        },
        "id": "d7cd8b45",
        "outputId": "a864fd42-22ac-4056-c187-de83587c8c07"
      },
      "outputs": [
        {
          "output_type": "stream",
          "name": "stderr",
          "text": [
            "/usr/local/lib/python3.7/dist-packages/seaborn/_decorators.py:43: FutureWarning: Pass the following variables as keyword args: x, y. From version 0.12, the only valid positional argument will be `data`, and passing other arguments without an explicit keyword will result in an error or misinterpretation.\n",
            "  FutureWarning\n"
          ]
        },
        {
          "output_type": "execute_result",
          "data": {
            "text/plain": [
              "Text(0.5, 1.0, 'rainfall Vs minimum temperature')"
            ]
          },
          "metadata": {},
          "execution_count": 86
        },
        {
          "output_type": "display_data",
          "data": {
            "text/plain": [
              "<Figure size 432x432 with 3 Axes>"
            ],
            "image/png": "[encoded data removed]"
          },
          "metadata": {
            "needs_background": "light"
          }
        }
      ],
      "source": [
        "LogRainFall=np.log(data.Rainfall+1)\n",
        "sns.jointplot(data.MinTemp,LogRainFall)\n",
        "plt.title('rainfall Vs minimum temperature')"
      ]
    },
    {
      "cell_type": "markdown",
      "id": "d3b630bc",
      "metadata": {
        "id": "d3b630bc"
      },
      "source": [
        "<b>*Written answer:*</b> The previous mild correlation became much more obivous after undergoing the log transform."
      ]
    },
    {
      "cell_type": "markdown",
      "id": "57c798a6",
      "metadata": {
        "id": "57c798a6"
      },
      "source": [
        "### Q 1.5: Regression Analysis (X / 14 pts)\n",
        "\n",
        "Use the above two target variables ```Rainfall``` and ```LogRainfall``` to create **two** linear regression models and compare their prediction performance as follows:\n",
        "\n",
        "a) Split the train and test subsets using 30% of the data as the test set. Use a `random_state` of 1 if using `train_test_split`. [1 pts]\n",
        "\n",
        "b. Create the first linear regression model using all variables as features ```X``` and the Rainfall variable as target variable ```y``` without transformation. [6 pts]\n",
        "\n",
        "c. Create the second linear regression model using all variables as features ```X``` and the log-transformed Rainfall variable ```y``` . [3 pts]\n",
        "\n",
        "d. Calculate and report the mean absolute error of both models when predicting the variable `Rainfall` in the test set. [2 pts]\n",
        "*NOTE* Make sure you transform the prediction of the model in (c) from log(Rainfall) to Rainfall before error calculation! \n",
        "\n",
        "**Written answer:** Which one is the most accurate model? Why? [2 pts]"
      ]
    },
    {
      "cell_type": "code",
      "execution_count": 87,
      "id": "e93fe04d",
      "metadata": {
        "colab": {
          "base_uri": "https://localhost:8080/",
          "height": 380
        },
        "id": "e93fe04d",
        "outputId": "b258b3e8-c001-412b-d38e-ffda7e9404c9"
      },
      "outputs": [
        {
          "output_type": "error",
          "ename": "TypeError",
          "evalue": "ignored",
          "traceback": [
            "\u001b[0;31m---------------------------------------------------------------------------\u001b[0m",
            "\u001b[0;31mTypeError\u001b[0m                                 Traceback (most recent call last)",
            "\u001b[0;32m<ipython-input-87-4fe9e69adbc6>\u001b[0m in \u001b[0;36m<module>\u001b[0;34m\u001b[0m\n\u001b[1;32m      5\u001b[0m \u001b[0mlog_y_train\u001b[0m\u001b[0;34m=\u001b[0m\u001b[0mnp\u001b[0m\u001b[0;34m.\u001b[0m\u001b[0mlog\u001b[0m\u001b[0;34m(\u001b[0m\u001b[0my_train\u001b[0m\u001b[0;34m+\u001b[0m\u001b[0;36m1\u001b[0m\u001b[0;34m)\u001b[0m\u001b[0;34m\u001b[0m\u001b[0;34m\u001b[0m\u001b[0m\n\u001b[1;32m      6\u001b[0m \u001b[0;34m\u001b[0m\u001b[0m\n\u001b[0;32m----> 7\u001b[0;31m \u001b[0mmodel_b\u001b[0m\u001b[0;34m=\u001b[0m \u001b[0mLinearRegression\u001b[0m\u001b[0;34m(\u001b[0m\u001b[0;34m)\u001b[0m\u001b[0;34m.\u001b[0m\u001b[0mfit\u001b[0m\u001b[0;34m(\u001b[0m\u001b[0mX_train\u001b[0m\u001b[0;34m,\u001b[0m\u001b[0my_train\u001b[0m\u001b[0;34m)\u001b[0m\u001b[0;34m\u001b[0m\u001b[0;34m\u001b[0m\u001b[0m\n\u001b[0m\u001b[1;32m      8\u001b[0m \u001b[0mmodel_c\u001b[0m\u001b[0;34m=\u001b[0m \u001b[0mLinearRegression\u001b[0m\u001b[0;34m(\u001b[0m\u001b[0;34m)\u001b[0m\u001b[0;34m.\u001b[0m\u001b[0mfit\u001b[0m\u001b[0;34m(\u001b[0m\u001b[0mX_train\u001b[0m\u001b[0;34m,\u001b[0m\u001b[0mlog_y_train\u001b[0m\u001b[0;34m)\u001b[0m\u001b[0;34m\u001b[0m\u001b[0;34m\u001b[0m\u001b[0m\n\u001b[1;32m      9\u001b[0m \u001b[0;34m\u001b[0m\u001b[0m\n",
            "\u001b[0;32m/usr/local/lib/python3.7/dist-packages/sklearn/linear_model/_base.py\u001b[0m in \u001b[0;36mfit\u001b[0;34m(self, X, y, sample_weight)\u001b[0m\n\u001b[1;32m    661\u001b[0m \u001b[0;34m\u001b[0m\u001b[0m\n\u001b[1;32m    662\u001b[0m         X, y = self._validate_data(\n\u001b[0;32m--> 663\u001b[0;31m             \u001b[0mX\u001b[0m\u001b[0;34m,\u001b[0m \u001b[0my\u001b[0m\u001b[0;34m,\u001b[0m \u001b[0maccept_sparse\u001b[0m\u001b[0;34m=\u001b[0m\u001b[0maccept_sparse\u001b[0m\u001b[0;34m,\u001b[0m \u001b[0my_numeric\u001b[0m\u001b[0;34m=\u001b[0m\u001b[0;32mTrue\u001b[0m\u001b[0;34m,\u001b[0m \u001b[0mmulti_output\u001b[0m\u001b[0;34m=\u001b[0m\u001b[0;32mTrue\u001b[0m\u001b[0;34m\u001b[0m\u001b[0;34m\u001b[0m\u001b[0m\n\u001b[0m\u001b[1;32m    664\u001b[0m         )\n\u001b[1;32m    665\u001b[0m \u001b[0;34m\u001b[0m\u001b[0m\n",
            "\u001b[0;32m/usr/local/lib/python3.7/dist-packages/sklearn/base.py\u001b[0m in \u001b[0;36m_validate_data\u001b[0;34m(self, X, y, reset, validate_separately, **check_params)\u001b[0m\n\u001b[1;32m    579\u001b[0m                 \u001b[0my\u001b[0m \u001b[0;34m=\u001b[0m \u001b[0mcheck_array\u001b[0m\u001b[0;34m(\u001b[0m\u001b[0my\u001b[0m\u001b[0;34m,\u001b[0m \u001b[0;34m**\u001b[0m\u001b[0mcheck_y_params\u001b[0m\u001b[0;34m)\u001b[0m\u001b[0;34m\u001b[0m\u001b[0;34m\u001b[0m\u001b[0m\n\u001b[1;32m    580\u001b[0m             \u001b[0;32melse\u001b[0m\u001b[0;34m:\u001b[0m\u001b[0;34m\u001b[0m\u001b[0;34m\u001b[0m\u001b[0m\n\u001b[0;32m--> 581\u001b[0;31m                 \u001b[0mX\u001b[0m\u001b[0;34m,\u001b[0m \u001b[0my\u001b[0m \u001b[0;34m=\u001b[0m \u001b[0mcheck_X_y\u001b[0m\u001b[0;34m(\u001b[0m\u001b[0mX\u001b[0m\u001b[0;34m,\u001b[0m \u001b[0my\u001b[0m\u001b[0;34m,\u001b[0m \u001b[0;34m**\u001b[0m\u001b[0mcheck_params\u001b[0m\u001b[0;34m)\u001b[0m\u001b[0;34m\u001b[0m\u001b[0;34m\u001b[0m\u001b[0m\n\u001b[0m\u001b[1;32m    582\u001b[0m             \u001b[0mout\u001b[0m \u001b[0;34m=\u001b[0m \u001b[0mX\u001b[0m\u001b[0;34m,\u001b[0m \u001b[0my\u001b[0m\u001b[0;34m\u001b[0m\u001b[0;34m\u001b[0m\u001b[0m\n\u001b[1;32m    583\u001b[0m \u001b[0;34m\u001b[0m\u001b[0m\n",
            "\u001b[0;32m/usr/local/lib/python3.7/dist-packages/sklearn/utils/validation.py\u001b[0m in \u001b[0;36mcheck_X_y\u001b[0;34m(X, y, accept_sparse, accept_large_sparse, dtype, order, copy, force_all_finite, ensure_2d, allow_nd, multi_output, ensure_min_samples, ensure_min_features, y_numeric, estimator)\u001b[0m\n\u001b[1;32m    974\u001b[0m         \u001b[0mensure_min_samples\u001b[0m\u001b[0;34m=\u001b[0m\u001b[0mensure_min_samples\u001b[0m\u001b[0;34m,\u001b[0m\u001b[0;34m\u001b[0m\u001b[0;34m\u001b[0m\u001b[0m\n\u001b[1;32m    975\u001b[0m         \u001b[0mensure_min_features\u001b[0m\u001b[0;34m=\u001b[0m\u001b[0mensure_min_features\u001b[0m\u001b[0;34m,\u001b[0m\u001b[0;34m\u001b[0m\u001b[0;34m\u001b[0m\u001b[0m\n\u001b[0;32m--> 976\u001b[0;31m         \u001b[0mestimator\u001b[0m\u001b[0;34m=\u001b[0m\u001b[0mestimator\u001b[0m\u001b[0;34m,\u001b[0m\u001b[0;34m\u001b[0m\u001b[0;34m\u001b[0m\u001b[0m\n\u001b[0m\u001b[1;32m    977\u001b[0m     )\n\u001b[1;32m    978\u001b[0m \u001b[0;34m\u001b[0m\u001b[0m\n",
            "\u001b[0;32m/usr/local/lib/python3.7/dist-packages/sklearn/utils/validation.py\u001b[0m in \u001b[0;36mcheck_array\u001b[0;34m(array, accept_sparse, accept_large_sparse, dtype, order, copy, force_all_finite, ensure_2d, allow_nd, ensure_min_samples, ensure_min_features, estimator)\u001b[0m\n\u001b[1;32m    744\u001b[0m                     \u001b[0marray\u001b[0m \u001b[0;34m=\u001b[0m \u001b[0marray\u001b[0m\u001b[0;34m.\u001b[0m\u001b[0mastype\u001b[0m\u001b[0;34m(\u001b[0m\u001b[0mdtype\u001b[0m\u001b[0;34m,\u001b[0m \u001b[0mcasting\u001b[0m\u001b[0;34m=\u001b[0m\u001b[0;34m\"unsafe\"\u001b[0m\u001b[0;34m,\u001b[0m \u001b[0mcopy\u001b[0m\u001b[0;34m=\u001b[0m\u001b[0;32mFalse\u001b[0m\u001b[0;34m)\u001b[0m\u001b[0;34m\u001b[0m\u001b[0;34m\u001b[0m\u001b[0m\n\u001b[1;32m    745\u001b[0m                 \u001b[0;32melse\u001b[0m\u001b[0;34m:\u001b[0m\u001b[0;34m\u001b[0m\u001b[0;34m\u001b[0m\u001b[0m\n\u001b[0;32m--> 746\u001b[0;31m                     \u001b[0marray\u001b[0m \u001b[0;34m=\u001b[0m \u001b[0mnp\u001b[0m\u001b[0;34m.\u001b[0m\u001b[0masarray\u001b[0m\u001b[0;34m(\u001b[0m\u001b[0marray\u001b[0m\u001b[0;34m,\u001b[0m \u001b[0morder\u001b[0m\u001b[0;34m=\u001b[0m\u001b[0morder\u001b[0m\u001b[0;34m,\u001b[0m \u001b[0mdtype\u001b[0m\u001b[0;34m=\u001b[0m\u001b[0mdtype\u001b[0m\u001b[0;34m)\u001b[0m\u001b[0;34m\u001b[0m\u001b[0;34m\u001b[0m\u001b[0m\n\u001b[0m\u001b[1;32m    747\u001b[0m             \u001b[0;32mexcept\u001b[0m \u001b[0mComplexWarning\u001b[0m \u001b[0;32mas\u001b[0m \u001b[0mcomplex_warning\u001b[0m\u001b[0;34m:\u001b[0m\u001b[0;34m\u001b[0m\u001b[0;34m\u001b[0m\u001b[0m\n\u001b[1;32m    748\u001b[0m                 raise ValueError(\n",
            "\u001b[0;32m/usr/local/lib/python3.7/dist-packages/pandas/core/generic.py\u001b[0m in \u001b[0;36m__array__\u001b[0;34m(self, dtype)\u001b[0m\n\u001b[1;32m   1991\u001b[0m \u001b[0;34m\u001b[0m\u001b[0m\n\u001b[1;32m   1992\u001b[0m     \u001b[0;32mdef\u001b[0m \u001b[0m__array__\u001b[0m\u001b[0;34m(\u001b[0m\u001b[0mself\u001b[0m\u001b[0;34m,\u001b[0m \u001b[0mdtype\u001b[0m\u001b[0;34m:\u001b[0m \u001b[0mNpDtype\u001b[0m \u001b[0;34m|\u001b[0m \u001b[0;32mNone\u001b[0m \u001b[0;34m=\u001b[0m \u001b[0;32mNone\u001b[0m\u001b[0;34m)\u001b[0m \u001b[0;34m->\u001b[0m \u001b[0mnp\u001b[0m\u001b[0;34m.\u001b[0m\u001b[0mndarray\u001b[0m\u001b[0;34m:\u001b[0m\u001b[0;34m\u001b[0m\u001b[0;34m\u001b[0m\u001b[0m\n\u001b[0;32m-> 1993\u001b[0;31m         \u001b[0;32mreturn\u001b[0m \u001b[0mnp\u001b[0m\u001b[0;34m.\u001b[0m\u001b[0masarray\u001b[0m\u001b[0;34m(\u001b[0m\u001b[0mself\u001b[0m\u001b[0;34m.\u001b[0m\u001b[0m_values\u001b[0m\u001b[0;34m,\u001b[0m \u001b[0mdtype\u001b[0m\u001b[0;34m=\u001b[0m\u001b[0mdtype\u001b[0m\u001b[0;34m)\u001b[0m\u001b[0;34m\u001b[0m\u001b[0;34m\u001b[0m\u001b[0m\n\u001b[0m\u001b[1;32m   1994\u001b[0m \u001b[0;34m\u001b[0m\u001b[0m\n\u001b[1;32m   1995\u001b[0m     def __array_wrap__(\n",
            "\u001b[0;31mTypeError\u001b[0m: float() argument must be a string or a number, not 'Timestamp'"
          ]
        }
      ],
      "source": [
        "X = data.drop([\"Rainfall\"], axis=1)\n",
        "y = data.Rainfall\n",
        "X_train, X_test, y_train, y_test = train_test_split(X,y,test_size=0.30, random_state=1)\n",
        "\n",
        "log_y_train=np.log(y_train+1)\n",
        "\n",
        "#This would work with the month being in a float but I couldn't figure out how to convert timestamp object\n",
        "model_b= LinearRegression().fit(X_train,y_train)\n",
        "model_c= LinearRegression().fit(X_train,log_y_train)\n",
        "\n",
        "b_pred_y=model_b.predict(X_test)\n",
        "c_pred_y=np.exp(model_c.predict(X_test))-1\n",
        "\n",
        "mae_b=mean_absolute_error(b_pred_y,y_test)\n",
        "mae_c=mean_absolute_error(c_pred_y,y_test)\n",
        "\n",
        "print(f\"mean absolute error for Rainfall: {mae_b} \\n  mean absolute error for Log rainfall:{mae_c}\")"
      ]
    },
    {
      "cell_type": "markdown",
      "id": "eeb96ecd",
      "metadata": {
        "id": "eeb96ecd"
      },
      "source": [
        "<b>*Written answer:*</b>"
      ]
    },
    {
      "cell_type": "markdown",
      "id": "a95b6406",
      "metadata": {
        "id": "a95b6406",
        "outputId": "32bba95c-8f82-4d6f-918f-56b6056eb1f5"
      },
      "source": [
        "## Question 2: Regularized model (35 points)\n",
        "\n",
        "In this question we will build a reqularized regression model and observe the effect of regularization. **Evaporation** will be used as target variable.\n",
        "\n",
        "### Q 2.1 (X / 2 pts)\n",
        "Reload the original dataset again.\n",
        "Use the `Date` variable to extract `Month` numerical variable. \n",
        "Repeat the preprocessing in Q 1.2 but do NOT dummy code month and keep it as one numerical column. \n"
      ]
    },
    {
      "cell_type": "code",
      "execution_count": null,
      "id": "ee910407",
      "metadata": {
        "id": "ee910407"
      },
      "outputs": [],
      "source": [
        "data = pd.read_csv('ExamData.csv')\n",
        "data['Date'] = pd.to_datetime(data['Date'], format='%Y-%m-%d')\n",
        "data['Month'] = pd.DatetimeIndex(data['Date']).month\n",
        "data= pd.getdummies(data, drop_first=False, columns=['Month'])\n"
      ]
    },
    {
      "cell_type": "markdown",
      "id": "dbe46b4c",
      "metadata": {
        "id": "dbe46b4c"
      },
      "source": [
        "### Q 2.2 (X / 10 pts)\n",
        "Fourier Transform is a reasonable option to encode periodic data. \n",
        "\n",
        "Write a function `FourierExpansion(x,order)`, which takes a variable `x` scaled between 0 and 1 (scale by dividing to the maximum value), and returns a design matrix that has order times 2 columns. The first 2 columns should be set to: \n",
        "\n",
        "$sin(2 \\pi x)$\n",
        "\n",
        "$cos(2 \\pi x)$\n",
        "\n",
        "The next two columns: \n",
        "\n",
        "$sin(4 \\pi x)$\n",
        "\n",
        "$cos(4 \\pi x)$\n",
        "\n",
        "$...$\n",
        "\n",
        "and the last two columns: \n",
        "\n",
        "$sin(2 order \\pi x)$\n",
        "\n",
        "$cos(2 order \\pi x)$\n"
      ]
    },
    {
      "cell_type": "code",
      "execution_count": 77,
      "id": "619c969a",
      "metadata": {
        "id": "619c969a"
      },
      "outputs": [],
      "source": [
        "def FourierExpansion(x,order):\n",
        "   multiplier = x*2*np.pi\n",
        "   s = []\n",
        "   for i in range(order):\n",
        "        t = [np.sin((i+1)*multiplier), np.cos((i+1)*multiplier)]\n",
        "        s.append(t[0])\n",
        "        s.append(t[1])\n",
        "   return np.array(s).T\n"
      ]
    },
    {
      "cell_type": "markdown",
      "id": "c4c46208",
      "metadata": {
        "id": "c4c46208",
        "outputId": "9c8b6e9e-7d31-4770-fd9f-71df7f4c5fa4"
      },
      "source": [
        "### Q 2.3 (X / 12 pts)\n",
        "Now generate two different design matrices (models) to model the variation of `Evaporation` across the `Month` of the year. \n",
        "* Model 1: use your function from Question 2.2 to generate a Fourier set (order 6) for month. Make sure you scale month between 0 and 1 before submitting to the function. Remove column 2 after fourier expansion.[3 pts]\n",
        "* Model 2: use `pd.get_dummies` to generate a dummy or one-hot encoding of Month. Because we will use this for an unregualized model, make sure you drop the first column.[3 pts]  \n",
        "\n",
        "Fit the two unregularized linear model to the data and report the the $R^2$ value for \n",
        "both models[4 pts]. If you have done everything correctly, the $R^2$ values should be identical. Why is this? [2 pts] *Hint*: How many columns are in each design matrix and how many Month in the year are there?  \n"
      ]
    },
    {
      "cell_type": "code",
      "execution_count": null,
      "id": "51f36e9b",
      "metadata": {
        "id": "51f36e9b"
      },
      "outputs": [],
      "source": [
        "model_1=FourierExpansion(data.Month/12,6)\n",
        "model_2=pd.getdummies(data, drop_first=True, columns=['Month'])\n",
        "\n",
        "model_1.fit()\n",
        "\n"
      ]
    },
    {
      "cell_type": "markdown",
      "id": "294f2e55",
      "metadata": {
        "id": "294f2e55"
      },
      "source": [
        "<b>*Written answer:*</b>"
      ]
    },
    {
      "cell_type": "markdown",
      "id": "5081a5c7",
      "metadata": {
        "id": "5081a5c7"
      },
      "source": [
        "### Q 2.4 (X / 11 pts)\n",
        "a) Modify your dummy encoding model (Model 2 from Q2.3), by **NOT dropping** the first column. This design matrix should have 12 regressors now. [1 pts]\n",
        "\n",
        "b) Build a pipeline, which first applies z-Standardization to each column of the design matrix and then fit an L2-regularlized linear model.[2 pts] \n",
        "\n",
        "c) Do a grid search, varying the regularization parameter between $exp(-5)$ and $exp(4)$ in 10 steps for the fourier-encoded model, (Model 1 from Q2.3). Evaluate each setting of $\\lambda$ using the mean-squared-error with 10-fold cross-validation. Plot the average validation error (y-axis) against $log(\\lambda)$ (x-axis). (*Hint: If you did not succeed in generating a fourier feature set, use `polynomialFeatures` to make a polynomial feature set for month of order 11.*) [3 pts]\n",
        "\n",
        "d) Repeat (c), this time using the dummy-coded feature set (modified Model 2 from Q2.3, in part a of this question). Plot the average validation error with a different color in the same plot as part (c), so you can compare the models. [2 pts]\n",
        "\n",
        "e) Report the $\\lambda$ value for each model that gives the best validation error. [2 pts]\n",
        "\n",
        "**Written answer:** Why don't the two models behave the same way, as they did in Q2.3? [1 pts]"
      ]
    },
    {
      "cell_type": "code",
      "execution_count": null,
      "id": "55df51a9",
      "metadata": {
        "id": "55df51a9"
      },
      "outputs": [],
      "source": [
        "model_2=pd.getdummies(data, drop_first=False, columns=['Month'])\n",
        "\n",
        "pipeline = Pipeline([\n",
        "    (\"standardize\", StandardScaler()),\n",
        "    ('reg', sk.linear_model.LinearRegression() )\n",
        "])\n",
        "\n",
        "params = {'reg__alpha': np.exp(np.linspace(-8,6,15))}\n",
        "gscv = GridSearchCV(pip, param_grid=params, cv=10, scoring = 'neg_mean_squared_error', refit=True)\n",
        "gscv.fit(X_new_train, ytrain)\n",
        "\n",
        "results = pd.DataFrame(gscv.cv_results_)\n",
        "\n",
        "plt.scatter( np.linspace(-8, 6,15), -results.mean_test_score)\n",
        "plt.xlabel(r'$\\log(\\lambda)$')\n"
      ]
    },
    {
      "cell_type": "code",
      "execution_count": null,
      "id": "6ca40919",
      "metadata": {
        "id": "6ca40919"
      },
      "outputs": [],
      "source": []
    },
    {
      "cell_type": "markdown",
      "id": "1387b4f9",
      "metadata": {
        "id": "1387b4f9"
      },
      "source": [
        "<b>*Written answer:*</b>"
      ]
    },
    {
      "cell_type": "markdown",
      "id": "c254b08d",
      "metadata": {
        "id": "c254b08d"
      },
      "source": [
        "## Question 3: Logistic regression classifier - predict if it rains tomorrow (35 points)\n",
        "\n",
        "### Q 3.1 (X / 2 pts)\n",
        "Reload the original dataset again. \n",
        "* Use the `Date` variable to extract `Month` numerical variable (similar to Q 1.2).\n",
        "\n",
        "* Dummmy code \"Month\" and drop the variable \"Date\". \n",
        "\n",
        "* Dummy code all catecorical variables (Except \"RainTomorrow\"). **Drop the first column for each variable.**\n",
        "\n"
      ]
    },
    {
      "cell_type": "code",
      "execution_count": 103,
      "id": "5ca4af1c",
      "metadata": {
        "id": "5ca4af1c"
      },
      "outputs": [],
      "source": [
        "data = pd.read_csv(\"ExamData.csv\")\n",
        "data['Date'] = pd.to_datetime(data['Date'], format='%Y-%m-%d')\n",
        "data['Month'] = pd.DatetimeIndex(data['Date']).month\n",
        "data.drop(['Date'],axis=1)\n",
        "data= pd.get_dummies(data, drop_first=False, columns=['Month'])\n",
        "data=pd.get_dummies(data,drop_first=True,columns=['WindDir','RainToday'])\n"
      ]
    },
    {
      "cell_type": "markdown",
      "source": [],
      "metadata": {
        "id": "yTuyHY1Teyaf"
      },
      "id": "yTuyHY1Teyaf"
    },
    {
      "cell_type": "markdown",
      "id": "10c05c2c",
      "metadata": {
        "id": "10c05c2c"
      },
      "source": [
        "### Q 3.2 Declare feature vector and target variable (X / 4 pts)\n",
        "\n",
        "* Use \"RainTomorrow\" as target variable with \"Yes\" and \"No\" labels. How many observations we have for each category?(*Hint:* sum the number of 1's per boolean variable over the rows of the dataset).\n",
        "\n",
        "907 "
      ]
    },
    {
      "cell_type": "code",
      "execution_count": 111,
      "id": "7c0973fa",
      "metadata": {
        "colab": {
          "base_uri": "https://localhost:8080/"
        },
        "id": "7c0973fa",
        "outputId": "3eddacef-c418-4929-804c-2d162d07d8cc"
      },
      "outputs": [
        {
          "output_type": "stream",
          "name": "stdout",
          "text": [
            "There are 332\n"
          ]
        }
      ],
      "source": [
        "data[\"major\"] = data['RainTomorrow'].eq('Yes').mul(1)\n",
        "\n",
        "rainfall_major=sum([1 for x in data['major'].values if x])\n",
        "\n",
        "print(f\"There are {rainfall_major}\")\n"
      ]
    },
    {
      "cell_type": "markdown",
      "id": "d94c73c4",
      "metadata": {
        "id": "d94c73c4"
      },
      "source": [
        "### Q 3.3: Classification (X / 15 pts) \n",
        "\n",
        "Your objective is to train a logistic regression. For this:\n",
        "\n",
        "a. Create a train / test split of the dataset reserving 30% for the test set. Use `random_state = 1` if using `train_test_split`. [1 pts]\n",
        "\n",
        "b. Create a pipeline that first normalizes your training data and then trains a logistic regression **using Ridge penalty with a tolerance of 0.0001 and sufficient iterations for the model to converge. Use a C of 1 (Ridge parameter)**. [5pts]\n",
        "\n",
        "c. Fit the model to the training data. Show the coefficients and what variable they are related to. [5pts]. \n",
        "\n",
        "**Written answer:** Based on these coefficients, which variable has the largest influence on the prediction[1pts]? In the context of this model, does MinTemp lead to lower or higher chance of raining tomorrow [1pts]? How important is the influence of the day before (RainToday) on the target (RainTomorrow)[1pts]? What is the influence of the wind direction (WindDir) on the prediction[1pts]?"
      ]
    },
    {
      "cell_type": "code",
      "execution_count": 114,
      "id": "acb60055",
      "metadata": {
        "colab": {
          "base_uri": "https://localhost:8080/",
          "height": 380
        },
        "id": "acb60055",
        "outputId": "8101b809-4486-4975-c261-9f7419b39941"
      },
      "outputs": [
        {
          "output_type": "error",
          "ename": "TypeError",
          "evalue": "ignored",
          "traceback": [
            "\u001b[0;31m---------------------------------------------------------------------------\u001b[0m",
            "\u001b[0;31mTypeError\u001b[0m                                 Traceback (most recent call last)",
            "\u001b[0;32m<ipython-input-114-a4424ab1200f>\u001b[0m in \u001b[0;36m<module>\u001b[0;34m\u001b[0m\n\u001b[1;32m      8\u001b[0m ])\n\u001b[1;32m      9\u001b[0m \u001b[0;34m\u001b[0m\u001b[0m\n\u001b[0;32m---> 10\u001b[0;31m \u001b[0mpipeline\u001b[0m\u001b[0;34m.\u001b[0m\u001b[0mfit\u001b[0m\u001b[0;34m(\u001b[0m\u001b[0mX_train\u001b[0m\u001b[0;34m,\u001b[0m \u001b[0my_train\u001b[0m\u001b[0;34m)\u001b[0m\u001b[0;34m\u001b[0m\u001b[0;34m\u001b[0m\u001b[0m\n\u001b[0m\u001b[1;32m     11\u001b[0m \u001b[0;34m\u001b[0m\u001b[0m\n\u001b[1;32m     12\u001b[0m \u001b[0mcoefs\u001b[0m \u001b[0;34m=\u001b[0m \u001b[0mpipeline\u001b[0m\u001b[0;34m.\u001b[0m\u001b[0mnamed_steps\u001b[0m\u001b[0;34m[\u001b[0m\u001b[0;34m'logistic_regression'\u001b[0m\u001b[0;34m]\u001b[0m\u001b[0;34m.\u001b[0m\u001b[0mcoef_\u001b[0m\u001b[0;34m\u001b[0m\u001b[0;34m\u001b[0m\u001b[0m\n",
            "\u001b[0;32m/usr/local/lib/python3.7/dist-packages/sklearn/pipeline.py\u001b[0m in \u001b[0;36mfit\u001b[0;34m(self, X, y, **fit_params)\u001b[0m\n\u001b[1;32m    388\u001b[0m         \"\"\"\n\u001b[1;32m    389\u001b[0m         \u001b[0mfit_params_steps\u001b[0m \u001b[0;34m=\u001b[0m \u001b[0mself\u001b[0m\u001b[0;34m.\u001b[0m\u001b[0m_check_fit_params\u001b[0m\u001b[0;34m(\u001b[0m\u001b[0;34m**\u001b[0m\u001b[0mfit_params\u001b[0m\u001b[0;34m)\u001b[0m\u001b[0;34m\u001b[0m\u001b[0;34m\u001b[0m\u001b[0m\n\u001b[0;32m--> 390\u001b[0;31m         \u001b[0mXt\u001b[0m \u001b[0;34m=\u001b[0m \u001b[0mself\u001b[0m\u001b[0;34m.\u001b[0m\u001b[0m_fit\u001b[0m\u001b[0;34m(\u001b[0m\u001b[0mX\u001b[0m\u001b[0;34m,\u001b[0m \u001b[0my\u001b[0m\u001b[0;34m,\u001b[0m \u001b[0;34m**\u001b[0m\u001b[0mfit_params_steps\u001b[0m\u001b[0;34m)\u001b[0m\u001b[0;34m\u001b[0m\u001b[0;34m\u001b[0m\u001b[0m\n\u001b[0m\u001b[1;32m    391\u001b[0m         \u001b[0;32mwith\u001b[0m \u001b[0m_print_elapsed_time\u001b[0m\u001b[0;34m(\u001b[0m\u001b[0;34m\"Pipeline\"\u001b[0m\u001b[0;34m,\u001b[0m \u001b[0mself\u001b[0m\u001b[0;34m.\u001b[0m\u001b[0m_log_message\u001b[0m\u001b[0;34m(\u001b[0m\u001b[0mlen\u001b[0m\u001b[0;34m(\u001b[0m\u001b[0mself\u001b[0m\u001b[0;34m.\u001b[0m\u001b[0msteps\u001b[0m\u001b[0;34m)\u001b[0m \u001b[0;34m-\u001b[0m \u001b[0;36m1\u001b[0m\u001b[0;34m)\u001b[0m\u001b[0;34m)\u001b[0m\u001b[0;34m:\u001b[0m\u001b[0;34m\u001b[0m\u001b[0;34m\u001b[0m\u001b[0m\n\u001b[1;32m    392\u001b[0m             \u001b[0;32mif\u001b[0m \u001b[0mself\u001b[0m\u001b[0;34m.\u001b[0m\u001b[0m_final_estimator\u001b[0m \u001b[0;34m!=\u001b[0m \u001b[0;34m\"passthrough\"\u001b[0m\u001b[0;34m:\u001b[0m\u001b[0;34m\u001b[0m\u001b[0;34m\u001b[0m\u001b[0m\n",
            "\u001b[0;32m/usr/local/lib/python3.7/dist-packages/sklearn/pipeline.py\u001b[0m in \u001b[0;36m_fit\u001b[0;34m(self, X, y, **fit_params_steps)\u001b[0m\n\u001b[1;32m    353\u001b[0m                 \u001b[0mmessage_clsname\u001b[0m\u001b[0;34m=\u001b[0m\u001b[0;34m\"Pipeline\"\u001b[0m\u001b[0;34m,\u001b[0m\u001b[0;34m\u001b[0m\u001b[0;34m\u001b[0m\u001b[0m\n\u001b[1;32m    354\u001b[0m                 \u001b[0mmessage\u001b[0m\u001b[0;34m=\u001b[0m\u001b[0mself\u001b[0m\u001b[0;34m.\u001b[0m\u001b[0m_log_message\u001b[0m\u001b[0;34m(\u001b[0m\u001b[0mstep_idx\u001b[0m\u001b[0;34m)\u001b[0m\u001b[0;34m,\u001b[0m\u001b[0;34m\u001b[0m\u001b[0;34m\u001b[0m\u001b[0m\n\u001b[0;32m--> 355\u001b[0;31m                 \u001b[0;34m**\u001b[0m\u001b[0mfit_params_steps\u001b[0m\u001b[0;34m[\u001b[0m\u001b[0mname\u001b[0m\u001b[0;34m]\u001b[0m\u001b[0;34m,\u001b[0m\u001b[0;34m\u001b[0m\u001b[0;34m\u001b[0m\u001b[0m\n\u001b[0m\u001b[1;32m    356\u001b[0m             )\n\u001b[1;32m    357\u001b[0m             \u001b[0;31m# Replace the transformer of the step with the fitted\u001b[0m\u001b[0;34m\u001b[0m\u001b[0;34m\u001b[0m\u001b[0;34m\u001b[0m\u001b[0m\n",
            "\u001b[0;32m/usr/local/lib/python3.7/dist-packages/joblib/memory.py\u001b[0m in \u001b[0;36m__call__\u001b[0;34m(self, *args, **kwargs)\u001b[0m\n\u001b[1;32m    347\u001b[0m \u001b[0;34m\u001b[0m\u001b[0m\n\u001b[1;32m    348\u001b[0m     \u001b[0;32mdef\u001b[0m \u001b[0m__call__\u001b[0m\u001b[0;34m(\u001b[0m\u001b[0mself\u001b[0m\u001b[0;34m,\u001b[0m \u001b[0;34m*\u001b[0m\u001b[0margs\u001b[0m\u001b[0;34m,\u001b[0m \u001b[0;34m**\u001b[0m\u001b[0mkwargs\u001b[0m\u001b[0;34m)\u001b[0m\u001b[0;34m:\u001b[0m\u001b[0;34m\u001b[0m\u001b[0;34m\u001b[0m\u001b[0m\n\u001b[0;32m--> 349\u001b[0;31m         \u001b[0;32mreturn\u001b[0m \u001b[0mself\u001b[0m\u001b[0;34m.\u001b[0m\u001b[0mfunc\u001b[0m\u001b[0;34m(\u001b[0m\u001b[0;34m*\u001b[0m\u001b[0margs\u001b[0m\u001b[0;34m,\u001b[0m \u001b[0;34m**\u001b[0m\u001b[0mkwargs\u001b[0m\u001b[0;34m)\u001b[0m\u001b[0;34m\u001b[0m\u001b[0;34m\u001b[0m\u001b[0m\n\u001b[0m\u001b[1;32m    350\u001b[0m \u001b[0;34m\u001b[0m\u001b[0m\n\u001b[1;32m    351\u001b[0m     \u001b[0;32mdef\u001b[0m \u001b[0mcall_and_shelve\u001b[0m\u001b[0;34m(\u001b[0m\u001b[0mself\u001b[0m\u001b[0;34m,\u001b[0m \u001b[0;34m*\u001b[0m\u001b[0margs\u001b[0m\u001b[0;34m,\u001b[0m \u001b[0;34m**\u001b[0m\u001b[0mkwargs\u001b[0m\u001b[0;34m)\u001b[0m\u001b[0;34m:\u001b[0m\u001b[0;34m\u001b[0m\u001b[0;34m\u001b[0m\u001b[0m\n",
            "\u001b[0;32m/usr/local/lib/python3.7/dist-packages/sklearn/pipeline.py\u001b[0m in \u001b[0;36m_fit_transform_one\u001b[0;34m(transformer, X, y, weight, message_clsname, message, **fit_params)\u001b[0m\n\u001b[1;32m    891\u001b[0m     \u001b[0;32mwith\u001b[0m \u001b[0m_print_elapsed_time\u001b[0m\u001b[0;34m(\u001b[0m\u001b[0mmessage_clsname\u001b[0m\u001b[0;34m,\u001b[0m \u001b[0mmessage\u001b[0m\u001b[0;34m)\u001b[0m\u001b[0;34m:\u001b[0m\u001b[0;34m\u001b[0m\u001b[0;34m\u001b[0m\u001b[0m\n\u001b[1;32m    892\u001b[0m         \u001b[0;32mif\u001b[0m \u001b[0mhasattr\u001b[0m\u001b[0;34m(\u001b[0m\u001b[0mtransformer\u001b[0m\u001b[0;34m,\u001b[0m \u001b[0;34m\"fit_transform\"\u001b[0m\u001b[0;34m)\u001b[0m\u001b[0;34m:\u001b[0m\u001b[0;34m\u001b[0m\u001b[0;34m\u001b[0m\u001b[0m\n\u001b[0;32m--> 893\u001b[0;31m             \u001b[0mres\u001b[0m \u001b[0;34m=\u001b[0m \u001b[0mtransformer\u001b[0m\u001b[0;34m.\u001b[0m\u001b[0mfit_transform\u001b[0m\u001b[0;34m(\u001b[0m\u001b[0mX\u001b[0m\u001b[0;34m,\u001b[0m \u001b[0my\u001b[0m\u001b[0;34m,\u001b[0m \u001b[0;34m**\u001b[0m\u001b[0mfit_params\u001b[0m\u001b[0;34m)\u001b[0m\u001b[0;34m\u001b[0m\u001b[0;34m\u001b[0m\u001b[0m\n\u001b[0m\u001b[1;32m    894\u001b[0m         \u001b[0;32melse\u001b[0m\u001b[0;34m:\u001b[0m\u001b[0;34m\u001b[0m\u001b[0;34m\u001b[0m\u001b[0m\n\u001b[1;32m    895\u001b[0m             \u001b[0mres\u001b[0m \u001b[0;34m=\u001b[0m \u001b[0mtransformer\u001b[0m\u001b[0;34m.\u001b[0m\u001b[0mfit\u001b[0m\u001b[0;34m(\u001b[0m\u001b[0mX\u001b[0m\u001b[0;34m,\u001b[0m \u001b[0my\u001b[0m\u001b[0;34m,\u001b[0m \u001b[0;34m**\u001b[0m\u001b[0mfit_params\u001b[0m\u001b[0;34m)\u001b[0m\u001b[0;34m.\u001b[0m\u001b[0mtransform\u001b[0m\u001b[0;34m(\u001b[0m\u001b[0mX\u001b[0m\u001b[0;34m)\u001b[0m\u001b[0;34m\u001b[0m\u001b[0;34m\u001b[0m\u001b[0m\n",
            "\u001b[0;32m/usr/local/lib/python3.7/dist-packages/sklearn/base.py\u001b[0m in \u001b[0;36mfit_transform\u001b[0;34m(self, X, y, **fit_params)\u001b[0m\n\u001b[1;32m    853\u001b[0m         \u001b[0;32melse\u001b[0m\u001b[0;34m:\u001b[0m\u001b[0;34m\u001b[0m\u001b[0;34m\u001b[0m\u001b[0m\n\u001b[1;32m    854\u001b[0m             \u001b[0;31m# fit method of arity 2 (supervised transformation)\u001b[0m\u001b[0;34m\u001b[0m\u001b[0;34m\u001b[0m\u001b[0;34m\u001b[0m\u001b[0m\n\u001b[0;32m--> 855\u001b[0;31m             \u001b[0;32mreturn\u001b[0m \u001b[0mself\u001b[0m\u001b[0;34m.\u001b[0m\u001b[0mfit\u001b[0m\u001b[0;34m(\u001b[0m\u001b[0mX\u001b[0m\u001b[0;34m,\u001b[0m \u001b[0my\u001b[0m\u001b[0;34m,\u001b[0m \u001b[0;34m**\u001b[0m\u001b[0mfit_params\u001b[0m\u001b[0;34m)\u001b[0m\u001b[0;34m.\u001b[0m\u001b[0mtransform\u001b[0m\u001b[0;34m(\u001b[0m\u001b[0mX\u001b[0m\u001b[0;34m)\u001b[0m\u001b[0;34m\u001b[0m\u001b[0;34m\u001b[0m\u001b[0m\n\u001b[0m\u001b[1;32m    856\u001b[0m \u001b[0;34m\u001b[0m\u001b[0m\n\u001b[1;32m    857\u001b[0m \u001b[0;34m\u001b[0m\u001b[0m\n",
            "\u001b[0;32m/usr/local/lib/python3.7/dist-packages/sklearn/preprocessing/_data.py\u001b[0m in \u001b[0;36mfit\u001b[0;34m(self, X, y, sample_weight)\u001b[0m\n\u001b[1;32m    804\u001b[0m         \u001b[0;31m# Reset internal state before fitting\u001b[0m\u001b[0;34m\u001b[0m\u001b[0;34m\u001b[0m\u001b[0;34m\u001b[0m\u001b[0m\n\u001b[1;32m    805\u001b[0m         \u001b[0mself\u001b[0m\u001b[0;34m.\u001b[0m\u001b[0m_reset\u001b[0m\u001b[0;34m(\u001b[0m\u001b[0;34m)\u001b[0m\u001b[0;34m\u001b[0m\u001b[0;34m\u001b[0m\u001b[0m\n\u001b[0;32m--> 806\u001b[0;31m         \u001b[0;32mreturn\u001b[0m \u001b[0mself\u001b[0m\u001b[0;34m.\u001b[0m\u001b[0mpartial_fit\u001b[0m\u001b[0;34m(\u001b[0m\u001b[0mX\u001b[0m\u001b[0;34m,\u001b[0m \u001b[0my\u001b[0m\u001b[0;34m,\u001b[0m \u001b[0msample_weight\u001b[0m\u001b[0;34m)\u001b[0m\u001b[0;34m\u001b[0m\u001b[0;34m\u001b[0m\u001b[0m\n\u001b[0m\u001b[1;32m    807\u001b[0m \u001b[0;34m\u001b[0m\u001b[0m\n\u001b[1;32m    808\u001b[0m     \u001b[0;32mdef\u001b[0m \u001b[0mpartial_fit\u001b[0m\u001b[0;34m(\u001b[0m\u001b[0mself\u001b[0m\u001b[0;34m,\u001b[0m \u001b[0mX\u001b[0m\u001b[0;34m,\u001b[0m \u001b[0my\u001b[0m\u001b[0;34m=\u001b[0m\u001b[0;32mNone\u001b[0m\u001b[0;34m,\u001b[0m \u001b[0msample_weight\u001b[0m\u001b[0;34m=\u001b[0m\u001b[0;32mNone\u001b[0m\u001b[0;34m)\u001b[0m\u001b[0;34m:\u001b[0m\u001b[0;34m\u001b[0m\u001b[0;34m\u001b[0m\u001b[0m\n",
            "\u001b[0;32m/usr/local/lib/python3.7/dist-packages/sklearn/preprocessing/_data.py\u001b[0m in \u001b[0;36mpartial_fit\u001b[0;34m(self, X, y, sample_weight)\u001b[0m\n\u001b[1;32m    845\u001b[0m             \u001b[0mdtype\u001b[0m\u001b[0;34m=\u001b[0m\u001b[0mFLOAT_DTYPES\u001b[0m\u001b[0;34m,\u001b[0m\u001b[0;34m\u001b[0m\u001b[0;34m\u001b[0m\u001b[0m\n\u001b[1;32m    846\u001b[0m             \u001b[0mforce_all_finite\u001b[0m\u001b[0;34m=\u001b[0m\u001b[0;34m\"allow-nan\"\u001b[0m\u001b[0;34m,\u001b[0m\u001b[0;34m\u001b[0m\u001b[0;34m\u001b[0m\u001b[0m\n\u001b[0;32m--> 847\u001b[0;31m             \u001b[0mreset\u001b[0m\u001b[0;34m=\u001b[0m\u001b[0mfirst_call\u001b[0m\u001b[0;34m,\u001b[0m\u001b[0;34m\u001b[0m\u001b[0;34m\u001b[0m\u001b[0m\n\u001b[0m\u001b[1;32m    848\u001b[0m         )\n\u001b[1;32m    849\u001b[0m         \u001b[0mn_features\u001b[0m \u001b[0;34m=\u001b[0m \u001b[0mX\u001b[0m\u001b[0;34m.\u001b[0m\u001b[0mshape\u001b[0m\u001b[0;34m[\u001b[0m\u001b[0;36m1\u001b[0m\u001b[0;34m]\u001b[0m\u001b[0;34m\u001b[0m\u001b[0;34m\u001b[0m\u001b[0m\n",
            "\u001b[0;32m/usr/local/lib/python3.7/dist-packages/sklearn/base.py\u001b[0m in \u001b[0;36m_validate_data\u001b[0;34m(self, X, y, reset, validate_separately, **check_params)\u001b[0m\n\u001b[1;32m    564\u001b[0m             \u001b[0;32mraise\u001b[0m \u001b[0mValueError\u001b[0m\u001b[0;34m(\u001b[0m\u001b[0;34m\"Validation should be done on X, y or both.\"\u001b[0m\u001b[0;34m)\u001b[0m\u001b[0;34m\u001b[0m\u001b[0;34m\u001b[0m\u001b[0m\n\u001b[1;32m    565\u001b[0m         \u001b[0;32melif\u001b[0m \u001b[0;32mnot\u001b[0m \u001b[0mno_val_X\u001b[0m \u001b[0;32mand\u001b[0m \u001b[0mno_val_y\u001b[0m\u001b[0;34m:\u001b[0m\u001b[0;34m\u001b[0m\u001b[0;34m\u001b[0m\u001b[0m\n\u001b[0;32m--> 566\u001b[0;31m             \u001b[0mX\u001b[0m \u001b[0;34m=\u001b[0m \u001b[0mcheck_array\u001b[0m\u001b[0;34m(\u001b[0m\u001b[0mX\u001b[0m\u001b[0;34m,\u001b[0m \u001b[0;34m**\u001b[0m\u001b[0mcheck_params\u001b[0m\u001b[0;34m)\u001b[0m\u001b[0;34m\u001b[0m\u001b[0;34m\u001b[0m\u001b[0m\n\u001b[0m\u001b[1;32m    567\u001b[0m             \u001b[0mout\u001b[0m \u001b[0;34m=\u001b[0m \u001b[0mX\u001b[0m\u001b[0;34m\u001b[0m\u001b[0;34m\u001b[0m\u001b[0m\n\u001b[1;32m    568\u001b[0m         \u001b[0;32melif\u001b[0m \u001b[0mno_val_X\u001b[0m \u001b[0;32mand\u001b[0m \u001b[0;32mnot\u001b[0m \u001b[0mno_val_y\u001b[0m\u001b[0;34m:\u001b[0m\u001b[0;34m\u001b[0m\u001b[0;34m\u001b[0m\u001b[0m\n",
            "\u001b[0;32m/usr/local/lib/python3.7/dist-packages/sklearn/utils/validation.py\u001b[0m in \u001b[0;36mcheck_array\u001b[0;34m(array, accept_sparse, accept_large_sparse, dtype, order, copy, force_all_finite, ensure_2d, allow_nd, ensure_min_samples, ensure_min_features, estimator)\u001b[0m\n\u001b[1;32m    744\u001b[0m                     \u001b[0marray\u001b[0m \u001b[0;34m=\u001b[0m \u001b[0marray\u001b[0m\u001b[0;34m.\u001b[0m\u001b[0mastype\u001b[0m\u001b[0;34m(\u001b[0m\u001b[0mdtype\u001b[0m\u001b[0;34m,\u001b[0m \u001b[0mcasting\u001b[0m\u001b[0;34m=\u001b[0m\u001b[0;34m\"unsafe\"\u001b[0m\u001b[0;34m,\u001b[0m \u001b[0mcopy\u001b[0m\u001b[0;34m=\u001b[0m\u001b[0;32mFalse\u001b[0m\u001b[0;34m)\u001b[0m\u001b[0;34m\u001b[0m\u001b[0;34m\u001b[0m\u001b[0m\n\u001b[1;32m    745\u001b[0m                 \u001b[0;32melse\u001b[0m\u001b[0;34m:\u001b[0m\u001b[0;34m\u001b[0m\u001b[0;34m\u001b[0m\u001b[0m\n\u001b[0;32m--> 746\u001b[0;31m                     \u001b[0marray\u001b[0m \u001b[0;34m=\u001b[0m \u001b[0mnp\u001b[0m\u001b[0;34m.\u001b[0m\u001b[0masarray\u001b[0m\u001b[0;34m(\u001b[0m\u001b[0marray\u001b[0m\u001b[0;34m,\u001b[0m \u001b[0morder\u001b[0m\u001b[0;34m=\u001b[0m\u001b[0morder\u001b[0m\u001b[0;34m,\u001b[0m \u001b[0mdtype\u001b[0m\u001b[0;34m=\u001b[0m\u001b[0mdtype\u001b[0m\u001b[0;34m)\u001b[0m\u001b[0;34m\u001b[0m\u001b[0;34m\u001b[0m\u001b[0m\n\u001b[0m\u001b[1;32m    747\u001b[0m             \u001b[0;32mexcept\u001b[0m \u001b[0mComplexWarning\u001b[0m \u001b[0;32mas\u001b[0m \u001b[0mcomplex_warning\u001b[0m\u001b[0;34m:\u001b[0m\u001b[0;34m\u001b[0m\u001b[0;34m\u001b[0m\u001b[0m\n\u001b[1;32m    748\u001b[0m                 raise ValueError(\n",
            "\u001b[0;32m/usr/local/lib/python3.7/dist-packages/pandas/core/generic.py\u001b[0m in \u001b[0;36m__array__\u001b[0;34m(self, dtype)\u001b[0m\n\u001b[1;32m   1991\u001b[0m \u001b[0;34m\u001b[0m\u001b[0m\n\u001b[1;32m   1992\u001b[0m     \u001b[0;32mdef\u001b[0m \u001b[0m__array__\u001b[0m\u001b[0;34m(\u001b[0m\u001b[0mself\u001b[0m\u001b[0;34m,\u001b[0m \u001b[0mdtype\u001b[0m\u001b[0;34m:\u001b[0m \u001b[0mNpDtype\u001b[0m \u001b[0;34m|\u001b[0m \u001b[0;32mNone\u001b[0m \u001b[0;34m=\u001b[0m \u001b[0;32mNone\u001b[0m\u001b[0;34m)\u001b[0m \u001b[0;34m->\u001b[0m \u001b[0mnp\u001b[0m\u001b[0;34m.\u001b[0m\u001b[0mndarray\u001b[0m\u001b[0;34m:\u001b[0m\u001b[0;34m\u001b[0m\u001b[0;34m\u001b[0m\u001b[0m\n\u001b[0;32m-> 1993\u001b[0;31m         \u001b[0;32mreturn\u001b[0m \u001b[0mnp\u001b[0m\u001b[0;34m.\u001b[0m\u001b[0masarray\u001b[0m\u001b[0;34m(\u001b[0m\u001b[0mself\u001b[0m\u001b[0;34m.\u001b[0m\u001b[0m_values\u001b[0m\u001b[0;34m,\u001b[0m \u001b[0mdtype\u001b[0m\u001b[0;34m=\u001b[0m\u001b[0mdtype\u001b[0m\u001b[0;34m)\u001b[0m\u001b[0;34m\u001b[0m\u001b[0;34m\u001b[0m\u001b[0m\n\u001b[0m\u001b[1;32m   1994\u001b[0m \u001b[0;34m\u001b[0m\u001b[0m\n\u001b[1;32m   1995\u001b[0m     def __array_wrap__(\n",
            "\u001b[0;31mTypeError\u001b[0m: float() argument must be a string or a number, not 'Timestamp'"
          ]
        }
      ],
      "source": [
        "X = data.drop([\"major\"], axis=1)\n",
        "y = data.major.astype(int)\n",
        "X_train, X_test, y_train, y_test = train_test_split(X,y,test_size=0.30, random_state=1)\n",
        "\n",
        "pipeline = Pipeline([\n",
        "    (\"standardize\", StandardScaler()),\n",
        "    (\"logistic_regression\", LogisticRegression( C=1, tol=0.0001))\n",
        "])\n",
        "\n",
        "#same issue with the float/timestamp conversion\n",
        "pipeline.fit(X_train, y_train)\n",
        "\n",
        "coefs = pipeline.named_steps['logistic_regression'].coef_    \n",
        "ind = list(X)\n",
        "print(\"Covariate:\", \"Coef\")\n",
        "for i in range(len(ind)):\n",
        "    print(ind[i],\":\", coefs[0][i])\n"
      ]
    },
    {
      "cell_type": "code",
      "execution_count": null,
      "id": "2210621e",
      "metadata": {
        "id": "2210621e"
      },
      "outputs": [],
      "source": []
    },
    {
      "cell_type": "markdown",
      "id": "857c3e33",
      "metadata": {
        "id": "857c3e33"
      },
      "source": [
        "<b>*Written answer:*</b>"
      ]
    },
    {
      "cell_type": "markdown",
      "id": "5d6fcaa3",
      "metadata": {
        "id": "5d6fcaa3"
      },
      "source": [
        "### Q 3.4: Evaluate your model. (X / 14 pts)\n",
        "\n",
        "Now we will begin evaluating our model. Apply the model to the test set. \n",
        "\n",
        "a) Report the the first 10 **predicted labels** and the **probabilities** for the target variable RainTomorrow (\"Yes\" and \"NO\") in an array form [5 pts].\n",
        "\n",
        "b) Report the accuracy, precision and confusion matrix using the test data (leave the default cutoff of 0.5) [6 pts].\n",
        "\n",
        "c) Plot the ROC curve, and calculate the AUC. What does that value indicate about the performance of your classification model?[3 pts]\n"
      ]
    },
    {
      "cell_type": "code",
      "execution_count": 115,
      "id": "6067f3da",
      "metadata": {
        "id": "6067f3da",
        "colab": {
          "base_uri": "https://localhost:8080/",
          "height": 380
        },
        "outputId": "79f062f9-14a2-4512-960d-f7d58357d742"
      },
      "outputs": [
        {
          "output_type": "error",
          "ename": "TypeError",
          "evalue": "ignored",
          "traceback": [
            "\u001b[0;31m---------------------------------------------------------------------------\u001b[0m",
            "\u001b[0;31mTypeError\u001b[0m                                 Traceback (most recent call last)",
            "\u001b[0;32m<ipython-input-115-4faa0c2b1d40>\u001b[0m in \u001b[0;36m<module>\u001b[0;34m\u001b[0m\n\u001b[1;32m      1\u001b[0m \u001b[0;31m# Accuracy: 1 if match, 0 if not. Take sum and get the average of it\u001b[0m\u001b[0;34m\u001b[0m\u001b[0;34m\u001b[0m\u001b[0;34m\u001b[0m\u001b[0m\n\u001b[0;32m----> 2\u001b[0;31m \u001b[0mpred_y\u001b[0m \u001b[0;34m=\u001b[0m \u001b[0mpipeline\u001b[0m\u001b[0;34m.\u001b[0m\u001b[0mpredict\u001b[0m\u001b[0;34m(\u001b[0m\u001b[0mX_test\u001b[0m\u001b[0;34m)\u001b[0m\u001b[0;34m\u001b[0m\u001b[0;34m\u001b[0m\u001b[0m\n\u001b[0m\u001b[1;32m      3\u001b[0m \u001b[0;34m\u001b[0m\u001b[0m\n\u001b[1;32m      4\u001b[0m \u001b[0;31m# Add that function from the logistic regression lab:\u001b[0m\u001b[0;34m\u001b[0m\u001b[0;34m\u001b[0m\u001b[0;34m\u001b[0m\u001b[0m\n\u001b[1;32m      5\u001b[0m \u001b[0;32mdef\u001b[0m \u001b[0mcompute_performance\u001b[0m\u001b[0;34m(\u001b[0m\u001b[0myhat\u001b[0m\u001b[0;34m,\u001b[0m \u001b[0my\u001b[0m\u001b[0;34m,\u001b[0m \u001b[0mclasses\u001b[0m\u001b[0;34m)\u001b[0m\u001b[0;34m:\u001b[0m\u001b[0;34m\u001b[0m\u001b[0;34m\u001b[0m\u001b[0m\n",
            "\u001b[0;32m/usr/local/lib/python3.7/dist-packages/sklearn/utils/metaestimators.py\u001b[0m in \u001b[0;36m<lambda>\u001b[0;34m(*args, **kwargs)\u001b[0m\n\u001b[1;32m    111\u001b[0m \u001b[0;34m\u001b[0m\u001b[0m\n\u001b[1;32m    112\u001b[0m             \u001b[0;31m# lambda, but not partial, allows help() to work with update_wrapper\u001b[0m\u001b[0;34m\u001b[0m\u001b[0;34m\u001b[0m\u001b[0;34m\u001b[0m\u001b[0m\n\u001b[0;32m--> 113\u001b[0;31m             \u001b[0mout\u001b[0m \u001b[0;34m=\u001b[0m \u001b[0;32mlambda\u001b[0m \u001b[0;34m*\u001b[0m\u001b[0margs\u001b[0m\u001b[0;34m,\u001b[0m \u001b[0;34m**\u001b[0m\u001b[0mkwargs\u001b[0m\u001b[0;34m:\u001b[0m \u001b[0mself\u001b[0m\u001b[0;34m.\u001b[0m\u001b[0mfn\u001b[0m\u001b[0;34m(\u001b[0m\u001b[0mobj\u001b[0m\u001b[0;34m,\u001b[0m \u001b[0;34m*\u001b[0m\u001b[0margs\u001b[0m\u001b[0;34m,\u001b[0m \u001b[0;34m**\u001b[0m\u001b[0mkwargs\u001b[0m\u001b[0;34m)\u001b[0m  \u001b[0;31m# noqa\u001b[0m\u001b[0;34m\u001b[0m\u001b[0;34m\u001b[0m\u001b[0m\n\u001b[0m\u001b[1;32m    114\u001b[0m         \u001b[0;32melse\u001b[0m\u001b[0;34m:\u001b[0m\u001b[0;34m\u001b[0m\u001b[0;34m\u001b[0m\u001b[0m\n\u001b[1;32m    115\u001b[0m \u001b[0;34m\u001b[0m\u001b[0m\n",
            "\u001b[0;32m/usr/local/lib/python3.7/dist-packages/sklearn/pipeline.py\u001b[0m in \u001b[0;36mpredict\u001b[0;34m(self, X, **predict_params)\u001b[0m\n\u001b[1;32m    467\u001b[0m         \u001b[0mXt\u001b[0m \u001b[0;34m=\u001b[0m \u001b[0mX\u001b[0m\u001b[0;34m\u001b[0m\u001b[0;34m\u001b[0m\u001b[0m\n\u001b[1;32m    468\u001b[0m         \u001b[0;32mfor\u001b[0m \u001b[0m_\u001b[0m\u001b[0;34m,\u001b[0m \u001b[0mname\u001b[0m\u001b[0;34m,\u001b[0m \u001b[0mtransform\u001b[0m \u001b[0;32min\u001b[0m \u001b[0mself\u001b[0m\u001b[0;34m.\u001b[0m\u001b[0m_iter\u001b[0m\u001b[0;34m(\u001b[0m\u001b[0mwith_final\u001b[0m\u001b[0;34m=\u001b[0m\u001b[0;32mFalse\u001b[0m\u001b[0;34m)\u001b[0m\u001b[0;34m:\u001b[0m\u001b[0;34m\u001b[0m\u001b[0;34m\u001b[0m\u001b[0m\n\u001b[0;32m--> 469\u001b[0;31m             \u001b[0mXt\u001b[0m \u001b[0;34m=\u001b[0m \u001b[0mtransform\u001b[0m\u001b[0;34m.\u001b[0m\u001b[0mtransform\u001b[0m\u001b[0;34m(\u001b[0m\u001b[0mXt\u001b[0m\u001b[0;34m)\u001b[0m\u001b[0;34m\u001b[0m\u001b[0;34m\u001b[0m\u001b[0m\n\u001b[0m\u001b[1;32m    470\u001b[0m         \u001b[0;32mreturn\u001b[0m \u001b[0mself\u001b[0m\u001b[0;34m.\u001b[0m\u001b[0msteps\u001b[0m\u001b[0;34m[\u001b[0m\u001b[0;34m-\u001b[0m\u001b[0;36m1\u001b[0m\u001b[0;34m]\u001b[0m\u001b[0;34m[\u001b[0m\u001b[0;36m1\u001b[0m\u001b[0;34m]\u001b[0m\u001b[0;34m.\u001b[0m\u001b[0mpredict\u001b[0m\u001b[0;34m(\u001b[0m\u001b[0mXt\u001b[0m\u001b[0;34m,\u001b[0m \u001b[0;34m**\u001b[0m\u001b[0mpredict_params\u001b[0m\u001b[0;34m)\u001b[0m\u001b[0;34m\u001b[0m\u001b[0;34m\u001b[0m\u001b[0m\n\u001b[1;32m    471\u001b[0m \u001b[0;34m\u001b[0m\u001b[0m\n",
            "\u001b[0;32m/usr/local/lib/python3.7/dist-packages/sklearn/preprocessing/_data.py\u001b[0m in \u001b[0;36mtransform\u001b[0;34m(self, X, copy)\u001b[0m\n\u001b[1;32m    978\u001b[0m             \u001b[0mestimator\u001b[0m\u001b[0;34m=\u001b[0m\u001b[0mself\u001b[0m\u001b[0;34m,\u001b[0m\u001b[0;34m\u001b[0m\u001b[0;34m\u001b[0m\u001b[0m\n\u001b[1;32m    979\u001b[0m             \u001b[0mdtype\u001b[0m\u001b[0;34m=\u001b[0m\u001b[0mFLOAT_DTYPES\u001b[0m\u001b[0;34m,\u001b[0m\u001b[0;34m\u001b[0m\u001b[0;34m\u001b[0m\u001b[0m\n\u001b[0;32m--> 980\u001b[0;31m             \u001b[0mforce_all_finite\u001b[0m\u001b[0;34m=\u001b[0m\u001b[0;34m\"allow-nan\"\u001b[0m\u001b[0;34m,\u001b[0m\u001b[0;34m\u001b[0m\u001b[0;34m\u001b[0m\u001b[0m\n\u001b[0m\u001b[1;32m    981\u001b[0m         )\n\u001b[1;32m    982\u001b[0m \u001b[0;34m\u001b[0m\u001b[0m\n",
            "\u001b[0;32m/usr/local/lib/python3.7/dist-packages/sklearn/base.py\u001b[0m in \u001b[0;36m_validate_data\u001b[0;34m(self, X, y, reset, validate_separately, **check_params)\u001b[0m\n\u001b[1;32m    564\u001b[0m             \u001b[0;32mraise\u001b[0m \u001b[0mValueError\u001b[0m\u001b[0;34m(\u001b[0m\u001b[0;34m\"Validation should be done on X, y or both.\"\u001b[0m\u001b[0;34m)\u001b[0m\u001b[0;34m\u001b[0m\u001b[0;34m\u001b[0m\u001b[0m\n\u001b[1;32m    565\u001b[0m         \u001b[0;32melif\u001b[0m \u001b[0;32mnot\u001b[0m \u001b[0mno_val_X\u001b[0m \u001b[0;32mand\u001b[0m \u001b[0mno_val_y\u001b[0m\u001b[0;34m:\u001b[0m\u001b[0;34m\u001b[0m\u001b[0;34m\u001b[0m\u001b[0m\n\u001b[0;32m--> 566\u001b[0;31m             \u001b[0mX\u001b[0m \u001b[0;34m=\u001b[0m \u001b[0mcheck_array\u001b[0m\u001b[0;34m(\u001b[0m\u001b[0mX\u001b[0m\u001b[0;34m,\u001b[0m \u001b[0;34m**\u001b[0m\u001b[0mcheck_params\u001b[0m\u001b[0;34m)\u001b[0m\u001b[0;34m\u001b[0m\u001b[0;34m\u001b[0m\u001b[0m\n\u001b[0m\u001b[1;32m    567\u001b[0m             \u001b[0mout\u001b[0m \u001b[0;34m=\u001b[0m \u001b[0mX\u001b[0m\u001b[0;34m\u001b[0m\u001b[0;34m\u001b[0m\u001b[0m\n\u001b[1;32m    568\u001b[0m         \u001b[0;32melif\u001b[0m \u001b[0mno_val_X\u001b[0m \u001b[0;32mand\u001b[0m \u001b[0;32mnot\u001b[0m \u001b[0mno_val_y\u001b[0m\u001b[0;34m:\u001b[0m\u001b[0;34m\u001b[0m\u001b[0;34m\u001b[0m\u001b[0m\n",
            "\u001b[0;32m/usr/local/lib/python3.7/dist-packages/sklearn/utils/validation.py\u001b[0m in \u001b[0;36mcheck_array\u001b[0;34m(array, accept_sparse, accept_large_sparse, dtype, order, copy, force_all_finite, ensure_2d, allow_nd, ensure_min_samples, ensure_min_features, estimator)\u001b[0m\n\u001b[1;32m    744\u001b[0m                     \u001b[0marray\u001b[0m \u001b[0;34m=\u001b[0m \u001b[0marray\u001b[0m\u001b[0;34m.\u001b[0m\u001b[0mastype\u001b[0m\u001b[0;34m(\u001b[0m\u001b[0mdtype\u001b[0m\u001b[0;34m,\u001b[0m \u001b[0mcasting\u001b[0m\u001b[0;34m=\u001b[0m\u001b[0;34m\"unsafe\"\u001b[0m\u001b[0;34m,\u001b[0m \u001b[0mcopy\u001b[0m\u001b[0;34m=\u001b[0m\u001b[0;32mFalse\u001b[0m\u001b[0;34m)\u001b[0m\u001b[0;34m\u001b[0m\u001b[0;34m\u001b[0m\u001b[0m\n\u001b[1;32m    745\u001b[0m                 \u001b[0;32melse\u001b[0m\u001b[0;34m:\u001b[0m\u001b[0;34m\u001b[0m\u001b[0;34m\u001b[0m\u001b[0m\n\u001b[0;32m--> 746\u001b[0;31m                     \u001b[0marray\u001b[0m \u001b[0;34m=\u001b[0m \u001b[0mnp\u001b[0m\u001b[0;34m.\u001b[0m\u001b[0masarray\u001b[0m\u001b[0;34m(\u001b[0m\u001b[0marray\u001b[0m\u001b[0;34m,\u001b[0m \u001b[0morder\u001b[0m\u001b[0;34m=\u001b[0m\u001b[0morder\u001b[0m\u001b[0;34m,\u001b[0m \u001b[0mdtype\u001b[0m\u001b[0;34m=\u001b[0m\u001b[0mdtype\u001b[0m\u001b[0;34m)\u001b[0m\u001b[0;34m\u001b[0m\u001b[0;34m\u001b[0m\u001b[0m\n\u001b[0m\u001b[1;32m    747\u001b[0m             \u001b[0;32mexcept\u001b[0m \u001b[0mComplexWarning\u001b[0m \u001b[0;32mas\u001b[0m \u001b[0mcomplex_warning\u001b[0m\u001b[0;34m:\u001b[0m\u001b[0;34m\u001b[0m\u001b[0;34m\u001b[0m\u001b[0m\n\u001b[1;32m    748\u001b[0m                 raise ValueError(\n",
            "\u001b[0;32m/usr/local/lib/python3.7/dist-packages/pandas/core/generic.py\u001b[0m in \u001b[0;36m__array__\u001b[0;34m(self, dtype)\u001b[0m\n\u001b[1;32m   1991\u001b[0m \u001b[0;34m\u001b[0m\u001b[0m\n\u001b[1;32m   1992\u001b[0m     \u001b[0;32mdef\u001b[0m \u001b[0m__array__\u001b[0m\u001b[0;34m(\u001b[0m\u001b[0mself\u001b[0m\u001b[0;34m,\u001b[0m \u001b[0mdtype\u001b[0m\u001b[0;34m:\u001b[0m \u001b[0mNpDtype\u001b[0m \u001b[0;34m|\u001b[0m \u001b[0;32mNone\u001b[0m \u001b[0;34m=\u001b[0m \u001b[0;32mNone\u001b[0m\u001b[0;34m)\u001b[0m \u001b[0;34m->\u001b[0m \u001b[0mnp\u001b[0m\u001b[0;34m.\u001b[0m\u001b[0mndarray\u001b[0m\u001b[0;34m:\u001b[0m\u001b[0;34m\u001b[0m\u001b[0;34m\u001b[0m\u001b[0m\n\u001b[0;32m-> 1993\u001b[0;31m         \u001b[0;32mreturn\u001b[0m \u001b[0mnp\u001b[0m\u001b[0;34m.\u001b[0m\u001b[0masarray\u001b[0m\u001b[0;34m(\u001b[0m\u001b[0mself\u001b[0m\u001b[0;34m.\u001b[0m\u001b[0m_values\u001b[0m\u001b[0;34m,\u001b[0m \u001b[0mdtype\u001b[0m\u001b[0;34m=\u001b[0m\u001b[0mdtype\u001b[0m\u001b[0;34m)\u001b[0m\u001b[0;34m\u001b[0m\u001b[0;34m\u001b[0m\u001b[0m\n\u001b[0m\u001b[1;32m   1994\u001b[0m \u001b[0;34m\u001b[0m\u001b[0m\n\u001b[1;32m   1995\u001b[0m     def __array_wrap__(\n",
            "\u001b[0;31mTypeError\u001b[0m: float() argument must be a string or a number, not 'Timestamp'"
          ]
        }
      ],
      "source": [
        "# Accuracy: 1 if match, 0 if not. Take sum and get the average of it\n",
        "pred_y = pipeline.predict(X_test)\n",
        "\n",
        "# Add that function from the logistic regression lab:\n",
        "def compute_performance(yhat, y, classes):\n",
        "    # First, get tp, tn, fp, fn\n",
        "    tp = sum(np.logical_and(yhat == classes[1], y == classes[1]))\n",
        "    tn = sum(np.logical_and(yhat == classes[0], y == classes[0]))\n",
        "    fp = sum(np.logical_and(yhat == classes[1], y == classes[0]))\n",
        "    fn = sum(np.logical_and(yhat == classes[0], y == classes[1]))\n",
        "\n",
        "    print(f\"tp: {tp} tn: {tn} fp: {fp} fn: {fn}\")\n",
        "    \n",
        "    # Accuracy\n",
        "    acc = (tp + tn) / (tp + tn + fp + fn)\n",
        "    \n",
        "    # Precision\n",
        "    # \"Of the ones I labeled +, how many are actually +?\"\n",
        "    precision = tp / (tp + fp)\n",
        "    \n",
        "    # Recall\n",
        "    # \"Of all the + in the data, how many do I correctly label?\"\n",
        "    recall = tp / (tp + fn)    \n",
        "    \n",
        "    # Sensitivity\n",
        "    # \"Of all the + in the data, how many do I correctly label?\"\n",
        "    sensitivity = recall\n",
        "    \n",
        "    # Specificity\n",
        "    # \"Of all the - in the data, how many do I correctly label?\"\n",
        "    specificity = tn / (fp + tn)\n",
        "    \n",
        "    # Print results\n",
        "    \n",
        "    print(\"Accuracy:\",round(acc,3),\"Recall:\",round(recall,3),\"Precision:\",round(precision,3),\n",
        "          \"Sensitivity:\",round(sensitivity,3),\"Specificity:\",round(specificity,3))\n",
        "\n",
        "compute_performance(pred_y, y_test, pipeline.named_steps['logistic_regression'].classes_)\n",
        "\n",
        "\n",
        "pred_y_proba = pipeline.predict_proba(X_test)\n",
        "fpr, tpr, _ = roc_curve(y_test, pred_y_proba[:,1], pos_label=1)\n",
        "AUC = auc(fpr, tpr)\n",
        "plot_roc_curve(pipeline, X_test, y_test)\n",
        "print(\"AUC:\",AUC)"
      ]
    },
    {
      "cell_type": "markdown",
      "id": "2240e79f",
      "metadata": {
        "id": "2240e79f"
      },
      "source": [
        "<b>*Written answer:*</b>"
      ]
    }
  ],
  "metadata": {
    "colab": {
      "provenance": []
    },
    "kernelspec": {
      "display_name": "Python 3 (ipykernel)",
      "language": "python",
      "name": "python3"
    },
    "language_info": {
      "codemirror_mode": {
        "name": "ipython",
        "version": 3
      },
      "file_extension": ".py",
      "mimetype": "text/x-python",
      "name": "python",
      "nbconvert_exporter": "python",
      "pygments_lexer": "ipython3",
      "version": "3.9.7"
    }
  },
  "nbformat": 4,
  "nbformat_minor": 5
}